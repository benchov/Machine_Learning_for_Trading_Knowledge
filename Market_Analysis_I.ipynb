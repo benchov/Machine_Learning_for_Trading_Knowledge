{
  "nbformat": 4,
  "nbformat_minor": 0,
  "metadata": {
    "colab": {
      "provenance": [],
      "authorship_tag": "ABX9TyNV+gLRo0elaoBP1U2v0Xa+",
      "include_colab_link": true
    },
    "kernelspec": {
      "name": "python3",
      "display_name": "Python 3"
    },
    "language_info": {
      "name": "python"
    }
  },
  "cells": [
    {
      "cell_type": "markdown",
      "metadata": {
        "id": "view-in-github",
        "colab_type": "text"
      },
      "source": [
        "<a href=\"https://colab.research.google.com/github/benchov/Machine_Learning_for_Trading_Knowledge/blob/main/Market_Analysis_I.ipynb\" target=\"_parent\"><img src=\"https://colab.research.google.com/assets/colab-badge.svg\" alt=\"Open In Colab\"/></a>"
      ]
    },
    {
      "cell_type": "code",
      "source": [
        "!pip install kneed"
      ],
      "metadata": {
        "colab": {
          "base_uri": "https://localhost:8080/"
        },
        "id": "TwNwu7Np1XAN",
        "outputId": "c1c65d96-f489-4b4f-cc05-f610f614e51f"
      },
      "execution_count": 4,
      "outputs": [
        {
          "output_type": "stream",
          "name": "stdout",
          "text": [
            "Looking in indexes: https://pypi.org/simple, https://us-python.pkg.dev/colab-wheels/public/simple/\n",
            "Collecting kneed\n",
            "  Downloading kneed-0.8.1-py2.py3-none-any.whl (10 kB)\n",
            "Requirement already satisfied: scipy>=1.0.0 in /usr/local/lib/python3.8/dist-packages (from kneed) (1.7.3)\n",
            "Requirement already satisfied: numpy>=1.14.2 in /usr/local/lib/python3.8/dist-packages (from kneed) (1.21.6)\n",
            "Installing collected packages: kneed\n",
            "Successfully installed kneed-0.8.1\n"
          ]
        }
      ]
    },
    {
      "cell_type": "markdown",
      "source": [
        "### Market Analysis for Paper Trading\n",
        "\n"
      ],
      "metadata": {
        "id": "EyO4-uq6lMLK"
      }
    },
    {
      "cell_type": "markdown",
      "source": [
        "\n",
        "\n",
        "1.   Get Data\n",
        "2.   Filter available assets in Alpaca Market\n",
        "3.   Find Cointegrated pairs for Statistical Arbitrage\n",
        "4.   Pick cointegrated pairs and detect trend with HMM Clustering\n",
        "5.   Detect entry point, target price and stop price by the chart\n",
        "6.   Create trading report.\n",
        "\n"
      ],
      "metadata": {
        "id": "sQHYEUAOh3fp"
      }
    },
    {
      "cell_type": "markdown",
      "source": [
        "#### Imports"
      ],
      "metadata": {
        "id": "0bbQsUmFvaj3"
      }
    },
    {
      "cell_type": "code",
      "source": [
        "from datetime import date\n",
        "# remove unwanted warnings\n",
        "import warnings\n",
        "warnings.simplefilter(action='ignore', category=FutureWarning)\n",
        "\n",
        "# data extraction and management\n",
        "import numpy as np\n",
        "import pandas as pd\n",
        "from pandas_datareader import DataReader\n",
        "from pandas_datareader.nasdaq_trader  import get_nasdaq_symbols\n",
        "\n",
        "# feature engineering\n",
        "from sklearn.preprocessing import StandardScaler\n",
        "\n",
        "# machine learing related imports\n",
        "from sklearn.cluster import KMeans\n",
        "from sklearn import metrics\n",
        "from kneed import KneeLocator\n",
        "\n",
        "# cointegration and statistic\n",
        "from statsmodels.tsa.stattools import coint\n",
        "import statsmodels.api as simplefilter\n",
        "\n",
        "# reporting and visualisation\n",
        "import matplotlib.pyplot as plt\n",
        "import matplotlib.cm as cm\n",
        "%matplotlib inline"
      ],
      "metadata": {
        "id": "wqG0c4NYlSlZ"
      },
      "execution_count": 6,
      "outputs": []
    },
    {
      "cell_type": "code",
      "source": [],
      "metadata": {
        "id": "9_svWoxs04VM"
      },
      "execution_count": null,
      "outputs": []
    }
  ]
}