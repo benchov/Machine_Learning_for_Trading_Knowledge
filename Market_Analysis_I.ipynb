{
  "nbformat": 4,
  "nbformat_minor": 0,
  "metadata": {
    "colab": {
      "provenance": [],
      "toc_visible": true,
      "authorship_tag": "ABX9TyOabRSpmBRcYByZa/Irkkce",
      "include_colab_link": true
    },
    "kernelspec": {
      "name": "python3",
      "display_name": "Python 3"
    },
    "language_info": {
      "name": "python"
    }
  },
  "cells": [
    {
      "cell_type": "markdown",
      "metadata": {
        "id": "view-in-github",
        "colab_type": "text"
      },
      "source": [
        "<a href=\"https://colab.research.google.com/github/benchov/Machine_Learning_for_Trading_Knowledge/blob/main/Market_Analysis_I.ipynb\" target=\"_parent\"><img src=\"https://colab.research.google.com/assets/colab-badge.svg\" alt=\"Open In Colab\"/></a>"
      ]
    },
    {
      "cell_type": "code",
      "source": [
        "!pip install kneed\n",
        "!pip install alpaca-trade-api\n",
        "!pip install --upgrade pandas\n",
        "!pip install --upgrade pandas-datareader\n",
        "!pip install yfinance"
      ],
      "metadata": {
        "colab": {
          "base_uri": "https://localhost:8080/",
          "height": 1000
        },
        "id": "TwNwu7Np1XAN",
        "outputId": "619f0a57-968a-45f3-aef4-5c06a5a5bb27"
      },
      "execution_count": 2,
      "outputs": [
        {
          "output_type": "stream",
          "name": "stdout",
          "text": [
            "Looking in indexes: https://pypi.org/simple, https://us-python.pkg.dev/colab-wheels/public/simple/\n",
            "Collecting kneed\n",
            "  Downloading kneed-0.8.1-py2.py3-none-any.whl (10 kB)\n",
            "Requirement already satisfied: scipy>=1.0.0 in /usr/local/lib/python3.8/dist-packages (from kneed) (1.7.3)\n",
            "Requirement already satisfied: numpy>=1.14.2 in /usr/local/lib/python3.8/dist-packages (from kneed) (1.21.6)\n",
            "Installing collected packages: kneed\n",
            "Successfully installed kneed-0.8.1\n",
            "Looking in indexes: https://pypi.org/simple, https://us-python.pkg.dev/colab-wheels/public/simple/\n",
            "Collecting alpaca-trade-api\n",
            "  Downloading alpaca_trade_api-2.3.0-py3-none-any.whl (33 kB)\n",
            "Requirement already satisfied: urllib3<2,>1.24 in /usr/local/lib/python3.8/dist-packages (from alpaca-trade-api) (1.24.3)\n",
            "Collecting websockets<11,>=9.0\n",
            "  Downloading websockets-10.4-cp38-cp38-manylinux_2_5_x86_64.manylinux1_x86_64.manylinux_2_17_x86_64.manylinux2014_x86_64.whl (106 kB)\n",
            "\u001b[K     |████████████████████████████████| 106 kB 8.9 MB/s \n",
            "\u001b[?25hRequirement already satisfied: pandas>=0.18.1 in /usr/local/lib/python3.8/dist-packages (from alpaca-trade-api) (1.3.5)\n",
            "Collecting msgpack==1.0.3\n",
            "  Downloading msgpack-1.0.3-cp38-cp38-manylinux_2_17_x86_64.manylinux2014_x86_64.whl (322 kB)\n",
            "\u001b[K     |████████████████████████████████| 322 kB 49.2 MB/s \n",
            "\u001b[?25hCollecting websocket-client<2,>=0.56.0\n",
            "  Downloading websocket_client-1.4.2-py3-none-any.whl (55 kB)\n",
            "\u001b[K     |████████████████████████████████| 55 kB 3.7 MB/s \n",
            "\u001b[?25hRequirement already satisfied: numpy>=1.11.1 in /usr/local/lib/python3.8/dist-packages (from alpaca-trade-api) (1.21.6)\n",
            "Collecting aiohttp==3.8.1\n",
            "  Downloading aiohttp-3.8.1-cp38-cp38-manylinux_2_5_x86_64.manylinux1_x86_64.manylinux_2_12_x86_64.manylinux2010_x86_64.whl (1.3 MB)\n",
            "\u001b[K     |████████████████████████████████| 1.3 MB 65.2 MB/s \n",
            "\u001b[?25hCollecting deprecation==2.1.0\n",
            "  Downloading deprecation-2.1.0-py2.py3-none-any.whl (11 kB)\n",
            "Requirement already satisfied: requests<3,>2 in /usr/local/lib/python3.8/dist-packages (from alpaca-trade-api) (2.23.0)\n",
            "Requirement already satisfied: PyYAML==6.0 in /usr/local/lib/python3.8/dist-packages (from alpaca-trade-api) (6.0)\n",
            "Requirement already satisfied: charset-normalizer<3.0,>=2.0 in /usr/local/lib/python3.8/dist-packages (from aiohttp==3.8.1->alpaca-trade-api) (2.1.1)\n",
            "Requirement already satisfied: async-timeout<5.0,>=4.0.0a3 in /usr/local/lib/python3.8/dist-packages (from aiohttp==3.8.1->alpaca-trade-api) (4.0.2)\n",
            "Requirement already satisfied: attrs>=17.3.0 in /usr/local/lib/python3.8/dist-packages (from aiohttp==3.8.1->alpaca-trade-api) (22.1.0)\n",
            "Requirement already satisfied: aiosignal>=1.1.2 in /usr/local/lib/python3.8/dist-packages (from aiohttp==3.8.1->alpaca-trade-api) (1.3.1)\n",
            "Requirement already satisfied: multidict<7.0,>=4.5 in /usr/local/lib/python3.8/dist-packages (from aiohttp==3.8.1->alpaca-trade-api) (6.0.3)\n",
            "Requirement already satisfied: yarl<2.0,>=1.0 in /usr/local/lib/python3.8/dist-packages (from aiohttp==3.8.1->alpaca-trade-api) (1.8.2)\n",
            "Requirement already satisfied: frozenlist>=1.1.1 in /usr/local/lib/python3.8/dist-packages (from aiohttp==3.8.1->alpaca-trade-api) (1.3.3)\n",
            "Requirement already satisfied: packaging in /usr/local/lib/python3.8/dist-packages (from deprecation==2.1.0->alpaca-trade-api) (21.3)\n",
            "Requirement already satisfied: python-dateutil>=2.7.3 in /usr/local/lib/python3.8/dist-packages (from pandas>=0.18.1->alpaca-trade-api) (2.8.2)\n",
            "Requirement already satisfied: pytz>=2017.3 in /usr/local/lib/python3.8/dist-packages (from pandas>=0.18.1->alpaca-trade-api) (2022.6)\n",
            "Requirement already satisfied: six>=1.5 in /usr/local/lib/python3.8/dist-packages (from python-dateutil>=2.7.3->pandas>=0.18.1->alpaca-trade-api) (1.15.0)\n",
            "Requirement already satisfied: idna<3,>=2.5 in /usr/local/lib/python3.8/dist-packages (from requests<3,>2->alpaca-trade-api) (2.10)\n",
            "Requirement already satisfied: chardet<4,>=3.0.2 in /usr/local/lib/python3.8/dist-packages (from requests<3,>2->alpaca-trade-api) (3.0.4)\n",
            "Requirement already satisfied: certifi>=2017.4.17 in /usr/local/lib/python3.8/dist-packages (from requests<3,>2->alpaca-trade-api) (2022.12.7)\n",
            "Requirement already satisfied: pyparsing!=3.0.5,>=2.0.2 in /usr/local/lib/python3.8/dist-packages (from packaging->deprecation==2.1.0->alpaca-trade-api) (3.0.9)\n",
            "Installing collected packages: websockets, websocket-client, msgpack, deprecation, aiohttp, alpaca-trade-api\n",
            "  Attempting uninstall: msgpack\n",
            "    Found existing installation: msgpack 1.0.4\n",
            "    Uninstalling msgpack-1.0.4:\n",
            "      Successfully uninstalled msgpack-1.0.4\n",
            "  Attempting uninstall: aiohttp\n",
            "    Found existing installation: aiohttp 3.8.3\n",
            "    Uninstalling aiohttp-3.8.3:\n",
            "      Successfully uninstalled aiohttp-3.8.3\n",
            "Successfully installed aiohttp-3.8.1 alpaca-trade-api-2.3.0 deprecation-2.1.0 msgpack-1.0.3 websocket-client-1.4.2 websockets-10.4\n",
            "Looking in indexes: https://pypi.org/simple, https://us-python.pkg.dev/colab-wheels/public/simple/\n",
            "Requirement already satisfied: pandas in /usr/local/lib/python3.8/dist-packages (1.3.5)\n",
            "Collecting pandas\n",
            "  Downloading pandas-1.5.2-cp38-cp38-manylinux_2_17_x86_64.manylinux2014_x86_64.whl (12.2 MB)\n",
            "\u001b[K     |████████████████████████████████| 12.2 MB 5.2 MB/s \n",
            "\u001b[?25hRequirement already satisfied: python-dateutil>=2.8.1 in /usr/local/lib/python3.8/dist-packages (from pandas) (2.8.2)\n",
            "Requirement already satisfied: pytz>=2020.1 in /usr/local/lib/python3.8/dist-packages (from pandas) (2022.6)\n",
            "Requirement already satisfied: numpy>=1.20.3 in /usr/local/lib/python3.8/dist-packages (from pandas) (1.21.6)\n",
            "Requirement already satisfied: six>=1.5 in /usr/local/lib/python3.8/dist-packages (from python-dateutil>=2.8.1->pandas) (1.15.0)\n",
            "Installing collected packages: pandas\n",
            "  Attempting uninstall: pandas\n",
            "    Found existing installation: pandas 1.3.5\n",
            "    Uninstalling pandas-1.3.5:\n",
            "      Successfully uninstalled pandas-1.3.5\n",
            "Successfully installed pandas-1.5.2\n"
          ]
        },
        {
          "output_type": "display_data",
          "data": {
            "application/vnd.colab-display-data+json": {
              "pip_warning": {
                "packages": [
                  "pandas"
                ]
              }
            }
          },
          "metadata": {}
        },
        {
          "output_type": "stream",
          "name": "stdout",
          "text": [
            "Looking in indexes: https://pypi.org/simple, https://us-python.pkg.dev/colab-wheels/public/simple/\n",
            "Requirement already satisfied: pandas-datareader in /usr/local/lib/python3.8/dist-packages (0.9.0)\n",
            "Collecting pandas-datareader\n",
            "  Downloading pandas_datareader-0.10.0-py3-none-any.whl (109 kB)\n",
            "\u001b[K     |████████████████████████████████| 109 kB 5.5 MB/s \n",
            "\u001b[?25hRequirement already satisfied: lxml in /usr/local/lib/python3.8/dist-packages (from pandas-datareader) (4.9.2)\n",
            "Requirement already satisfied: requests>=2.19.0 in /usr/local/lib/python3.8/dist-packages (from pandas-datareader) (2.23.0)\n",
            "Requirement already satisfied: pandas>=0.23 in /usr/local/lib/python3.8/dist-packages (from pandas-datareader) (1.5.2)\n",
            "Requirement already satisfied: pytz>=2020.1 in /usr/local/lib/python3.8/dist-packages (from pandas>=0.23->pandas-datareader) (2022.6)\n",
            "Requirement already satisfied: numpy>=1.20.3 in /usr/local/lib/python3.8/dist-packages (from pandas>=0.23->pandas-datareader) (1.21.6)\n",
            "Requirement already satisfied: python-dateutil>=2.8.1 in /usr/local/lib/python3.8/dist-packages (from pandas>=0.23->pandas-datareader) (2.8.2)\n",
            "Requirement already satisfied: six>=1.5 in /usr/local/lib/python3.8/dist-packages (from python-dateutil>=2.8.1->pandas>=0.23->pandas-datareader) (1.15.0)\n",
            "Requirement already satisfied: urllib3!=1.25.0,!=1.25.1,<1.26,>=1.21.1 in /usr/local/lib/python3.8/dist-packages (from requests>=2.19.0->pandas-datareader) (1.24.3)\n",
            "Requirement already satisfied: certifi>=2017.4.17 in /usr/local/lib/python3.8/dist-packages (from requests>=2.19.0->pandas-datareader) (2022.12.7)\n",
            "Requirement already satisfied: idna<3,>=2.5 in /usr/local/lib/python3.8/dist-packages (from requests>=2.19.0->pandas-datareader) (2.10)\n",
            "Requirement already satisfied: chardet<4,>=3.0.2 in /usr/local/lib/python3.8/dist-packages (from requests>=2.19.0->pandas-datareader) (3.0.4)\n",
            "Installing collected packages: pandas-datareader\n",
            "  Attempting uninstall: pandas-datareader\n",
            "    Found existing installation: pandas-datareader 0.9.0\n",
            "    Uninstalling pandas-datareader-0.9.0:\n",
            "      Successfully uninstalled pandas-datareader-0.9.0\n",
            "Successfully installed pandas-datareader-0.10.0\n",
            "Looking in indexes: https://pypi.org/simple, https://us-python.pkg.dev/colab-wheels/public/simple/\n",
            "Collecting yfinance\n",
            "  Downloading yfinance-0.2.3-py2.py3-none-any.whl (50 kB)\n",
            "\u001b[K     |████████████████████████████████| 50 kB 3.1 MB/s \n",
            "\u001b[?25hRequirement already satisfied: pandas>=1.3.0 in /usr/local/lib/python3.8/dist-packages (from yfinance) (1.5.2)\n",
            "Requirement already satisfied: lxml>=4.9.1 in /usr/local/lib/python3.8/dist-packages (from yfinance) (4.9.2)\n",
            "Collecting requests>=2.26\n",
            "  Downloading requests-2.28.1-py3-none-any.whl (62 kB)\n",
            "\u001b[K     |████████████████████████████████| 62 kB 1.1 MB/s \n",
            "\u001b[?25hCollecting frozendict>=2.3.4\n",
            "  Downloading frozendict-2.3.4-cp38-cp38-manylinux_2_17_x86_64.manylinux2014_x86_64.whl (110 kB)\n",
            "\u001b[K     |████████████████████████████████| 110 kB 39.2 MB/s \n",
            "\u001b[?25hCollecting cryptography>=3.3.2\n",
            "  Downloading cryptography-38.0.4-cp36-abi3-manylinux_2_24_x86_64.whl (4.0 MB)\n",
            "\u001b[K     |████████████████████████████████| 4.0 MB 66.9 MB/s \n",
            "\u001b[?25hRequirement already satisfied: multitasking>=0.0.7 in /usr/local/lib/python3.8/dist-packages (from yfinance) (0.0.11)\n",
            "Requirement already satisfied: appdirs>=1.4.4 in /usr/local/lib/python3.8/dist-packages (from yfinance) (1.4.4)\n",
            "Requirement already satisfied: pytz>=2022.5 in /usr/local/lib/python3.8/dist-packages (from yfinance) (2022.6)\n",
            "Collecting html5lib>=1.1\n",
            "  Downloading html5lib-1.1-py2.py3-none-any.whl (112 kB)\n",
            "\u001b[K     |████████████████████████████████| 112 kB 63.6 MB/s \n",
            "\u001b[?25hRequirement already satisfied: numpy>=1.16.5 in /usr/local/lib/python3.8/dist-packages (from yfinance) (1.21.6)\n",
            "Collecting beautifulsoup4>=4.11.1\n",
            "  Downloading beautifulsoup4-4.11.1-py3-none-any.whl (128 kB)\n",
            "\u001b[K     |████████████████████████████████| 128 kB 63.3 MB/s \n",
            "\u001b[?25hCollecting soupsieve>1.2\n",
            "  Downloading soupsieve-2.3.2.post1-py3-none-any.whl (37 kB)\n",
            "Requirement already satisfied: cffi>=1.12 in /usr/local/lib/python3.8/dist-packages (from cryptography>=3.3.2->yfinance) (1.15.1)\n",
            "Requirement already satisfied: pycparser in /usr/local/lib/python3.8/dist-packages (from cffi>=1.12->cryptography>=3.3.2->yfinance) (2.21)\n",
            "Requirement already satisfied: six>=1.9 in /usr/local/lib/python3.8/dist-packages (from html5lib>=1.1->yfinance) (1.15.0)\n",
            "Requirement already satisfied: webencodings in /usr/local/lib/python3.8/dist-packages (from html5lib>=1.1->yfinance) (0.5.1)\n",
            "Requirement already satisfied: python-dateutil>=2.8.1 in /usr/local/lib/python3.8/dist-packages (from pandas>=1.3.0->yfinance) (2.8.2)\n",
            "Requirement already satisfied: certifi>=2017.4.17 in /usr/local/lib/python3.8/dist-packages (from requests>=2.26->yfinance) (2022.12.7)\n",
            "Requirement already satisfied: idna<4,>=2.5 in /usr/local/lib/python3.8/dist-packages (from requests>=2.26->yfinance) (2.10)\n",
            "Requirement already satisfied: urllib3<1.27,>=1.21.1 in /usr/local/lib/python3.8/dist-packages (from requests>=2.26->yfinance) (1.24.3)\n",
            "Requirement already satisfied: charset-normalizer<3,>=2 in /usr/local/lib/python3.8/dist-packages (from requests>=2.26->yfinance) (2.1.1)\n",
            "Installing collected packages: soupsieve, requests, html5lib, frozendict, cryptography, beautifulsoup4, yfinance\n",
            "  Attempting uninstall: requests\n",
            "    Found existing installation: requests 2.23.0\n",
            "    Uninstalling requests-2.23.0:\n",
            "      Successfully uninstalled requests-2.23.0\n",
            "  Attempting uninstall: html5lib\n",
            "    Found existing installation: html5lib 1.0.1\n",
            "    Uninstalling html5lib-1.0.1:\n",
            "      Successfully uninstalled html5lib-1.0.1\n",
            "  Attempting uninstall: beautifulsoup4\n",
            "    Found existing installation: beautifulsoup4 4.6.3\n",
            "    Uninstalling beautifulsoup4-4.6.3:\n",
            "      Successfully uninstalled beautifulsoup4-4.6.3\n",
            "Successfully installed beautifulsoup4-4.11.1 cryptography-38.0.4 frozendict-2.3.4 html5lib-1.1 requests-2.28.1 soupsieve-2.3.2.post1 yfinance-0.2.3\n"
          ]
        },
        {
          "output_type": "display_data",
          "data": {
            "application/vnd.colab-display-data+json": {
              "pip_warning": {
                "packages": [
                  "requests"
                ]
              }
            }
          },
          "metadata": {}
        }
      ]
    },
    {
      "cell_type": "markdown",
      "source": [
        "### Market Analysis for Paper Trading\n",
        "\n"
      ],
      "metadata": {
        "id": "EyO4-uq6lMLK"
      }
    },
    {
      "cell_type": "markdown",
      "source": [
        "\n",
        "0.   Connect to the market data provider api\n",
        "1.   Get Data\n",
        "2.   Filter available assets in Alpaca Market\n",
        "3.   Find Cointegrated pairs for Statistical Arbitrage\n",
        "4.   Pick cointegrated pairs and detect trend with HMM Clustering\n",
        "5.   Detect entry point, target price and stop price by the chart\n",
        "6.   Create trading report.\n",
        "\n"
      ],
      "metadata": {
        "id": "sQHYEUAOh3fp"
      }
    },
    {
      "cell_type": "markdown",
      "source": [
        "#### Imports"
      ],
      "metadata": {
        "id": "0bbQsUmFvaj3"
      }
    },
    {
      "cell_type": "code",
      "source": [
        "from datetime import datetime\n",
        "# remove unwanted warnings\n",
        "import warnings\n",
        "warnings.simplefilter(action='ignore', category=FutureWarning)\n",
        "\n",
        "# data extraction and management\n",
        "import numpy as np\n",
        "import pandas as pd\n",
        "from pandas_datareader import DataReader\n",
        "from pandas_datareader.nasdaq_trader  import get_nasdaq_symbols\n",
        "\n",
        "# feature engineering\n",
        "from sklearn.preprocessing import StandardScaler\n",
        "\n",
        "# machine learing related imports\n",
        "from sklearn.cluster import KMeans\n",
        "from sklearn import metrics\n",
        "from kneed import KneeLocator\n",
        "\n",
        "# cointegration and statistic\n",
        "from statsmodels.tsa.stattools import coint\n",
        "import statsmodels.api as simplefilter\n",
        "\n",
        "# reporting and visualisation\n",
        "import matplotlib.pyplot as plt\n",
        "import matplotlib.cm as cm\n",
        "%matplotlib inline\n",
        "\n",
        "# market data\n",
        "import alpaca_trade_api as alpaca\n",
        "import yfinance as yf"
      ],
      "metadata": {
        "id": "wqG0c4NYlSlZ"
      },
      "execution_count": 3,
      "outputs": []
    },
    {
      "cell_type": "markdown",
      "source": [
        "#### Connect to the market data provider"
      ],
      "metadata": {
        "id": "NlSNLONohc3r"
      }
    },
    {
      "cell_type": "code",
      "source": [
        "key_id = 'PK2SRTQLRWP8YCAE2PWS'\n",
        "secret_key = 'q7O27KSdkMxa0SRzgIz7kJNnzKF2rOkCSXxSEofo'\n"
      ],
      "metadata": {
        "id": "ynly9YoLfDrE"
      },
      "execution_count": 4,
      "outputs": []
    },
    {
      "cell_type": "code",
      "source": [
        "api = alpaca.REST(key_id, secret_key, 'https://paper-api.alpaca.markets')\n",
        "# api.get_account()"
      ],
      "metadata": {
        "colab": {
          "base_uri": "https://localhost:8080/"
        },
        "id": "YglCe2VPhatG",
        "outputId": "7902bce7-8f9b-4208-f4a1-96816a139e52"
      },
      "execution_count": 5,
      "outputs": [
        {
          "output_type": "execute_result",
          "data": {
            "text/plain": [
              "Account({   'account_blocked': False,\n",
              "    'account_number': 'PA3OJP423MLE',\n",
              "    'accrued_fees': '0',\n",
              "    'balance_asof': '2022-12-27',\n",
              "    'bod_dtbp': '0',\n",
              "    'buying_power': '200000',\n",
              "    'cash': '100000',\n",
              "    'created_at': '2022-12-22T19:56:32.073526Z',\n",
              "    'crypto_status': 'ACTIVE',\n",
              "    'crypto_tier': 0,\n",
              "    'currency': 'USD',\n",
              "    'daytrade_count': 0,\n",
              "    'daytrading_buying_power': '0',\n",
              "    'effective_buying_power': '200000',\n",
              "    'equity': '100000',\n",
              "    'id': 'd38ec6c2-a23b-4708-a064-cda26744e218',\n",
              "    'initial_margin': '0',\n",
              "    'last_equity': '100000',\n",
              "    'last_maintenance_margin': '0',\n",
              "    'long_market_value': '0',\n",
              "    'maintenance_margin': '0',\n",
              "    'multiplier': '2',\n",
              "    'non_marginable_buying_power': '100000',\n",
              "    'pattern_day_trader': False,\n",
              "    'pending_transfer_in': '0',\n",
              "    'portfolio_value': '100000',\n",
              "    'position_market_value': '0',\n",
              "    'regt_buying_power': '200000',\n",
              "    'short_market_value': '0',\n",
              "    'shorting_enabled': True,\n",
              "    'sma': '100000',\n",
              "    'status': 'ACTIVE',\n",
              "    'trade_suspended_by_user': False,\n",
              "    'trading_blocked': False,\n",
              "    'transfers_blocked': False})"
            ]
          },
          "metadata": {},
          "execution_count": 5
        }
      ]
    },
    {
      "cell_type": "markdown",
      "source": [
        "#### Get Data"
      ],
      "metadata": {
        "id": "bCZBICXQw_ZM"
      }
    },
    {
      "cell_type": "code",
      "source": [
        "# get list of available stocks \n",
        "asset_list =api.list_assets()\n",
        "asset_list = [asset.symbol for asset in asset_list if (asset.status == 'active') & (asset.exchange =='OTC')]\n",
        "len(asset_list), asset_list[:10]"
      ],
      "metadata": {
        "colab": {
          "base_uri": "https://localhost:8080/"
        },
        "id": "D3LlCUfokuYx",
        "outputId": "fde09f6b-b66c-4b10-ba0a-f3009ad81e17"
      },
      "execution_count": 6,
      "outputs": [
        {
          "output_type": "execute_result",
          "data": {
            "text/plain": [
              "(397,\n",
              " ['NPNYY',\n",
              "  'POAHY',\n",
              "  'CTKYY',\n",
              "  'QNGYQ',\n",
              "  'RENO',\n",
              "  'REVRQ',\n",
              "  'ACHHY',\n",
              "  'RKUNY',\n",
              "  'RMRHF',\n",
              "  'RVIC'])"
            ]
          },
          "metadata": {},
          "execution_count": 6
        }
      ]
    },
    {
      "cell_type": "markdown",
      "source": [],
      "metadata": {
        "id": "K4PQLvyPa5BF"
      }
    },
    {
      "cell_type": "code",
      "source": [
        "start_date = '2017-01-01'\n",
        "end_date = '2022-12-27'\n",
        "data = yf.download(asset_list, start_date, end_date)\n",
        "data = data['Adj Close']"
      ],
      "metadata": {
        "colab": {
          "base_uri": "https://localhost:8080/"
        },
        "id": "9_svWoxs04VM",
        "outputId": "9edf7e58-b165-4683-e0a5-276148ca54cc"
      },
      "execution_count": 7,
      "outputs": [
        {
          "output_type": "stream",
          "name": "stdout",
          "text": [
            "[*********************100%***********************]  397 of 397 completed\n",
            "\n",
            "19 Failed downloads:\n",
            "- JBINF: No timezone found, symbol may be delisted\n",
            "- ELNBF: No timezone found, symbol may be delisted\n",
            "- OGZPY: No timezone found, symbol may be delisted\n",
            "- AVISF: No timezone found, symbol may be delisted\n",
            "- NWFFF: No timezone found, symbol may be delisted\n",
            "- GGENU: No timezone found, symbol may be delisted\n",
            "- URRND: No timezone found, symbol may be delisted\n",
            "- TMPLS: No timezone found, symbol may be delisted\n",
            "- HNPIY: No timezone found, symbol may be delisted\n",
            "- AKRBY: No timezone found, symbol may be delisted\n",
            "- VRCFD: Period 'max' is invalid, must be one of ['1d', '5d']\n",
            "- TSLVF: Period 'max' is invalid, must be one of ['1d', '5d']\n",
            "- LAIXY: No timezone found, symbol may be delisted\n",
            "- DBDRF: No timezone found, symbol may be delisted\n",
            "- SQBGQ: No timezone found, symbol may be delisted\n",
            "- ORPHY: No timezone found, symbol may be delisted\n",
            "- SRRRF: No timezone found, symbol may be delisted\n",
            "- ACMSY: No timezone found, symbol may be delisted\n",
            "- DOMVF: No timezone found, symbol may be delisted\n"
          ]
        }
      ]
    },
    {
      "cell_type": "markdown",
      "source": [
        "#### Clear Data"
      ],
      "metadata": {
        "id": "7wCz5XnvxI6f"
      }
    },
    {
      "cell_type": "code",
      "source": [
        "data.dropna(inplace=True, axis=1)\n",
        "data.head()"
      ],
      "metadata": {
        "colab": {
          "base_uri": "https://localhost:8080/",
          "height": 504
        },
        "id": "hp9mc-BXsRbD",
        "outputId": "91c9bb6e-668c-45f3-8843-a5b4f4db38bf"
      },
      "execution_count": 8,
      "outputs": [
        {
          "output_type": "execute_result",
          "data": {
            "text/plain": [
              "                         AAGIY     ACGBY      ACHHY      ACKAY      ADDYY  \\\n",
              "Date                                                                        \n",
              "2017-01-03 00:00:00  20.554806  6.982244  10.201818  23.594398  72.392570   \n",
              "2017-01-04 00:00:00  20.554806  6.995684  10.399336  23.594398  71.328384   \n",
              "2017-01-05 00:00:00  21.083021  6.941924  10.646234  21.984613  71.365715   \n",
              "2017-01-06 00:00:00  21.192308  7.042726  10.438839  21.392782  71.291031   \n",
              "2017-01-09 00:00:00  21.474627  7.056165  10.241322  21.455914  71.151016   \n",
              "\n",
              "                         ADRNY          ADXS      AFIIQ      AGESY      AHKSY  \\\n",
              "Date                                                                            \n",
              "2017-01-03 00:00:00  17.548058   8987.955078  20.299999  27.206772  17.440001   \n",
              "2017-01-04 00:00:00  17.480629   9527.952148  20.480000  27.574619  17.650000   \n",
              "2017-01-05 00:00:00  17.505913   9455.953125  19.950001  27.370260  17.580000   \n",
              "2017-01-06 00:00:00  17.337343   9875.950195  20.139999  27.608677  17.400000   \n",
              "2017-01-09 00:00:00  17.480629  10103.949219  19.750000  27.588242  17.400000   \n",
              "\n",
              "                     ...  VYBED      WEGRY     WEICY     WFAFY      WHGLY  \\\n",
              "Date                 ...                                                    \n",
              "2017-01-03 00:00:00  ...    3.0  10.358674  2.565440  8.619226  13.342134   \n",
              "2017-01-04 00:00:00  ...    3.0  10.302022  2.645609  8.365231  13.383826   \n",
              "2017-01-05 00:00:00  ...    3.0  10.389181  2.715501  8.409404  13.367149   \n",
              "2017-01-06 00:00:00  ...    3.0  10.476336  2.672333  8.403883  13.400505   \n",
              "2017-01-09 00:00:00  ...    3.0  10.432757  2.676444  8.624747  13.283761   \n",
              "\n",
              "                         WMMVY      YARIY     YZCAY      ZLNDY      ZURVY  \n",
              "Date                                                                       \n",
              "2017-01-03 00:00:00  15.112578  14.154365  4.217707  19.219999  19.784374  \n",
              "2017-01-04 00:00:00  14.866221  14.288764  4.273943  18.740000  19.763056  \n",
              "2017-01-05 00:00:00  14.747292  14.748549  4.423905  18.740000  20.097061  \n",
              "2017-01-06 00:00:00  14.594383  14.607077  4.317682  19.570000  19.919399  \n",
              "2017-01-09 00:00:00  14.254582  14.568172  4.342676  19.570000  19.869652  \n",
              "\n",
              "[5 rows x 295 columns]"
            ],
            "text/html": [
              "\n",
              "  <div id=\"df-6bc04f94-0a0d-4d04-9abe-a06c2ef508f0\">\n",
              "    <div class=\"colab-df-container\">\n",
              "      <div>\n",
              "<style scoped>\n",
              "    .dataframe tbody tr th:only-of-type {\n",
              "        vertical-align: middle;\n",
              "    }\n",
              "\n",
              "    .dataframe tbody tr th {\n",
              "        vertical-align: top;\n",
              "    }\n",
              "\n",
              "    .dataframe thead th {\n",
              "        text-align: right;\n",
              "    }\n",
              "</style>\n",
              "<table border=\"1\" class=\"dataframe\">\n",
              "  <thead>\n",
              "    <tr style=\"text-align: right;\">\n",
              "      <th></th>\n",
              "      <th>AAGIY</th>\n",
              "      <th>ACGBY</th>\n",
              "      <th>ACHHY</th>\n",
              "      <th>ACKAY</th>\n",
              "      <th>ADDYY</th>\n",
              "      <th>ADRNY</th>\n",
              "      <th>ADXS</th>\n",
              "      <th>AFIIQ</th>\n",
              "      <th>AGESY</th>\n",
              "      <th>AHKSY</th>\n",
              "      <th>...</th>\n",
              "      <th>VYBED</th>\n",
              "      <th>WEGRY</th>\n",
              "      <th>WEICY</th>\n",
              "      <th>WFAFY</th>\n",
              "      <th>WHGLY</th>\n",
              "      <th>WMMVY</th>\n",
              "      <th>YARIY</th>\n",
              "      <th>YZCAY</th>\n",
              "      <th>ZLNDY</th>\n",
              "      <th>ZURVY</th>\n",
              "    </tr>\n",
              "    <tr>\n",
              "      <th>Date</th>\n",
              "      <th></th>\n",
              "      <th></th>\n",
              "      <th></th>\n",
              "      <th></th>\n",
              "      <th></th>\n",
              "      <th></th>\n",
              "      <th></th>\n",
              "      <th></th>\n",
              "      <th></th>\n",
              "      <th></th>\n",
              "      <th></th>\n",
              "      <th></th>\n",
              "      <th></th>\n",
              "      <th></th>\n",
              "      <th></th>\n",
              "      <th></th>\n",
              "      <th></th>\n",
              "      <th></th>\n",
              "      <th></th>\n",
              "      <th></th>\n",
              "      <th></th>\n",
              "    </tr>\n",
              "  </thead>\n",
              "  <tbody>\n",
              "    <tr>\n",
              "      <th>2017-01-03 00:00:00</th>\n",
              "      <td>20.554806</td>\n",
              "      <td>6.982244</td>\n",
              "      <td>10.201818</td>\n",
              "      <td>23.594398</td>\n",
              "      <td>72.392570</td>\n",
              "      <td>17.548058</td>\n",
              "      <td>8987.955078</td>\n",
              "      <td>20.299999</td>\n",
              "      <td>27.206772</td>\n",
              "      <td>17.440001</td>\n",
              "      <td>...</td>\n",
              "      <td>3.0</td>\n",
              "      <td>10.358674</td>\n",
              "      <td>2.565440</td>\n",
              "      <td>8.619226</td>\n",
              "      <td>13.342134</td>\n",
              "      <td>15.112578</td>\n",
              "      <td>14.154365</td>\n",
              "      <td>4.217707</td>\n",
              "      <td>19.219999</td>\n",
              "      <td>19.784374</td>\n",
              "    </tr>\n",
              "    <tr>\n",
              "      <th>2017-01-04 00:00:00</th>\n",
              "      <td>20.554806</td>\n",
              "      <td>6.995684</td>\n",
              "      <td>10.399336</td>\n",
              "      <td>23.594398</td>\n",
              "      <td>71.328384</td>\n",
              "      <td>17.480629</td>\n",
              "      <td>9527.952148</td>\n",
              "      <td>20.480000</td>\n",
              "      <td>27.574619</td>\n",
              "      <td>17.650000</td>\n",
              "      <td>...</td>\n",
              "      <td>3.0</td>\n",
              "      <td>10.302022</td>\n",
              "      <td>2.645609</td>\n",
              "      <td>8.365231</td>\n",
              "      <td>13.383826</td>\n",
              "      <td>14.866221</td>\n",
              "      <td>14.288764</td>\n",
              "      <td>4.273943</td>\n",
              "      <td>18.740000</td>\n",
              "      <td>19.763056</td>\n",
              "    </tr>\n",
              "    <tr>\n",
              "      <th>2017-01-05 00:00:00</th>\n",
              "      <td>21.083021</td>\n",
              "      <td>6.941924</td>\n",
              "      <td>10.646234</td>\n",
              "      <td>21.984613</td>\n",
              "      <td>71.365715</td>\n",
              "      <td>17.505913</td>\n",
              "      <td>9455.953125</td>\n",
              "      <td>19.950001</td>\n",
              "      <td>27.370260</td>\n",
              "      <td>17.580000</td>\n",
              "      <td>...</td>\n",
              "      <td>3.0</td>\n",
              "      <td>10.389181</td>\n",
              "      <td>2.715501</td>\n",
              "      <td>8.409404</td>\n",
              "      <td>13.367149</td>\n",
              "      <td>14.747292</td>\n",
              "      <td>14.748549</td>\n",
              "      <td>4.423905</td>\n",
              "      <td>18.740000</td>\n",
              "      <td>20.097061</td>\n",
              "    </tr>\n",
              "    <tr>\n",
              "      <th>2017-01-06 00:00:00</th>\n",
              "      <td>21.192308</td>\n",
              "      <td>7.042726</td>\n",
              "      <td>10.438839</td>\n",
              "      <td>21.392782</td>\n",
              "      <td>71.291031</td>\n",
              "      <td>17.337343</td>\n",
              "      <td>9875.950195</td>\n",
              "      <td>20.139999</td>\n",
              "      <td>27.608677</td>\n",
              "      <td>17.400000</td>\n",
              "      <td>...</td>\n",
              "      <td>3.0</td>\n",
              "      <td>10.476336</td>\n",
              "      <td>2.672333</td>\n",
              "      <td>8.403883</td>\n",
              "      <td>13.400505</td>\n",
              "      <td>14.594383</td>\n",
              "      <td>14.607077</td>\n",
              "      <td>4.317682</td>\n",
              "      <td>19.570000</td>\n",
              "      <td>19.919399</td>\n",
              "    </tr>\n",
              "    <tr>\n",
              "      <th>2017-01-09 00:00:00</th>\n",
              "      <td>21.474627</td>\n",
              "      <td>7.056165</td>\n",
              "      <td>10.241322</td>\n",
              "      <td>21.455914</td>\n",
              "      <td>71.151016</td>\n",
              "      <td>17.480629</td>\n",
              "      <td>10103.949219</td>\n",
              "      <td>19.750000</td>\n",
              "      <td>27.588242</td>\n",
              "      <td>17.400000</td>\n",
              "      <td>...</td>\n",
              "      <td>3.0</td>\n",
              "      <td>10.432757</td>\n",
              "      <td>2.676444</td>\n",
              "      <td>8.624747</td>\n",
              "      <td>13.283761</td>\n",
              "      <td>14.254582</td>\n",
              "      <td>14.568172</td>\n",
              "      <td>4.342676</td>\n",
              "      <td>19.570000</td>\n",
              "      <td>19.869652</td>\n",
              "    </tr>\n",
              "  </tbody>\n",
              "</table>\n",
              "<p>5 rows × 295 columns</p>\n",
              "</div>\n",
              "      <button class=\"colab-df-convert\" onclick=\"convertToInteractive('df-6bc04f94-0a0d-4d04-9abe-a06c2ef508f0')\"\n",
              "              title=\"Convert this dataframe to an interactive table.\"\n",
              "              style=\"display:none;\">\n",
              "        \n",
              "  <svg xmlns=\"http://www.w3.org/2000/svg\" height=\"24px\"viewBox=\"0 0 24 24\"\n",
              "       width=\"24px\">\n",
              "    <path d=\"M0 0h24v24H0V0z\" fill=\"none\"/>\n",
              "    <path d=\"M18.56 5.44l.94 2.06.94-2.06 2.06-.94-2.06-.94-.94-2.06-.94 2.06-2.06.94zm-11 1L8.5 8.5l.94-2.06 2.06-.94-2.06-.94L8.5 2.5l-.94 2.06-2.06.94zm10 10l.94 2.06.94-2.06 2.06-.94-2.06-.94-.94-2.06-.94 2.06-2.06.94z\"/><path d=\"M17.41 7.96l-1.37-1.37c-.4-.4-.92-.59-1.43-.59-.52 0-1.04.2-1.43.59L10.3 9.45l-7.72 7.72c-.78.78-.78 2.05 0 2.83L4 21.41c.39.39.9.59 1.41.59.51 0 1.02-.2 1.41-.59l7.78-7.78 2.81-2.81c.8-.78.8-2.07 0-2.86zM5.41 20L4 18.59l7.72-7.72 1.47 1.35L5.41 20z\"/>\n",
              "  </svg>\n",
              "      </button>\n",
              "      \n",
              "  <style>\n",
              "    .colab-df-container {\n",
              "      display:flex;\n",
              "      flex-wrap:wrap;\n",
              "      gap: 12px;\n",
              "    }\n",
              "\n",
              "    .colab-df-convert {\n",
              "      background-color: #E8F0FE;\n",
              "      border: none;\n",
              "      border-radius: 50%;\n",
              "      cursor: pointer;\n",
              "      display: none;\n",
              "      fill: #1967D2;\n",
              "      height: 32px;\n",
              "      padding: 0 0 0 0;\n",
              "      width: 32px;\n",
              "    }\n",
              "\n",
              "    .colab-df-convert:hover {\n",
              "      background-color: #E2EBFA;\n",
              "      box-shadow: 0px 1px 2px rgba(60, 64, 67, 0.3), 0px 1px 3px 1px rgba(60, 64, 67, 0.15);\n",
              "      fill: #174EA6;\n",
              "    }\n",
              "\n",
              "    [theme=dark] .colab-df-convert {\n",
              "      background-color: #3B4455;\n",
              "      fill: #D2E3FC;\n",
              "    }\n",
              "\n",
              "    [theme=dark] .colab-df-convert:hover {\n",
              "      background-color: #434B5C;\n",
              "      box-shadow: 0px 1px 3px 1px rgba(0, 0, 0, 0.15);\n",
              "      filter: drop-shadow(0px 1px 2px rgba(0, 0, 0, 0.3));\n",
              "      fill: #FFFFFF;\n",
              "    }\n",
              "  </style>\n",
              "\n",
              "      <script>\n",
              "        const buttonEl =\n",
              "          document.querySelector('#df-6bc04f94-0a0d-4d04-9abe-a06c2ef508f0 button.colab-df-convert');\n",
              "        buttonEl.style.display =\n",
              "          google.colab.kernel.accessAllowed ? 'block' : 'none';\n",
              "\n",
              "        async function convertToInteractive(key) {\n",
              "          const element = document.querySelector('#df-6bc04f94-0a0d-4d04-9abe-a06c2ef508f0');\n",
              "          const dataTable =\n",
              "            await google.colab.kernel.invokeFunction('convertToInteractive',\n",
              "                                                     [key], {});\n",
              "          if (!dataTable) return;\n",
              "\n",
              "          const docLinkHtml = 'Like what you see? Visit the ' +\n",
              "            '<a target=\"_blank\" href=https://colab.research.google.com/notebooks/data_table.ipynb>data table notebook</a>'\n",
              "            + ' to learn more about interactive tables.';\n",
              "          element.innerHTML = '';\n",
              "          dataTable['output_type'] = 'display_data';\n",
              "          await google.colab.output.renderOutput(dataTable, element);\n",
              "          const docLink = document.createElement('div');\n",
              "          docLink.innerHTML = docLinkHtml;\n",
              "          element.appendChild(docLink);\n",
              "        }\n",
              "      </script>\n",
              "    </div>\n",
              "  </div>\n",
              "  "
            ]
          },
          "metadata": {},
          "execution_count": 8
        }
      ]
    },
    {
      "cell_type": "code",
      "source": [
        "data.value_counts().isnull().sum()"
      ],
      "metadata": {
        "colab": {
          "base_uri": "https://localhost:8080/"
        },
        "id": "Ri_G7JNVyR3i",
        "outputId": "5311124e-8402-4eed-b8a0-843ae23e2c81"
      },
      "execution_count": 9,
      "outputs": [
        {
          "output_type": "execute_result",
          "data": {
            "text/plain": [
              "0"
            ]
          },
          "metadata": {},
          "execution_count": 9
        }
      ]
    },
    {
      "cell_type": "markdown",
      "source": [
        "#### Feature Engineering"
      ],
      "metadata": {
        "id": "3yHDeIruxo2z"
      }
    },
    {
      "cell_type": "code",
      "source": [
        "# create dataframe which cointains return and volatility information\n",
        "df_extended = pd.DataFrame(data.pct_change().mean() * 255, columns=['returns'])\n",
        "df_extended['volatility'] = data.pct_change().std() * np.sqrt(255)\n",
        "df_extended.head()"
      ],
      "metadata": {
        "colab": {
          "base_uri": "https://localhost:8080/",
          "height": 206
        },
        "id": "5VYPE3a6yuQG",
        "outputId": "4008dfc1-8863-4c57-d370-4229b02aeb87"
      },
      "execution_count": 10,
      "outputs": [
        {
          "output_type": "execute_result",
          "data": {
            "text/plain": [
              "        returns  volatility\n",
              "AAGIY  0.173316    0.292892\n",
              "ACGBY  0.054600    0.230815\n",
              "ACHHY  0.164291    0.548021\n",
              "ACKAY  0.137869    0.473616\n",
              "ADDYY  0.048171    0.352911"
            ],
            "text/html": [
              "\n",
              "  <div id=\"df-92de3a55-bd23-455c-9d93-8a762aa5686f\">\n",
              "    <div class=\"colab-df-container\">\n",
              "      <div>\n",
              "<style scoped>\n",
              "    .dataframe tbody tr th:only-of-type {\n",
              "        vertical-align: middle;\n",
              "    }\n",
              "\n",
              "    .dataframe tbody tr th {\n",
              "        vertical-align: top;\n",
              "    }\n",
              "\n",
              "    .dataframe thead th {\n",
              "        text-align: right;\n",
              "    }\n",
              "</style>\n",
              "<table border=\"1\" class=\"dataframe\">\n",
              "  <thead>\n",
              "    <tr style=\"text-align: right;\">\n",
              "      <th></th>\n",
              "      <th>returns</th>\n",
              "      <th>volatility</th>\n",
              "    </tr>\n",
              "  </thead>\n",
              "  <tbody>\n",
              "    <tr>\n",
              "      <th>AAGIY</th>\n",
              "      <td>0.173316</td>\n",
              "      <td>0.292892</td>\n",
              "    </tr>\n",
              "    <tr>\n",
              "      <th>ACGBY</th>\n",
              "      <td>0.054600</td>\n",
              "      <td>0.230815</td>\n",
              "    </tr>\n",
              "    <tr>\n",
              "      <th>ACHHY</th>\n",
              "      <td>0.164291</td>\n",
              "      <td>0.548021</td>\n",
              "    </tr>\n",
              "    <tr>\n",
              "      <th>ACKAY</th>\n",
              "      <td>0.137869</td>\n",
              "      <td>0.473616</td>\n",
              "    </tr>\n",
              "    <tr>\n",
              "      <th>ADDYY</th>\n",
              "      <td>0.048171</td>\n",
              "      <td>0.352911</td>\n",
              "    </tr>\n",
              "  </tbody>\n",
              "</table>\n",
              "</div>\n",
              "      <button class=\"colab-df-convert\" onclick=\"convertToInteractive('df-92de3a55-bd23-455c-9d93-8a762aa5686f')\"\n",
              "              title=\"Convert this dataframe to an interactive table.\"\n",
              "              style=\"display:none;\">\n",
              "        \n",
              "  <svg xmlns=\"http://www.w3.org/2000/svg\" height=\"24px\"viewBox=\"0 0 24 24\"\n",
              "       width=\"24px\">\n",
              "    <path d=\"M0 0h24v24H0V0z\" fill=\"none\"/>\n",
              "    <path d=\"M18.56 5.44l.94 2.06.94-2.06 2.06-.94-2.06-.94-.94-2.06-.94 2.06-2.06.94zm-11 1L8.5 8.5l.94-2.06 2.06-.94-2.06-.94L8.5 2.5l-.94 2.06-2.06.94zm10 10l.94 2.06.94-2.06 2.06-.94-2.06-.94-.94-2.06-.94 2.06-2.06.94z\"/><path d=\"M17.41 7.96l-1.37-1.37c-.4-.4-.92-.59-1.43-.59-.52 0-1.04.2-1.43.59L10.3 9.45l-7.72 7.72c-.78.78-.78 2.05 0 2.83L4 21.41c.39.39.9.59 1.41.59.51 0 1.02-.2 1.41-.59l7.78-7.78 2.81-2.81c.8-.78.8-2.07 0-2.86zM5.41 20L4 18.59l7.72-7.72 1.47 1.35L5.41 20z\"/>\n",
              "  </svg>\n",
              "      </button>\n",
              "      \n",
              "  <style>\n",
              "    .colab-df-container {\n",
              "      display:flex;\n",
              "      flex-wrap:wrap;\n",
              "      gap: 12px;\n",
              "    }\n",
              "\n",
              "    .colab-df-convert {\n",
              "      background-color: #E8F0FE;\n",
              "      border: none;\n",
              "      border-radius: 50%;\n",
              "      cursor: pointer;\n",
              "      display: none;\n",
              "      fill: #1967D2;\n",
              "      height: 32px;\n",
              "      padding: 0 0 0 0;\n",
              "      width: 32px;\n",
              "    }\n",
              "\n",
              "    .colab-df-convert:hover {\n",
              "      background-color: #E2EBFA;\n",
              "      box-shadow: 0px 1px 2px rgba(60, 64, 67, 0.3), 0px 1px 3px 1px rgba(60, 64, 67, 0.15);\n",
              "      fill: #174EA6;\n",
              "    }\n",
              "\n",
              "    [theme=dark] .colab-df-convert {\n",
              "      background-color: #3B4455;\n",
              "      fill: #D2E3FC;\n",
              "    }\n",
              "\n",
              "    [theme=dark] .colab-df-convert:hover {\n",
              "      background-color: #434B5C;\n",
              "      box-shadow: 0px 1px 3px 1px rgba(0, 0, 0, 0.15);\n",
              "      filter: drop-shadow(0px 1px 2px rgba(0, 0, 0, 0.3));\n",
              "      fill: #FFFFFF;\n",
              "    }\n",
              "  </style>\n",
              "\n",
              "      <script>\n",
              "        const buttonEl =\n",
              "          document.querySelector('#df-92de3a55-bd23-455c-9d93-8a762aa5686f button.colab-df-convert');\n",
              "        buttonEl.style.display =\n",
              "          google.colab.kernel.accessAllowed ? 'block' : 'none';\n",
              "\n",
              "        async function convertToInteractive(key) {\n",
              "          const element = document.querySelector('#df-92de3a55-bd23-455c-9d93-8a762aa5686f');\n",
              "          const dataTable =\n",
              "            await google.colab.kernel.invokeFunction('convertToInteractive',\n",
              "                                                     [key], {});\n",
              "          if (!dataTable) return;\n",
              "\n",
              "          const docLinkHtml = 'Like what you see? Visit the ' +\n",
              "            '<a target=\"_blank\" href=https://colab.research.google.com/notebooks/data_table.ipynb>data table notebook</a>'\n",
              "            + ' to learn more about interactive tables.';\n",
              "          element.innerHTML = '';\n",
              "          dataTable['output_type'] = 'display_data';\n",
              "          await google.colab.output.renderOutput(dataTable, element);\n",
              "          const docLink = document.createElement('div');\n",
              "          docLink.innerHTML = docLinkHtml;\n",
              "          element.appendChild(docLink);\n",
              "        }\n",
              "      </script>\n",
              "    </div>\n",
              "  </div>\n",
              "  "
            ]
          },
          "metadata": {},
          "execution_count": 10
        }
      ]
    },
    {
      "cell_type": "code",
      "source": [
        "# df_extended = df_extended.fillna(method=\"ffill\")\n",
        "# df_extended.isnull().any()\n",
        "# df_extended = df_extended.replace([np.inf, -np.inf], 0)"
      ],
      "metadata": {
        "id": "Ijv4xMmzJ2g6"
      },
      "execution_count": 11,
      "outputs": []
    },
    {
      "cell_type": "code",
      "source": [
        "df_extended.describe()"
      ],
      "metadata": {
        "colab": {
          "base_uri": "https://localhost:8080/",
          "height": 300
        },
        "id": "zOc5gSFNLG7h",
        "outputId": "cb579ac5-c4d5-4ccd-9410-b9141d7b0df1"
      },
      "execution_count": 12,
      "outputs": [
        {
          "output_type": "execute_result",
          "data": {
            "text/plain": [
              "          returns  volatility\n",
              "count  295.000000  295.000000\n",
              "mean     0.709081    1.334252\n",
              "std      3.662534    5.687830\n",
              "min     -0.911373    0.115705\n",
              "25%      0.035437    0.286337\n",
              "50%      0.103126    0.340947\n",
              "75%      0.178554    0.449901\n",
              "max     35.916051   61.529560"
            ],
            "text/html": [
              "\n",
              "  <div id=\"df-acf3d133-d278-4cba-9149-c32351935b16\">\n",
              "    <div class=\"colab-df-container\">\n",
              "      <div>\n",
              "<style scoped>\n",
              "    .dataframe tbody tr th:only-of-type {\n",
              "        vertical-align: middle;\n",
              "    }\n",
              "\n",
              "    .dataframe tbody tr th {\n",
              "        vertical-align: top;\n",
              "    }\n",
              "\n",
              "    .dataframe thead th {\n",
              "        text-align: right;\n",
              "    }\n",
              "</style>\n",
              "<table border=\"1\" class=\"dataframe\">\n",
              "  <thead>\n",
              "    <tr style=\"text-align: right;\">\n",
              "      <th></th>\n",
              "      <th>returns</th>\n",
              "      <th>volatility</th>\n",
              "    </tr>\n",
              "  </thead>\n",
              "  <tbody>\n",
              "    <tr>\n",
              "      <th>count</th>\n",
              "      <td>295.000000</td>\n",
              "      <td>295.000000</td>\n",
              "    </tr>\n",
              "    <tr>\n",
              "      <th>mean</th>\n",
              "      <td>0.709081</td>\n",
              "      <td>1.334252</td>\n",
              "    </tr>\n",
              "    <tr>\n",
              "      <th>std</th>\n",
              "      <td>3.662534</td>\n",
              "      <td>5.687830</td>\n",
              "    </tr>\n",
              "    <tr>\n",
              "      <th>min</th>\n",
              "      <td>-0.911373</td>\n",
              "      <td>0.115705</td>\n",
              "    </tr>\n",
              "    <tr>\n",
              "      <th>25%</th>\n",
              "      <td>0.035437</td>\n",
              "      <td>0.286337</td>\n",
              "    </tr>\n",
              "    <tr>\n",
              "      <th>50%</th>\n",
              "      <td>0.103126</td>\n",
              "      <td>0.340947</td>\n",
              "    </tr>\n",
              "    <tr>\n",
              "      <th>75%</th>\n",
              "      <td>0.178554</td>\n",
              "      <td>0.449901</td>\n",
              "    </tr>\n",
              "    <tr>\n",
              "      <th>max</th>\n",
              "      <td>35.916051</td>\n",
              "      <td>61.529560</td>\n",
              "    </tr>\n",
              "  </tbody>\n",
              "</table>\n",
              "</div>\n",
              "      <button class=\"colab-df-convert\" onclick=\"convertToInteractive('df-acf3d133-d278-4cba-9149-c32351935b16')\"\n",
              "              title=\"Convert this dataframe to an interactive table.\"\n",
              "              style=\"display:none;\">\n",
              "        \n",
              "  <svg xmlns=\"http://www.w3.org/2000/svg\" height=\"24px\"viewBox=\"0 0 24 24\"\n",
              "       width=\"24px\">\n",
              "    <path d=\"M0 0h24v24H0V0z\" fill=\"none\"/>\n",
              "    <path d=\"M18.56 5.44l.94 2.06.94-2.06 2.06-.94-2.06-.94-.94-2.06-.94 2.06-2.06.94zm-11 1L8.5 8.5l.94-2.06 2.06-.94-2.06-.94L8.5 2.5l-.94 2.06-2.06.94zm10 10l.94 2.06.94-2.06 2.06-.94-2.06-.94-.94-2.06-.94 2.06-2.06.94z\"/><path d=\"M17.41 7.96l-1.37-1.37c-.4-.4-.92-.59-1.43-.59-.52 0-1.04.2-1.43.59L10.3 9.45l-7.72 7.72c-.78.78-.78 2.05 0 2.83L4 21.41c.39.39.9.59 1.41.59.51 0 1.02-.2 1.41-.59l7.78-7.78 2.81-2.81c.8-.78.8-2.07 0-2.86zM5.41 20L4 18.59l7.72-7.72 1.47 1.35L5.41 20z\"/>\n",
              "  </svg>\n",
              "      </button>\n",
              "      \n",
              "  <style>\n",
              "    .colab-df-container {\n",
              "      display:flex;\n",
              "      flex-wrap:wrap;\n",
              "      gap: 12px;\n",
              "    }\n",
              "\n",
              "    .colab-df-convert {\n",
              "      background-color: #E8F0FE;\n",
              "      border: none;\n",
              "      border-radius: 50%;\n",
              "      cursor: pointer;\n",
              "      display: none;\n",
              "      fill: #1967D2;\n",
              "      height: 32px;\n",
              "      padding: 0 0 0 0;\n",
              "      width: 32px;\n",
              "    }\n",
              "\n",
              "    .colab-df-convert:hover {\n",
              "      background-color: #E2EBFA;\n",
              "      box-shadow: 0px 1px 2px rgba(60, 64, 67, 0.3), 0px 1px 3px 1px rgba(60, 64, 67, 0.15);\n",
              "      fill: #174EA6;\n",
              "    }\n",
              "\n",
              "    [theme=dark] .colab-df-convert {\n",
              "      background-color: #3B4455;\n",
              "      fill: #D2E3FC;\n",
              "    }\n",
              "\n",
              "    [theme=dark] .colab-df-convert:hover {\n",
              "      background-color: #434B5C;\n",
              "      box-shadow: 0px 1px 3px 1px rgba(0, 0, 0, 0.15);\n",
              "      filter: drop-shadow(0px 1px 2px rgba(0, 0, 0, 0.3));\n",
              "      fill: #FFFFFF;\n",
              "    }\n",
              "  </style>\n",
              "\n",
              "      <script>\n",
              "        const buttonEl =\n",
              "          document.querySelector('#df-acf3d133-d278-4cba-9149-c32351935b16 button.colab-df-convert');\n",
              "        buttonEl.style.display =\n",
              "          google.colab.kernel.accessAllowed ? 'block' : 'none';\n",
              "\n",
              "        async function convertToInteractive(key) {\n",
              "          const element = document.querySelector('#df-acf3d133-d278-4cba-9149-c32351935b16');\n",
              "          const dataTable =\n",
              "            await google.colab.kernel.invokeFunction('convertToInteractive',\n",
              "                                                     [key], {});\n",
              "          if (!dataTable) return;\n",
              "\n",
              "          const docLinkHtml = 'Like what you see? Visit the ' +\n",
              "            '<a target=\"_blank\" href=https://colab.research.google.com/notebooks/data_table.ipynb>data table notebook</a>'\n",
              "            + ' to learn more about interactive tables.';\n",
              "          element.innerHTML = '';\n",
              "          dataTable['output_type'] = 'display_data';\n",
              "          await google.colab.output.renderOutput(dataTable, element);\n",
              "          const docLink = document.createElement('div');\n",
              "          docLink.innerHTML = docLinkHtml;\n",
              "          element.appendChild(docLink);\n",
              "        }\n",
              "      </script>\n",
              "    </div>\n",
              "  </div>\n",
              "  "
            ]
          },
          "metadata": {},
          "execution_count": 12
        }
      ]
    },
    {
      "cell_type": "code",
      "source": [
        "# scaling the data\n",
        "scaler = StandardScaler()\n",
        "scaler = scaler.fit_transform(df_extended)\n",
        "df_scaled = pd.DataFrame(scaler, index=df_extended.index, columns=df_extended.columns)\n",
        "df_scaled.head()"
      ],
      "metadata": {
        "colab": {
          "base_uri": "https://localhost:8080/",
          "height": 206
        },
        "id": "Kf7MbvvLxija",
        "outputId": "909139eb-cb2a-4ddf-b6ae-c6b7d626953e"
      },
      "execution_count": 13,
      "outputs": [
        {
          "output_type": "execute_result",
          "data": {
            "text/plain": [
              "        returns  volatility\n",
              "AAGIY -0.146531   -0.183397\n",
              "ACGBY -0.179000   -0.194329\n",
              "ACHHY -0.149000   -0.138465\n",
              "ACKAY -0.156226   -0.151569\n",
              "ADDYY -0.180758   -0.172827"
            ],
            "text/html": [
              "\n",
              "  <div id=\"df-145162ed-f377-4f19-b6d6-14ff90560ded\">\n",
              "    <div class=\"colab-df-container\">\n",
              "      <div>\n",
              "<style scoped>\n",
              "    .dataframe tbody tr th:only-of-type {\n",
              "        vertical-align: middle;\n",
              "    }\n",
              "\n",
              "    .dataframe tbody tr th {\n",
              "        vertical-align: top;\n",
              "    }\n",
              "\n",
              "    .dataframe thead th {\n",
              "        text-align: right;\n",
              "    }\n",
              "</style>\n",
              "<table border=\"1\" class=\"dataframe\">\n",
              "  <thead>\n",
              "    <tr style=\"text-align: right;\">\n",
              "      <th></th>\n",
              "      <th>returns</th>\n",
              "      <th>volatility</th>\n",
              "    </tr>\n",
              "  </thead>\n",
              "  <tbody>\n",
              "    <tr>\n",
              "      <th>AAGIY</th>\n",
              "      <td>-0.146531</td>\n",
              "      <td>-0.183397</td>\n",
              "    </tr>\n",
              "    <tr>\n",
              "      <th>ACGBY</th>\n",
              "      <td>-0.179000</td>\n",
              "      <td>-0.194329</td>\n",
              "    </tr>\n",
              "    <tr>\n",
              "      <th>ACHHY</th>\n",
              "      <td>-0.149000</td>\n",
              "      <td>-0.138465</td>\n",
              "    </tr>\n",
              "    <tr>\n",
              "      <th>ACKAY</th>\n",
              "      <td>-0.156226</td>\n",
              "      <td>-0.151569</td>\n",
              "    </tr>\n",
              "    <tr>\n",
              "      <th>ADDYY</th>\n",
              "      <td>-0.180758</td>\n",
              "      <td>-0.172827</td>\n",
              "    </tr>\n",
              "  </tbody>\n",
              "</table>\n",
              "</div>\n",
              "      <button class=\"colab-df-convert\" onclick=\"convertToInteractive('df-145162ed-f377-4f19-b6d6-14ff90560ded')\"\n",
              "              title=\"Convert this dataframe to an interactive table.\"\n",
              "              style=\"display:none;\">\n",
              "        \n",
              "  <svg xmlns=\"http://www.w3.org/2000/svg\" height=\"24px\"viewBox=\"0 0 24 24\"\n",
              "       width=\"24px\">\n",
              "    <path d=\"M0 0h24v24H0V0z\" fill=\"none\"/>\n",
              "    <path d=\"M18.56 5.44l.94 2.06.94-2.06 2.06-.94-2.06-.94-.94-2.06-.94 2.06-2.06.94zm-11 1L8.5 8.5l.94-2.06 2.06-.94-2.06-.94L8.5 2.5l-.94 2.06-2.06.94zm10 10l.94 2.06.94-2.06 2.06-.94-2.06-.94-.94-2.06-.94 2.06-2.06.94z\"/><path d=\"M17.41 7.96l-1.37-1.37c-.4-.4-.92-.59-1.43-.59-.52 0-1.04.2-1.43.59L10.3 9.45l-7.72 7.72c-.78.78-.78 2.05 0 2.83L4 21.41c.39.39.9.59 1.41.59.51 0 1.02-.2 1.41-.59l7.78-7.78 2.81-2.81c.8-.78.8-2.07 0-2.86zM5.41 20L4 18.59l7.72-7.72 1.47 1.35L5.41 20z\"/>\n",
              "  </svg>\n",
              "      </button>\n",
              "      \n",
              "  <style>\n",
              "    .colab-df-container {\n",
              "      display:flex;\n",
              "      flex-wrap:wrap;\n",
              "      gap: 12px;\n",
              "    }\n",
              "\n",
              "    .colab-df-convert {\n",
              "      background-color: #E8F0FE;\n",
              "      border: none;\n",
              "      border-radius: 50%;\n",
              "      cursor: pointer;\n",
              "      display: none;\n",
              "      fill: #1967D2;\n",
              "      height: 32px;\n",
              "      padding: 0 0 0 0;\n",
              "      width: 32px;\n",
              "    }\n",
              "\n",
              "    .colab-df-convert:hover {\n",
              "      background-color: #E2EBFA;\n",
              "      box-shadow: 0px 1px 2px rgba(60, 64, 67, 0.3), 0px 1px 3px 1px rgba(60, 64, 67, 0.15);\n",
              "      fill: #174EA6;\n",
              "    }\n",
              "\n",
              "    [theme=dark] .colab-df-convert {\n",
              "      background-color: #3B4455;\n",
              "      fill: #D2E3FC;\n",
              "    }\n",
              "\n",
              "    [theme=dark] .colab-df-convert:hover {\n",
              "      background-color: #434B5C;\n",
              "      box-shadow: 0px 1px 3px 1px rgba(0, 0, 0, 0.15);\n",
              "      filter: drop-shadow(0px 1px 2px rgba(0, 0, 0, 0.3));\n",
              "      fill: #FFFFFF;\n",
              "    }\n",
              "  </style>\n",
              "\n",
              "      <script>\n",
              "        const buttonEl =\n",
              "          document.querySelector('#df-145162ed-f377-4f19-b6d6-14ff90560ded button.colab-df-convert');\n",
              "        buttonEl.style.display =\n",
              "          google.colab.kernel.accessAllowed ? 'block' : 'none';\n",
              "\n",
              "        async function convertToInteractive(key) {\n",
              "          const element = document.querySelector('#df-145162ed-f377-4f19-b6d6-14ff90560ded');\n",
              "          const dataTable =\n",
              "            await google.colab.kernel.invokeFunction('convertToInteractive',\n",
              "                                                     [key], {});\n",
              "          if (!dataTable) return;\n",
              "\n",
              "          const docLinkHtml = 'Like what you see? Visit the ' +\n",
              "            '<a target=\"_blank\" href=https://colab.research.google.com/notebooks/data_table.ipynb>data table notebook</a>'\n",
              "            + ' to learn more about interactive tables.';\n",
              "          element.innerHTML = '';\n",
              "          dataTable['output_type'] = 'display_data';\n",
              "          await google.colab.output.renderOutput(dataTable, element);\n",
              "          const docLink = document.createElement('div');\n",
              "          docLink.innerHTML = docLinkHtml;\n",
              "          element.appendChild(docLink);\n",
              "        }\n",
              "      </script>\n",
              "    </div>\n",
              "  </div>\n",
              "  "
            ]
          },
          "metadata": {},
          "execution_count": 13
        }
      ]
    },
    {
      "cell_type": "markdown",
      "source": [
        "#### K-Means Clustering"
      ],
      "metadata": {
        "id": "MCyhrQp9Mvcn"
      }
    },
    {
      "cell_type": "code",
      "source": [
        "# find the optimal number of clusters \n",
        "X = df_scaled.copy()\n",
        "K = range(1,15)\n",
        "distortions = []\n",
        "for k in K:\n",
        "  kmeans = KMeans(n_clusters=k)\n",
        "  kmeans.fit(X)\n",
        "  distortions.append(kmeans.inertia_)\n",
        "\n",
        "kn = KneeLocator(K, distortions, curve='convex', direction='decreasing')\n",
        "c = kn.elbow\n",
        "print(f\"The optimal number of clusters: {c}\")"
      ],
      "metadata": {
        "colab": {
          "base_uri": "https://localhost:8080/"
        },
        "id": "8yRL0wK6z-3w",
        "outputId": "44543175-e9e3-45ed-aa16-cdbc0f439c09"
      },
      "execution_count": 14,
      "outputs": [
        {
          "output_type": "stream",
          "name": "stdout",
          "text": [
            "The optimal number of clusters: 3\n"
          ]
        }
      ]
    },
    {
      "cell_type": "code",
      "source": [
        "# fit the model\n",
        "kmeans = KMeans(n_clusters=c)\n",
        "kmeans.fit(X)\n",
        "preds = kmeans.predict(df_scaled)"
      ],
      "metadata": {
        "id": "CSQo4EhqOBqW"
      },
      "execution_count": 15,
      "outputs": []
    },
    {
      "cell_type": "code",
      "source": [
        "# show results\n",
        "centroids = kmeans.cluster_centers_\n",
        "fig = plt.figure(figsize=(18,10))\n",
        "ax = fig.add_subplot(111)\n",
        "scatter = ax.scatter(X.iloc[:,0], X.iloc[:,1], c=kmeans.labels_, cmap='rainbow', label=X.index )\n",
        "ax.set_title('Cluster Analysis')\n",
        "ax.set_ylabel('Volatility')\n",
        "ax.set_xlabel('Mean Return')\n",
        "plt.colorbar(scatter)\n",
        "plt.plot(centroids[:,0], centroids[:,1], \"sg\", markersize=10)\n",
        "plt.show()"
      ],
      "metadata": {
        "colab": {
          "base_uri": "https://localhost:8080/",
          "height": 621
        },
        "id": "IUahdvSnPx47",
        "outputId": "143c6433-6b56-48d4-d1bd-fc910585e80e"
      },
      "execution_count": 16,
      "outputs": [
        {
          "output_type": "display_data",
          "data": {
            "text/plain": [
              "<Figure size 1296x720 with 2 Axes>"
            ],
            "image/png": "[encoded data removed]"
          },
          "metadata": {
            "needs_background": "light"
          }
        }
      ]
    },
    {
      "cell_type": "code",
      "source": [
        "# return the clustered series\n",
        "clustered_series = pd.Series(index=X.index, data=kmeans.labels_.flatten())\n",
        "clustered_series = clustered_series[clustered_series != -1]\n",
        "clustered_series"
      ],
      "metadata": {
        "colab": {
          "base_uri": "https://localhost:8080/"
        },
        "id": "CqObKIFfQAL1",
        "outputId": "b514fe89-9bfb-4bce-803d-c628ccd33ca8"
      },
      "execution_count": 17,
      "outputs": [
        {
          "output_type": "execute_result",
          "data": {
            "text/plain": [
              "AAGIY    0\n",
              "ACGBY    0\n",
              "ACHHY    0\n",
              "ACKAY    0\n",
              "ADDYY    0\n",
              "        ..\n",
              "WMMVY    0\n",
              "YARIY    0\n",
              "YZCAY    0\n",
              "ZLNDY    0\n",
              "ZURVY    0\n",
              "Length: 295, dtype: int32"
            ]
          },
          "metadata": {},
          "execution_count": 17
        }
      ]
    },
    {
      "cell_type": "code",
      "source": [
        "clustered_df = pd.DataFrame(clustered_series)\n",
        "clustered_df.value_counts()"
      ],
      "metadata": {
        "colab": {
          "base_uri": "https://localhost:8080/"
        },
        "id": "ZyPm48dBWyQ2",
        "outputId": "cd189866-46c9-4e82-9e53-01afb4e25d2e"
      },
      "execution_count": 18,
      "outputs": [
        {
          "output_type": "execute_result",
          "data": {
            "text/plain": [
              "0    286\n",
              "1      6\n",
              "2      3\n",
              "dtype: int64"
            ]
          },
          "metadata": {},
          "execution_count": 18
        }
      ]
    },
    {
      "cell_type": "code",
      "source": [
        "plt.figure(figsize=(10,5))\n",
        "plt.bar(range(len(clustered_series.value_counts())),clustered_series.value_counts())\n",
        "plt.title(\"Clusters\")\n",
        "plt.xlabel(\"Cluster\")\n",
        "plt.ylabel(\"Fetures Count\")\n",
        "plt.show()"
      ],
      "metadata": {
        "colab": {
          "base_uri": "https://localhost:8080/",
          "height": 350
        },
        "id": "oOIJhuJpYok4",
        "outputId": "2b1d25f4-1a13-42b6-c3e6-ead14ae3ecf3"
      },
      "execution_count": 19,
      "outputs": [
        {
          "output_type": "display_data",
          "data": {
            "text/plain": [
              "<Figure size 720x360 with 1 Axes>"
            ],
            "image/png": "[encoded data removed]"
          },
          "metadata": {
            "needs_background": "light"
          }
        }
      ]
    },
    {
      "cell_type": "code",
      "source": [
        "# if there any significant outliers can be detected it should remove from the dataset, but at this point it has been worked with small kind of test dataset which not contains it.\n",
        "clustered_series_rem_ol = clustered_series[clustered_series < 3]"
      ],
      "metadata": {
        "id": "2TctXea9b_8U"
      },
      "execution_count": 20,
      "outputs": []
    },
    {
      "cell_type": "markdown",
      "source": [
        "#### Calculate Cointegration"
      ],
      "metadata": {
        "id": "uBFHc8z1fxwf"
      }
    },
    {
      "cell_type": "code",
      "source": [
        "def calculate_cointegration(series_1, series_2):\n",
        "  coint_flag = 0\n",
        "  coint_result = coint(series_1, series_2)\n",
        "  coint_t = coint_result[0]\n",
        "  p_value = coint_result[1]\n",
        "  critical_value = coint_result[2][1]\n",
        "\n",
        "  model = simplefilter.OLS(series_1, series_2).fit()\n",
        "  hedge_ratio = model.params[0]\n",
        "  coint_flag = 1 if p_value < 0.05 and coint_t < critical_value else 0\n",
        "  return coint_flag, hedge_ratio"
      ],
      "metadata": {
        "id": "GdfRftopeYiv"
      },
      "execution_count": 21,
      "outputs": []
    },
    {
      "cell_type": "code",
      "source": [
        "# loop through and calculate cointegrated pairs\n",
        "tested_pairs = []\n",
        "cointegrated_pairs = []\n",
        "\n",
        "for base_asset in clustered_series_rem_ol.index:\n",
        "  base_label = clustered_series_rem_ol[base_asset]\n",
        "\n",
        "  for compare_asset in clustered_series_rem_ol.index:\n",
        "    compare_label = clustered_series_rem_ol[compare_asset]\n",
        "\n",
        "    test_pair = base_asset + compare_asset\n",
        "    test_pair = ''.join(sorted(test_pair))\n",
        "    is_tested = test_pair in tested_pairs\n",
        "    tested_pairs.append(test_pair)\n",
        "\n",
        "    if compare_asset != base_asset and base_label == compare_label and not is_tested:\n",
        "      series_1 = data[base_asset].values.astype(float)\n",
        "      series_2 = data[compare_asset].values.astype(float)\n",
        "      coint_flag, _ = calculate_cointegration(series_1, series_2)\n",
        "      if coint_flag == 1:\n",
        "        cointegrated_pairs.append({\n",
        "            \"base_asset\": base_asset,\n",
        "            \"compare_asset\": compare_asset,\n",
        "            \"label\": base_label\n",
        "        })\n",
        "\n",
        "df_coint = pd.DataFrame(cointegrated_pairs).sort_values(by=\"label\")\n",
        "df_coint.head()"
      ],
      "metadata": {
        "id": "MnZm-Ehau7A5"
      },
      "execution_count": null,
      "outputs": []
    },
    {
      "cell_type": "code",
      "source": [],
      "metadata": {
        "id": "CXW3Onnxz_at"
      },
      "execution_count": null,
      "outputs": []
    }
  ]
}