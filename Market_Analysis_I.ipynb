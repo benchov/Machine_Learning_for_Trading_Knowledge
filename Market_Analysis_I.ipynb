{
  "nbformat": 4,
  "nbformat_minor": 0,
  "metadata": {
    "colab": {
      "provenance": [],
      "authorship_tag": "ABX9TyOZDRqXRUtcr36Z662aFgcM",
      "include_colab_link": true
    },
    "kernelspec": {
      "name": "python3",
      "display_name": "Python 3"
    },
    "language_info": {
      "name": "python"
    }
  },
  "cells": [
    {
      "cell_type": "markdown",
      "metadata": {
        "id": "view-in-github",
        "colab_type": "text"
      },
      "source": [
        "<a href=\"https://colab.research.google.com/github/benchov/Machine_Learning_for_Trading_Knowledge/blob/main/Market_Analysis_I.ipynb\" target=\"_parent\"><img src=\"https://colab.research.google.com/assets/colab-badge.svg\" alt=\"Open In Colab\"/></a>"
      ]
    },
    {
      "cell_type": "code",
      "source": [
        "# !pip install kneed\n",
        "# !pip install alpaca-trade-api\n",
        "# !pip install --upgrade pandas\n",
        "# !pip install --upgrade pandas-datareader\n",
        "# !pip install yfinance"
      ],
      "metadata": {
        "colab": {
          "base_uri": "https://localhost:8080/"
        },
        "id": "TwNwu7Np1XAN",
        "outputId": "ce3dceed-ba7c-4020-d87a-9e1267ba2575"
      },
      "execution_count": 140,
      "outputs": [
        {
          "output_type": "stream",
          "name": "stdout",
          "text": [
            "\r[***************************************178%******************************************]  1779 of 1000 completed"
          ]
        }
      ]
    },
    {
      "cell_type": "markdown",
      "source": [
        "### Market Analysis for Paper Trading\n",
        "\n"
      ],
      "metadata": {
        "id": "EyO4-uq6lMLK"
      }
    },
    {
      "cell_type": "markdown",
      "source": [
        "\n",
        "0.   Connect to the market data provider api\n",
        "1.   Get Data\n",
        "2.   Filter available assets in Alpaca Market\n",
        "3.   Find Cointegrated pairs for Statistical Arbitrage\n",
        "4.   Pick cointegrated pairs and detect trend with HMM Clustering\n",
        "5.   Detect entry point, target price and stop price by the chart\n",
        "6.   Create trading report.\n",
        "\n"
      ],
      "metadata": {
        "id": "sQHYEUAOh3fp"
      }
    },
    {
      "cell_type": "markdown",
      "source": [
        "#### Imports"
      ],
      "metadata": {
        "id": "0bbQsUmFvaj3"
      }
    },
    {
      "cell_type": "code",
      "source": [
        "from datetime import datetime\n",
        "# remove unwanted warnings\n",
        "import warnings\n",
        "warnings.simplefilter(action='ignore', category=FutureWarning)\n",
        "\n",
        "# data extraction and management\n",
        "import numpy as np\n",
        "import pandas as pd\n",
        "from pandas_datareader import DataReader\n",
        "from pandas_datareader.nasdaq_trader  import get_nasdaq_symbols\n",
        "\n",
        "# feature engineering\n",
        "from sklearn.preprocessing import StandardScaler\n",
        "\n",
        "# machine learing related imports\n",
        "from sklearn.cluster import KMeans\n",
        "from sklearn import metrics\n",
        "from kneed import KneeLocator\n",
        "\n",
        "# cointegration and statistic\n",
        "from statsmodels.tsa.stattools import coint\n",
        "import statsmodels.api as simplefilter\n",
        "\n",
        "# reporting and visualisation\n",
        "import matplotlib.pyplot as plt\n",
        "import matplotlib.cm as cm\n",
        "%matplotlib inline\n",
        "\n",
        "# market data\n",
        "import alpaca_trade_api as alpaca\n",
        "import yfinance as yf"
      ],
      "metadata": {
        "id": "wqG0c4NYlSlZ"
      },
      "execution_count": 141,
      "outputs": []
    },
    {
      "cell_type": "markdown",
      "source": [
        "#### 0.0 Connect to the market data provider"
      ],
      "metadata": {
        "id": "NlSNLONohc3r"
      }
    },
    {
      "cell_type": "code",
      "source": [
        "api = alpaca.REST(key_id, secret_key, 'https://paper-api.alpaca.markets')\n",
        "api.get_account()"
      ],
      "metadata": {
        "colab": {
          "base_uri": "https://localhost:8080/"
        },
        "id": "YglCe2VPhatG",
        "outputId": "e3b08b85-2346-4927-826e-f15eafe1941c"
      },
      "execution_count": 143,
      "outputs": [
        {
          "output_type": "execute_result",
          "data": {
            "text/plain": [
              "Account({   'account_blocked': False,\n",
              "    'account_number': 'PA3OJP423MLE',\n",
              "    'accrued_fees': '0',\n",
              "    'balance_asof': '2022-12-23',\n",
              "    'bod_dtbp': '0',\n",
              "    'buying_power': '200000',\n",
              "    'cash': '100000',\n",
              "    'created_at': '2022-12-22T19:56:32.073526Z',\n",
              "    'crypto_status': 'ACTIVE',\n",
              "    'crypto_tier': 0,\n",
              "    'currency': 'USD',\n",
              "    'daytrade_count': 0,\n",
              "    'daytrading_buying_power': '0',\n",
              "    'effective_buying_power': '200000',\n",
              "    'equity': '100000',\n",
              "    'id': 'd38ec6c2-a23b-4708-a064-cda26744e218',\n",
              "    'initial_margin': '0',\n",
              "    'last_equity': '100000',\n",
              "    'last_maintenance_margin': '0',\n",
              "    'long_market_value': '0',\n",
              "    'maintenance_margin': '0',\n",
              "    'multiplier': '2',\n",
              "    'non_marginable_buying_power': '100000',\n",
              "    'pattern_day_trader': False,\n",
              "    'pending_transfer_in': '0',\n",
              "    'portfolio_value': '100000',\n",
              "    'position_market_value': '0',\n",
              "    'regt_buying_power': '200000',\n",
              "    'short_market_value': '0',\n",
              "    'shorting_enabled': True,\n",
              "    'sma': '100000',\n",
              "    'status': 'ACTIVE',\n",
              "    'trade_suspended_by_user': False,\n",
              "    'trading_blocked': False,\n",
              "    'transfers_blocked': False})"
            ]
          },
          "metadata": {},
          "execution_count": 143
        }
      ]
    },
    {
      "cell_type": "markdown",
      "source": [
        "#### 1.0 Get Data"
      ],
      "metadata": {
        "id": "bCZBICXQw_ZM"
      }
    },
    {
      "cell_type": "code",
      "source": [
        "# get list of available stocks \n",
        "asset_list =api.list_assets()\n",
        "asset_list = [asset.symbol for asset in asset_list if (asset.status == 'active') & (asset.exchange =='OTC')]\n",
        "len(asset_list), asset_list[:10]"
      ],
      "metadata": {
        "colab": {
          "base_uri": "https://localhost:8080/"
        },
        "id": "D3LlCUfokuYx",
        "outputId": "0f502017-211f-4dcd-8554-41d168d2fefd"
      },
      "execution_count": 144,
      "outputs": [
        {
          "output_type": "execute_result",
          "data": {
            "text/plain": [
              "(396,\n",
              " ['NWFFF',\n",
              "  'ACLLY',\n",
              "  'ACUT',\n",
              "  'AFIIQ',\n",
              "  'ALJJ',\n",
              "  'ALFIQ',\n",
              "  'ARGGY',\n",
              "  'AVISF',\n",
              "  'AXAS',\n",
              "  'BTLCY'])"
            ]
          },
          "metadata": {},
          "execution_count": 144
        }
      ]
    },
    {
      "cell_type": "markdown",
      "source": [],
      "metadata": {
        "id": "K4PQLvyPa5BF"
      }
    },
    {
      "cell_type": "code",
      "source": [
        "start_date = '2017-01-01'\n",
        "end_date = '2022-12-27'\n",
        "data = yf.download(asset_list, start_date, end_date)\n",
        "data = data['Adj Close']"
      ],
      "metadata": {
        "colab": {
          "base_uri": "https://localhost:8080/"
        },
        "id": "9_svWoxs04VM",
        "outputId": "9378f1b1-0eca-4548-f549-b476b5c3b02f"
      },
      "execution_count": 145,
      "outputs": [
        {
          "output_type": "stream",
          "name": "stdout",
          "text": [
            "[*********************100%***********************]  396 of 396 completed\n",
            "\n",
            "6 Failed downloads:\n",
            "- DOGE/USDT: No timezone found, symbol may be delisted\n",
            "- HUGS.U: No timezone found, symbol may be delisted\n",
            "- ACMSY: No timezone found, symbol may be delisted\n",
            "- EAI: No data found for this date range, symbol may be delisted\n",
            "- FLAG.U: No timezone found, symbol may be delisted\n",
            "- EFHTR: Period 'max' is invalid, must be one of ['1d', '5d']\n"
          ]
        }
      ]
    },
    {
      "cell_type": "markdown",
      "source": [
        "#### 1.1 Clear Data"
      ],
      "metadata": {
        "id": "7wCz5XnvxI6f"
      }
    },
    {
      "cell_type": "code",
      "source": [
        "data.dropna(inplace=True, axis=1)\n",
        "data.head()"
      ],
      "metadata": {
        "colab": {
          "base_uri": "https://localhost:8080/",
          "height": 418
        },
        "id": "hp9mc-BXsRbD",
        "outputId": "ce2bcf10-8c81-467b-bd6b-fa5624a30a7e"
      },
      "execution_count": 147,
      "outputs": [
        {
          "output_type": "execute_result",
          "data": {
            "text/plain": [
              "                  AAT   AAU        ACR  ACTG         AE       AFTY        AGO  \\\n",
              "Date                                                                            \n",
              "2017-01-03  37.319561  1.01  21.825386  6.75  33.771427  11.384375  35.478935   \n",
              "2017-01-04  38.047916  0.97  22.315557  6.95  35.231316  11.676950  35.852394   \n",
              "2017-01-05  38.117283  1.02  22.315557  7.10  34.514027  11.763768  35.196552   \n",
              "2017-01-06  37.917854  1.00  22.134968  6.70  34.210243  11.616178  35.278545   \n",
              "2017-01-09  37.362923  1.01  21.825386  6.35  33.518280  11.564087  35.041710   \n",
              "\n",
              "                 ALNY   ASPU       ATLO  ...       VTIP        VXF   VYNT  \\\n",
              "Date                                     ...                                \n",
              "2017-01-03  38.639999  3.360  27.573645  ...  45.296101  90.807487  210.0   \n",
              "2017-01-04  41.290001  3.420  28.491381  ...  45.314533  92.407364  210.0   \n",
              "2017-01-05  41.349998  3.420  27.156494  ...  45.369812  91.701538  217.5   \n",
              "2017-01-06  42.230000  3.240  27.323357  ...  45.296101  91.701538  217.5   \n",
              "2017-01-09  43.500000  3.408  26.906202  ...  45.323746  91.165108  229.5   \n",
              "\n",
              "                 WBIG        WIX        WPC        XLY        XPO       XSHD  \\\n",
              "Date                                                                           \n",
              "2017-01-03  19.177464  44.950001  42.994507  77.646408  15.113817  19.151621   \n",
              "2017-01-04  19.365774  46.200001  43.552971  78.680061  15.611847  19.361462   \n",
              "2017-01-05  19.274361  47.000000  44.154385  78.623169  15.117276  19.158243   \n",
              "2017-01-06  19.379490  47.450001  43.853683  79.011948  15.106900  18.971224   \n",
              "2017-01-09  19.315502  47.900002  43.288055  78.945572  14.972017  18.842365   \n",
              "\n",
              "                YARIY  \n",
              "Date                   \n",
              "2017-01-03  15.514269  \n",
              "2017-01-04  15.661585  \n",
              "2017-01-05  16.165543  \n",
              "2017-01-06  16.010479  \n",
              "2017-01-09  15.967835  \n",
              "\n",
              "[5 rows x 197 columns]"
            ],
            "text/html": [
              "\n",
              "  <div id=\"df-249d09c0-0c93-44d0-a2cb-c6c20d9dc478\">\n",
              "    <div class=\"colab-df-container\">\n",
              "      <div>\n",
              "<style scoped>\n",
              "    .dataframe tbody tr th:only-of-type {\n",
              "        vertical-align: middle;\n",
              "    }\n",
              "\n",
              "    .dataframe tbody tr th {\n",
              "        vertical-align: top;\n",
              "    }\n",
              "\n",
              "    .dataframe thead th {\n",
              "        text-align: right;\n",
              "    }\n",
              "</style>\n",
              "<table border=\"1\" class=\"dataframe\">\n",
              "  <thead>\n",
              "    <tr style=\"text-align: right;\">\n",
              "      <th></th>\n",
              "      <th>AAT</th>\n",
              "      <th>AAU</th>\n",
              "      <th>ACR</th>\n",
              "      <th>ACTG</th>\n",
              "      <th>AE</th>\n",
              "      <th>AFTY</th>\n",
              "      <th>AGO</th>\n",
              "      <th>ALNY</th>\n",
              "      <th>ASPU</th>\n",
              "      <th>ATLO</th>\n",
              "      <th>...</th>\n",
              "      <th>VTIP</th>\n",
              "      <th>VXF</th>\n",
              "      <th>VYNT</th>\n",
              "      <th>WBIG</th>\n",
              "      <th>WIX</th>\n",
              "      <th>WPC</th>\n",
              "      <th>XLY</th>\n",
              "      <th>XPO</th>\n",
              "      <th>XSHD</th>\n",
              "      <th>YARIY</th>\n",
              "    </tr>\n",
              "    <tr>\n",
              "      <th>Date</th>\n",
              "      <th></th>\n",
              "      <th></th>\n",
              "      <th></th>\n",
              "      <th></th>\n",
              "      <th></th>\n",
              "      <th></th>\n",
              "      <th></th>\n",
              "      <th></th>\n",
              "      <th></th>\n",
              "      <th></th>\n",
              "      <th></th>\n",
              "      <th></th>\n",
              "      <th></th>\n",
              "      <th></th>\n",
              "      <th></th>\n",
              "      <th></th>\n",
              "      <th></th>\n",
              "      <th></th>\n",
              "      <th></th>\n",
              "      <th></th>\n",
              "      <th></th>\n",
              "    </tr>\n",
              "  </thead>\n",
              "  <tbody>\n",
              "    <tr>\n",
              "      <th>2017-01-03</th>\n",
              "      <td>37.319561</td>\n",
              "      <td>1.01</td>\n",
              "      <td>21.825386</td>\n",
              "      <td>6.75</td>\n",
              "      <td>33.771427</td>\n",
              "      <td>11.384375</td>\n",
              "      <td>35.478935</td>\n",
              "      <td>38.639999</td>\n",
              "      <td>3.360</td>\n",
              "      <td>27.573645</td>\n",
              "      <td>...</td>\n",
              "      <td>45.296101</td>\n",
              "      <td>90.807487</td>\n",
              "      <td>210.0</td>\n",
              "      <td>19.177464</td>\n",
              "      <td>44.950001</td>\n",
              "      <td>42.994507</td>\n",
              "      <td>77.646408</td>\n",
              "      <td>15.113817</td>\n",
              "      <td>19.151621</td>\n",
              "      <td>15.514269</td>\n",
              "    </tr>\n",
              "    <tr>\n",
              "      <th>2017-01-04</th>\n",
              "      <td>38.047916</td>\n",
              "      <td>0.97</td>\n",
              "      <td>22.315557</td>\n",
              "      <td>6.95</td>\n",
              "      <td>35.231316</td>\n",
              "      <td>11.676950</td>\n",
              "      <td>35.852394</td>\n",
              "      <td>41.290001</td>\n",
              "      <td>3.420</td>\n",
              "      <td>28.491381</td>\n",
              "      <td>...</td>\n",
              "      <td>45.314533</td>\n",
              "      <td>92.407364</td>\n",
              "      <td>210.0</td>\n",
              "      <td>19.365774</td>\n",
              "      <td>46.200001</td>\n",
              "      <td>43.552971</td>\n",
              "      <td>78.680061</td>\n",
              "      <td>15.611847</td>\n",
              "      <td>19.361462</td>\n",
              "      <td>15.661585</td>\n",
              "    </tr>\n",
              "    <tr>\n",
              "      <th>2017-01-05</th>\n",
              "      <td>38.117283</td>\n",
              "      <td>1.02</td>\n",
              "      <td>22.315557</td>\n",
              "      <td>7.10</td>\n",
              "      <td>34.514027</td>\n",
              "      <td>11.763768</td>\n",
              "      <td>35.196552</td>\n",
              "      <td>41.349998</td>\n",
              "      <td>3.420</td>\n",
              "      <td>27.156494</td>\n",
              "      <td>...</td>\n",
              "      <td>45.369812</td>\n",
              "      <td>91.701538</td>\n",
              "      <td>217.5</td>\n",
              "      <td>19.274361</td>\n",
              "      <td>47.000000</td>\n",
              "      <td>44.154385</td>\n",
              "      <td>78.623169</td>\n",
              "      <td>15.117276</td>\n",
              "      <td>19.158243</td>\n",
              "      <td>16.165543</td>\n",
              "    </tr>\n",
              "    <tr>\n",
              "      <th>2017-01-06</th>\n",
              "      <td>37.917854</td>\n",
              "      <td>1.00</td>\n",
              "      <td>22.134968</td>\n",
              "      <td>6.70</td>\n",
              "      <td>34.210243</td>\n",
              "      <td>11.616178</td>\n",
              "      <td>35.278545</td>\n",
              "      <td>42.230000</td>\n",
              "      <td>3.240</td>\n",
              "      <td>27.323357</td>\n",
              "      <td>...</td>\n",
              "      <td>45.296101</td>\n",
              "      <td>91.701538</td>\n",
              "      <td>217.5</td>\n",
              "      <td>19.379490</td>\n",
              "      <td>47.450001</td>\n",
              "      <td>43.853683</td>\n",
              "      <td>79.011948</td>\n",
              "      <td>15.106900</td>\n",
              "      <td>18.971224</td>\n",
              "      <td>16.010479</td>\n",
              "    </tr>\n",
              "    <tr>\n",
              "      <th>2017-01-09</th>\n",
              "      <td>37.362923</td>\n",
              "      <td>1.01</td>\n",
              "      <td>21.825386</td>\n",
              "      <td>6.35</td>\n",
              "      <td>33.518280</td>\n",
              "      <td>11.564087</td>\n",
              "      <td>35.041710</td>\n",
              "      <td>43.500000</td>\n",
              "      <td>3.408</td>\n",
              "      <td>26.906202</td>\n",
              "      <td>...</td>\n",
              "      <td>45.323746</td>\n",
              "      <td>91.165108</td>\n",
              "      <td>229.5</td>\n",
              "      <td>19.315502</td>\n",
              "      <td>47.900002</td>\n",
              "      <td>43.288055</td>\n",
              "      <td>78.945572</td>\n",
              "      <td>14.972017</td>\n",
              "      <td>18.842365</td>\n",
              "      <td>15.967835</td>\n",
              "    </tr>\n",
              "  </tbody>\n",
              "</table>\n",
              "<p>5 rows × 197 columns</p>\n",
              "</div>\n",
              "      <button class=\"colab-df-convert\" onclick=\"convertToInteractive('df-249d09c0-0c93-44d0-a2cb-c6c20d9dc478')\"\n",
              "              title=\"Convert this dataframe to an interactive table.\"\n",
              "              style=\"display:none;\">\n",
              "        \n",
              "  <svg xmlns=\"http://www.w3.org/2000/svg\" height=\"24px\"viewBox=\"0 0 24 24\"\n",
              "       width=\"24px\">\n",
              "    <path d=\"M0 0h24v24H0V0z\" fill=\"none\"/>\n",
              "    <path d=\"M18.56 5.44l.94 2.06.94-2.06 2.06-.94-2.06-.94-.94-2.06-.94 2.06-2.06.94zm-11 1L8.5 8.5l.94-2.06 2.06-.94-2.06-.94L8.5 2.5l-.94 2.06-2.06.94zm10 10l.94 2.06.94-2.06 2.06-.94-2.06-.94-.94-2.06-.94 2.06-2.06.94z\"/><path d=\"M17.41 7.96l-1.37-1.37c-.4-.4-.92-.59-1.43-.59-.52 0-1.04.2-1.43.59L10.3 9.45l-7.72 7.72c-.78.78-.78 2.05 0 2.83L4 21.41c.39.39.9.59 1.41.59.51 0 1.02-.2 1.41-.59l7.78-7.78 2.81-2.81c.8-.78.8-2.07 0-2.86zM5.41 20L4 18.59l7.72-7.72 1.47 1.35L5.41 20z\"/>\n",
              "  </svg>\n",
              "      </button>\n",
              "      \n",
              "  <style>\n",
              "    .colab-df-container {\n",
              "      display:flex;\n",
              "      flex-wrap:wrap;\n",
              "      gap: 12px;\n",
              "    }\n",
              "\n",
              "    .colab-df-convert {\n",
              "      background-color: #E8F0FE;\n",
              "      border: none;\n",
              "      border-radius: 50%;\n",
              "      cursor: pointer;\n",
              "      display: none;\n",
              "      fill: #1967D2;\n",
              "      height: 32px;\n",
              "      padding: 0 0 0 0;\n",
              "      width: 32px;\n",
              "    }\n",
              "\n",
              "    .colab-df-convert:hover {\n",
              "      background-color: #E2EBFA;\n",
              "      box-shadow: 0px 1px 2px rgba(60, 64, 67, 0.3), 0px 1px 3px 1px rgba(60, 64, 67, 0.15);\n",
              "      fill: #174EA6;\n",
              "    }\n",
              "\n",
              "    [theme=dark] .colab-df-convert {\n",
              "      background-color: #3B4455;\n",
              "      fill: #D2E3FC;\n",
              "    }\n",
              "\n",
              "    [theme=dark] .colab-df-convert:hover {\n",
              "      background-color: #434B5C;\n",
              "      box-shadow: 0px 1px 3px 1px rgba(0, 0, 0, 0.15);\n",
              "      filter: drop-shadow(0px 1px 2px rgba(0, 0, 0, 0.3));\n",
              "      fill: #FFFFFF;\n",
              "    }\n",
              "  </style>\n",
              "\n",
              "      <script>\n",
              "        const buttonEl =\n",
              "          document.querySelector('#df-249d09c0-0c93-44d0-a2cb-c6c20d9dc478 button.colab-df-convert');\n",
              "        buttonEl.style.display =\n",
              "          google.colab.kernel.accessAllowed ? 'block' : 'none';\n",
              "\n",
              "        async function convertToInteractive(key) {\n",
              "          const element = document.querySelector('#df-249d09c0-0c93-44d0-a2cb-c6c20d9dc478');\n",
              "          const dataTable =\n",
              "            await google.colab.kernel.invokeFunction('convertToInteractive',\n",
              "                                                     [key], {});\n",
              "          if (!dataTable) return;\n",
              "\n",
              "          const docLinkHtml = 'Like what you see? Visit the ' +\n",
              "            '<a target=\"_blank\" href=https://colab.research.google.com/notebooks/data_table.ipynb>data table notebook</a>'\n",
              "            + ' to learn more about interactive tables.';\n",
              "          element.innerHTML = '';\n",
              "          dataTable['output_type'] = 'display_data';\n",
              "          await google.colab.output.renderOutput(dataTable, element);\n",
              "          const docLink = document.createElement('div');\n",
              "          docLink.innerHTML = docLinkHtml;\n",
              "          element.appendChild(docLink);\n",
              "        }\n",
              "      </script>\n",
              "    </div>\n",
              "  </div>\n",
              "  "
            ]
          },
          "metadata": {},
          "execution_count": 147
        }
      ]
    },
    {
      "cell_type": "code",
      "source": [
        "data.value_counts().isnull().sum()"
      ],
      "metadata": {
        "colab": {
          "base_uri": "https://localhost:8080/"
        },
        "id": "Ri_G7JNVyR3i",
        "outputId": "faac110d-f72a-483c-a6b9-adf7f2e0d191"
      },
      "execution_count": 148,
      "outputs": [
        {
          "output_type": "execute_result",
          "data": {
            "text/plain": [
              "0"
            ]
          },
          "metadata": {},
          "execution_count": 148
        }
      ]
    },
    {
      "cell_type": "markdown",
      "source": [
        "#### 2.0 Feature Engineering"
      ],
      "metadata": {
        "id": "3yHDeIruxo2z"
      }
    },
    {
      "cell_type": "code",
      "source": [
        "# create dataframe which cointains return and volatility information\n",
        "df_extended = pd.DataFrame(data.pct_change().mean() * 255, columns=['returns'])\n",
        "df_extended['volatility'] = data.pct_change().std() * np.sqrt(255)\n",
        "df_extended.head()"
      ],
      "metadata": {
        "colab": {
          "base_uri": "https://localhost:8080/",
          "height": 206
        },
        "id": "5VYPE3a6yuQG",
        "outputId": "7b5b6052-d234-4f50-e814-588848fd6ec6"
      },
      "execution_count": 149,
      "outputs": [
        {
          "output_type": "execute_result",
          "data": {
            "text/plain": [
              "       returns  volatility\n",
              "AAT  -0.000365    0.335627\n",
              "AAU   0.046185    0.754998\n",
              "ACR   0.081547    0.725073\n",
              "ACTG  0.022728    0.477619\n",
              "AE    0.132230    0.464706"
            ],
            "text/html": [
              "\n",
              "  <div id=\"df-5c913b4b-a510-4ac1-af47-85fb8bf8e89c\">\n",
              "    <div class=\"colab-df-container\">\n",
              "      <div>\n",
              "<style scoped>\n",
              "    .dataframe tbody tr th:only-of-type {\n",
              "        vertical-align: middle;\n",
              "    }\n",
              "\n",
              "    .dataframe tbody tr th {\n",
              "        vertical-align: top;\n",
              "    }\n",
              "\n",
              "    .dataframe thead th {\n",
              "        text-align: right;\n",
              "    }\n",
              "</style>\n",
              "<table border=\"1\" class=\"dataframe\">\n",
              "  <thead>\n",
              "    <tr style=\"text-align: right;\">\n",
              "      <th></th>\n",
              "      <th>returns</th>\n",
              "      <th>volatility</th>\n",
              "    </tr>\n",
              "  </thead>\n",
              "  <tbody>\n",
              "    <tr>\n",
              "      <th>AAT</th>\n",
              "      <td>-0.000365</td>\n",
              "      <td>0.335627</td>\n",
              "    </tr>\n",
              "    <tr>\n",
              "      <th>AAU</th>\n",
              "      <td>0.046185</td>\n",
              "      <td>0.754998</td>\n",
              "    </tr>\n",
              "    <tr>\n",
              "      <th>ACR</th>\n",
              "      <td>0.081547</td>\n",
              "      <td>0.725073</td>\n",
              "    </tr>\n",
              "    <tr>\n",
              "      <th>ACTG</th>\n",
              "      <td>0.022728</td>\n",
              "      <td>0.477619</td>\n",
              "    </tr>\n",
              "    <tr>\n",
              "      <th>AE</th>\n",
              "      <td>0.132230</td>\n",
              "      <td>0.464706</td>\n",
              "    </tr>\n",
              "  </tbody>\n",
              "</table>\n",
              "</div>\n",
              "      <button class=\"colab-df-convert\" onclick=\"convertToInteractive('df-5c913b4b-a510-4ac1-af47-85fb8bf8e89c')\"\n",
              "              title=\"Convert this dataframe to an interactive table.\"\n",
              "              style=\"display:none;\">\n",
              "        \n",
              "  <svg xmlns=\"http://www.w3.org/2000/svg\" height=\"24px\"viewBox=\"0 0 24 24\"\n",
              "       width=\"24px\">\n",
              "    <path d=\"M0 0h24v24H0V0z\" fill=\"none\"/>\n",
              "    <path d=\"M18.56 5.44l.94 2.06.94-2.06 2.06-.94-2.06-.94-.94-2.06-.94 2.06-2.06.94zm-11 1L8.5 8.5l.94-2.06 2.06-.94-2.06-.94L8.5 2.5l-.94 2.06-2.06.94zm10 10l.94 2.06.94-2.06 2.06-.94-2.06-.94-.94-2.06-.94 2.06-2.06.94z\"/><path d=\"M17.41 7.96l-1.37-1.37c-.4-.4-.92-.59-1.43-.59-.52 0-1.04.2-1.43.59L10.3 9.45l-7.72 7.72c-.78.78-.78 2.05 0 2.83L4 21.41c.39.39.9.59 1.41.59.51 0 1.02-.2 1.41-.59l7.78-7.78 2.81-2.81c.8-.78.8-2.07 0-2.86zM5.41 20L4 18.59l7.72-7.72 1.47 1.35L5.41 20z\"/>\n",
              "  </svg>\n",
              "      </button>\n",
              "      \n",
              "  <style>\n",
              "    .colab-df-container {\n",
              "      display:flex;\n",
              "      flex-wrap:wrap;\n",
              "      gap: 12px;\n",
              "    }\n",
              "\n",
              "    .colab-df-convert {\n",
              "      background-color: #E8F0FE;\n",
              "      border: none;\n",
              "      border-radius: 50%;\n",
              "      cursor: pointer;\n",
              "      display: none;\n",
              "      fill: #1967D2;\n",
              "      height: 32px;\n",
              "      padding: 0 0 0 0;\n",
              "      width: 32px;\n",
              "    }\n",
              "\n",
              "    .colab-df-convert:hover {\n",
              "      background-color: #E2EBFA;\n",
              "      box-shadow: 0px 1px 2px rgba(60, 64, 67, 0.3), 0px 1px 3px 1px rgba(60, 64, 67, 0.15);\n",
              "      fill: #174EA6;\n",
              "    }\n",
              "\n",
              "    [theme=dark] .colab-df-convert {\n",
              "      background-color: #3B4455;\n",
              "      fill: #D2E3FC;\n",
              "    }\n",
              "\n",
              "    [theme=dark] .colab-df-convert:hover {\n",
              "      background-color: #434B5C;\n",
              "      box-shadow: 0px 1px 3px 1px rgba(0, 0, 0, 0.15);\n",
              "      filter: drop-shadow(0px 1px 2px rgba(0, 0, 0, 0.3));\n",
              "      fill: #FFFFFF;\n",
              "    }\n",
              "  </style>\n",
              "\n",
              "      <script>\n",
              "        const buttonEl =\n",
              "          document.querySelector('#df-5c913b4b-a510-4ac1-af47-85fb8bf8e89c button.colab-df-convert');\n",
              "        buttonEl.style.display =\n",
              "          google.colab.kernel.accessAllowed ? 'block' : 'none';\n",
              "\n",
              "        async function convertToInteractive(key) {\n",
              "          const element = document.querySelector('#df-5c913b4b-a510-4ac1-af47-85fb8bf8e89c');\n",
              "          const dataTable =\n",
              "            await google.colab.kernel.invokeFunction('convertToInteractive',\n",
              "                                                     [key], {});\n",
              "          if (!dataTable) return;\n",
              "\n",
              "          const docLinkHtml = 'Like what you see? Visit the ' +\n",
              "            '<a target=\"_blank\" href=https://colab.research.google.com/notebooks/data_table.ipynb>data table notebook</a>'\n",
              "            + ' to learn more about interactive tables.';\n",
              "          element.innerHTML = '';\n",
              "          dataTable['output_type'] = 'display_data';\n",
              "          await google.colab.output.renderOutput(dataTable, element);\n",
              "          const docLink = document.createElement('div');\n",
              "          docLink.innerHTML = docLinkHtml;\n",
              "          element.appendChild(docLink);\n",
              "        }\n",
              "      </script>\n",
              "    </div>\n",
              "  </div>\n",
              "  "
            ]
          },
          "metadata": {},
          "execution_count": 149
        }
      ]
    },
    {
      "cell_type": "code",
      "source": [
        "# df_extended = df_extended.fillna(method=\"ffill\")\n",
        "# df_extended.isnull().any()\n",
        "# df_extended = df_extended.replace([np.inf, -np.inf], 0)"
      ],
      "metadata": {
        "id": "Ijv4xMmzJ2g6"
      },
      "execution_count": 150,
      "outputs": []
    },
    {
      "cell_type": "code",
      "source": [
        "df_extended.describe()"
      ],
      "metadata": {
        "colab": {
          "base_uri": "https://localhost:8080/",
          "height": 300
        },
        "id": "zOc5gSFNLG7h",
        "outputId": "959bcc11-b5b0-4a3e-9fc6-83951f8f1781"
      },
      "execution_count": 151,
      "outputs": [
        {
          "output_type": "execute_result",
          "data": {
            "text/plain": [
              "          returns  volatility\n",
              "count  197.000000  197.000000\n",
              "mean     0.128955    0.491876\n",
              "std      0.247879    0.471835\n",
              "min     -1.016777    0.015973\n",
              "25%      0.021595    0.273845\n",
              "50%      0.085741    0.359531\n",
              "75%      0.175232    0.501887\n",
              "max      2.084294    3.732560"
            ],
            "text/html": [
              "\n",
              "  <div id=\"df-10ea7892-7e82-4962-9be6-08eb3e1a1eca\">\n",
              "    <div class=\"colab-df-container\">\n",
              "      <div>\n",
              "<style scoped>\n",
              "    .dataframe tbody tr th:only-of-type {\n",
              "        vertical-align: middle;\n",
              "    }\n",
              "\n",
              "    .dataframe tbody tr th {\n",
              "        vertical-align: top;\n",
              "    }\n",
              "\n",
              "    .dataframe thead th {\n",
              "        text-align: right;\n",
              "    }\n",
              "</style>\n",
              "<table border=\"1\" class=\"dataframe\">\n",
              "  <thead>\n",
              "    <tr style=\"text-align: right;\">\n",
              "      <th></th>\n",
              "      <th>returns</th>\n",
              "      <th>volatility</th>\n",
              "    </tr>\n",
              "  </thead>\n",
              "  <tbody>\n",
              "    <tr>\n",
              "      <th>count</th>\n",
              "      <td>197.000000</td>\n",
              "      <td>197.000000</td>\n",
              "    </tr>\n",
              "    <tr>\n",
              "      <th>mean</th>\n",
              "      <td>0.128955</td>\n",
              "      <td>0.491876</td>\n",
              "    </tr>\n",
              "    <tr>\n",
              "      <th>std</th>\n",
              "      <td>0.247879</td>\n",
              "      <td>0.471835</td>\n",
              "    </tr>\n",
              "    <tr>\n",
              "      <th>min</th>\n",
              "      <td>-1.016777</td>\n",
              "      <td>0.015973</td>\n",
              "    </tr>\n",
              "    <tr>\n",
              "      <th>25%</th>\n",
              "      <td>0.021595</td>\n",
              "      <td>0.273845</td>\n",
              "    </tr>\n",
              "    <tr>\n",
              "      <th>50%</th>\n",
              "      <td>0.085741</td>\n",
              "      <td>0.359531</td>\n",
              "    </tr>\n",
              "    <tr>\n",
              "      <th>75%</th>\n",
              "      <td>0.175232</td>\n",
              "      <td>0.501887</td>\n",
              "    </tr>\n",
              "    <tr>\n",
              "      <th>max</th>\n",
              "      <td>2.084294</td>\n",
              "      <td>3.732560</td>\n",
              "    </tr>\n",
              "  </tbody>\n",
              "</table>\n",
              "</div>\n",
              "      <button class=\"colab-df-convert\" onclick=\"convertToInteractive('df-10ea7892-7e82-4962-9be6-08eb3e1a1eca')\"\n",
              "              title=\"Convert this dataframe to an interactive table.\"\n",
              "              style=\"display:none;\">\n",
              "        \n",
              "  <svg xmlns=\"http://www.w3.org/2000/svg\" height=\"24px\"viewBox=\"0 0 24 24\"\n",
              "       width=\"24px\">\n",
              "    <path d=\"M0 0h24v24H0V0z\" fill=\"none\"/>\n",
              "    <path d=\"M18.56 5.44l.94 2.06.94-2.06 2.06-.94-2.06-.94-.94-2.06-.94 2.06-2.06.94zm-11 1L8.5 8.5l.94-2.06 2.06-.94-2.06-.94L8.5 2.5l-.94 2.06-2.06.94zm10 10l.94 2.06.94-2.06 2.06-.94-2.06-.94-.94-2.06-.94 2.06-2.06.94z\"/><path d=\"M17.41 7.96l-1.37-1.37c-.4-.4-.92-.59-1.43-.59-.52 0-1.04.2-1.43.59L10.3 9.45l-7.72 7.72c-.78.78-.78 2.05 0 2.83L4 21.41c.39.39.9.59 1.41.59.51 0 1.02-.2 1.41-.59l7.78-7.78 2.81-2.81c.8-.78.8-2.07 0-2.86zM5.41 20L4 18.59l7.72-7.72 1.47 1.35L5.41 20z\"/>\n",
              "  </svg>\n",
              "      </button>\n",
              "      \n",
              "  <style>\n",
              "    .colab-df-container {\n",
              "      display:flex;\n",
              "      flex-wrap:wrap;\n",
              "      gap: 12px;\n",
              "    }\n",
              "\n",
              "    .colab-df-convert {\n",
              "      background-color: #E8F0FE;\n",
              "      border: none;\n",
              "      border-radius: 50%;\n",
              "      cursor: pointer;\n",
              "      display: none;\n",
              "      fill: #1967D2;\n",
              "      height: 32px;\n",
              "      padding: 0 0 0 0;\n",
              "      width: 32px;\n",
              "    }\n",
              "\n",
              "    .colab-df-convert:hover {\n",
              "      background-color: #E2EBFA;\n",
              "      box-shadow: 0px 1px 2px rgba(60, 64, 67, 0.3), 0px 1px 3px 1px rgba(60, 64, 67, 0.15);\n",
              "      fill: #174EA6;\n",
              "    }\n",
              "\n",
              "    [theme=dark] .colab-df-convert {\n",
              "      background-color: #3B4455;\n",
              "      fill: #D2E3FC;\n",
              "    }\n",
              "\n",
              "    [theme=dark] .colab-df-convert:hover {\n",
              "      background-color: #434B5C;\n",
              "      box-shadow: 0px 1px 3px 1px rgba(0, 0, 0, 0.15);\n",
              "      filter: drop-shadow(0px 1px 2px rgba(0, 0, 0, 0.3));\n",
              "      fill: #FFFFFF;\n",
              "    }\n",
              "  </style>\n",
              "\n",
              "      <script>\n",
              "        const buttonEl =\n",
              "          document.querySelector('#df-10ea7892-7e82-4962-9be6-08eb3e1a1eca button.colab-df-convert');\n",
              "        buttonEl.style.display =\n",
              "          google.colab.kernel.accessAllowed ? 'block' : 'none';\n",
              "\n",
              "        async function convertToInteractive(key) {\n",
              "          const element = document.querySelector('#df-10ea7892-7e82-4962-9be6-08eb3e1a1eca');\n",
              "          const dataTable =\n",
              "            await google.colab.kernel.invokeFunction('convertToInteractive',\n",
              "                                                     [key], {});\n",
              "          if (!dataTable) return;\n",
              "\n",
              "          const docLinkHtml = 'Like what you see? Visit the ' +\n",
              "            '<a target=\"_blank\" href=https://colab.research.google.com/notebooks/data_table.ipynb>data table notebook</a>'\n",
              "            + ' to learn more about interactive tables.';\n",
              "          element.innerHTML = '';\n",
              "          dataTable['output_type'] = 'display_data';\n",
              "          await google.colab.output.renderOutput(dataTable, element);\n",
              "          const docLink = document.createElement('div');\n",
              "          docLink.innerHTML = docLinkHtml;\n",
              "          element.appendChild(docLink);\n",
              "        }\n",
              "      </script>\n",
              "    </div>\n",
              "  </div>\n",
              "  "
            ]
          },
          "metadata": {},
          "execution_count": 151
        }
      ]
    },
    {
      "cell_type": "code",
      "source": [
        "# scaling the data\n",
        "scaler = StandardScaler()\n",
        "scaler = scaler.fit_transform(df_extended)\n",
        "df_scaled = pd.DataFrame(scaler, index=df_extended.index, columns=df_extended.columns)\n",
        "df_scaled.head()"
      ],
      "metadata": {
        "colab": {
          "base_uri": "https://localhost:8080/",
          "height": 206
        },
        "id": "Kf7MbvvLxija",
        "outputId": "f5c2bfcf-4c30-44ae-d65c-1584a21d8319"
      },
      "execution_count": 152,
      "outputs": [
        {
          "output_type": "execute_result",
          "data": {
            "text/plain": [
              "       returns  volatility\n",
              "AAT  -0.523035   -0.331995\n",
              "AAU  -0.334763    0.559079\n",
              "ACR  -0.191743    0.495493\n",
              "ACTG -0.429634   -0.030294\n",
              "AE    0.013247   -0.057729"
            ],
            "text/html": [
              "\n",
              "  <div id=\"df-95597bba-7b19-46d8-a2f8-1e8d893880e5\">\n",
              "    <div class=\"colab-df-container\">\n",
              "      <div>\n",
              "<style scoped>\n",
              "    .dataframe tbody tr th:only-of-type {\n",
              "        vertical-align: middle;\n",
              "    }\n",
              "\n",
              "    .dataframe tbody tr th {\n",
              "        vertical-align: top;\n",
              "    }\n",
              "\n",
              "    .dataframe thead th {\n",
              "        text-align: right;\n",
              "    }\n",
              "</style>\n",
              "<table border=\"1\" class=\"dataframe\">\n",
              "  <thead>\n",
              "    <tr style=\"text-align: right;\">\n",
              "      <th></th>\n",
              "      <th>returns</th>\n",
              "      <th>volatility</th>\n",
              "    </tr>\n",
              "  </thead>\n",
              "  <tbody>\n",
              "    <tr>\n",
              "      <th>AAT</th>\n",
              "      <td>-0.523035</td>\n",
              "      <td>-0.331995</td>\n",
              "    </tr>\n",
              "    <tr>\n",
              "      <th>AAU</th>\n",
              "      <td>-0.334763</td>\n",
              "      <td>0.559079</td>\n",
              "    </tr>\n",
              "    <tr>\n",
              "      <th>ACR</th>\n",
              "      <td>-0.191743</td>\n",
              "      <td>0.495493</td>\n",
              "    </tr>\n",
              "    <tr>\n",
              "      <th>ACTG</th>\n",
              "      <td>-0.429634</td>\n",
              "      <td>-0.030294</td>\n",
              "    </tr>\n",
              "    <tr>\n",
              "      <th>AE</th>\n",
              "      <td>0.013247</td>\n",
              "      <td>-0.057729</td>\n",
              "    </tr>\n",
              "  </tbody>\n",
              "</table>\n",
              "</div>\n",
              "      <button class=\"colab-df-convert\" onclick=\"convertToInteractive('df-95597bba-7b19-46d8-a2f8-1e8d893880e5')\"\n",
              "              title=\"Convert this dataframe to an interactive table.\"\n",
              "              style=\"display:none;\">\n",
              "        \n",
              "  <svg xmlns=\"http://www.w3.org/2000/svg\" height=\"24px\"viewBox=\"0 0 24 24\"\n",
              "       width=\"24px\">\n",
              "    <path d=\"M0 0h24v24H0V0z\" fill=\"none\"/>\n",
              "    <path d=\"M18.56 5.44l.94 2.06.94-2.06 2.06-.94-2.06-.94-.94-2.06-.94 2.06-2.06.94zm-11 1L8.5 8.5l.94-2.06 2.06-.94-2.06-.94L8.5 2.5l-.94 2.06-2.06.94zm10 10l.94 2.06.94-2.06 2.06-.94-2.06-.94-.94-2.06-.94 2.06-2.06.94z\"/><path d=\"M17.41 7.96l-1.37-1.37c-.4-.4-.92-.59-1.43-.59-.52 0-1.04.2-1.43.59L10.3 9.45l-7.72 7.72c-.78.78-.78 2.05 0 2.83L4 21.41c.39.39.9.59 1.41.59.51 0 1.02-.2 1.41-.59l7.78-7.78 2.81-2.81c.8-.78.8-2.07 0-2.86zM5.41 20L4 18.59l7.72-7.72 1.47 1.35L5.41 20z\"/>\n",
              "  </svg>\n",
              "      </button>\n",
              "      \n",
              "  <style>\n",
              "    .colab-df-container {\n",
              "      display:flex;\n",
              "      flex-wrap:wrap;\n",
              "      gap: 12px;\n",
              "    }\n",
              "\n",
              "    .colab-df-convert {\n",
              "      background-color: #E8F0FE;\n",
              "      border: none;\n",
              "      border-radius: 50%;\n",
              "      cursor: pointer;\n",
              "      display: none;\n",
              "      fill: #1967D2;\n",
              "      height: 32px;\n",
              "      padding: 0 0 0 0;\n",
              "      width: 32px;\n",
              "    }\n",
              "\n",
              "    .colab-df-convert:hover {\n",
              "      background-color: #E2EBFA;\n",
              "      box-shadow: 0px 1px 2px rgba(60, 64, 67, 0.3), 0px 1px 3px 1px rgba(60, 64, 67, 0.15);\n",
              "      fill: #174EA6;\n",
              "    }\n",
              "\n",
              "    [theme=dark] .colab-df-convert {\n",
              "      background-color: #3B4455;\n",
              "      fill: #D2E3FC;\n",
              "    }\n",
              "\n",
              "    [theme=dark] .colab-df-convert:hover {\n",
              "      background-color: #434B5C;\n",
              "      box-shadow: 0px 1px 3px 1px rgba(0, 0, 0, 0.15);\n",
              "      filter: drop-shadow(0px 1px 2px rgba(0, 0, 0, 0.3));\n",
              "      fill: #FFFFFF;\n",
              "    }\n",
              "  </style>\n",
              "\n",
              "      <script>\n",
              "        const buttonEl =\n",
              "          document.querySelector('#df-95597bba-7b19-46d8-a2f8-1e8d893880e5 button.colab-df-convert');\n",
              "        buttonEl.style.display =\n",
              "          google.colab.kernel.accessAllowed ? 'block' : 'none';\n",
              "\n",
              "        async function convertToInteractive(key) {\n",
              "          const element = document.querySelector('#df-95597bba-7b19-46d8-a2f8-1e8d893880e5');\n",
              "          const dataTable =\n",
              "            await google.colab.kernel.invokeFunction('convertToInteractive',\n",
              "                                                     [key], {});\n",
              "          if (!dataTable) return;\n",
              "\n",
              "          const docLinkHtml = 'Like what you see? Visit the ' +\n",
              "            '<a target=\"_blank\" href=https://colab.research.google.com/notebooks/data_table.ipynb>data table notebook</a>'\n",
              "            + ' to learn more about interactive tables.';\n",
              "          element.innerHTML = '';\n",
              "          dataTable['output_type'] = 'display_data';\n",
              "          await google.colab.output.renderOutput(dataTable, element);\n",
              "          const docLink = document.createElement('div');\n",
              "          docLink.innerHTML = docLinkHtml;\n",
              "          element.appendChild(docLink);\n",
              "        }\n",
              "      </script>\n",
              "    </div>\n",
              "  </div>\n",
              "  "
            ]
          },
          "metadata": {},
          "execution_count": 152
        }
      ]
    },
    {
      "cell_type": "markdown",
      "source": [
        "#### 3.0 K-Means Clustering"
      ],
      "metadata": {
        "id": "MCyhrQp9Mvcn"
      }
    },
    {
      "cell_type": "code",
      "source": [
        "# find the optimal number of clusters \n",
        "X = df_scaled.copy()\n",
        "K = range(1,15)\n",
        "distortions = []\n",
        "for k in K:\n",
        "  kmeans = KMeans(n_clusters=k)\n",
        "  kmeans.fit(X)\n",
        "  distortions.append(kmeans.inertia_)\n",
        "\n",
        "kn = KneeLocator(K, distortions, curve='convex', direction='decreasing')\n",
        "c = kn.elbow\n",
        "print(f\"The optimal number of clusters: {c}\")"
      ],
      "metadata": {
        "colab": {
          "base_uri": "https://localhost:8080/"
        },
        "id": "8yRL0wK6z-3w",
        "outputId": "b55d5f9d-fe91-4df5-b0e0-f37a4884e833"
      },
      "execution_count": 170,
      "outputs": [
        {
          "output_type": "stream",
          "name": "stdout",
          "text": [
            "\r[****************************************************231%*******************************************************]  915 of 396 completedThe optimal number of clusters: 4\n"
          ]
        }
      ]
    },
    {
      "cell_type": "code",
      "source": [
        "# fit the model\n",
        "kmeans = KMeans(n_clusters=c)\n",
        "kmeans.fit(X)\n",
        "preds = kmeans.predict(df_scaled)"
      ],
      "metadata": {
        "id": "CSQo4EhqOBqW"
      },
      "execution_count": 171,
      "outputs": []
    },
    {
      "cell_type": "code",
      "source": [
        "# show results\n",
        "centroids = kmeans.cluster_centers_\n",
        "fig = plt.figure(figsize=(18,10))\n",
        "ax = fig.add_subplot(111)\n",
        "scatter = ax.scatter(X.iloc[:,0], X.iloc[:,1], c=kmeans.labels_, cmap='rainbow', label=X.index )\n",
        "ax.set_title('Cluster Analysis')\n",
        "ax.set_ylabel('Volatility')\n",
        "ax.set_xlabel('Mean Return')\n",
        "plt.colorbar(scatter)\n",
        "plt.plot(centroids[:,0], centroids[:,1], \"sg\", markersize=10)\n",
        "plt.show()"
      ],
      "metadata": {
        "colab": {
          "base_uri": "https://localhost:8080/",
          "height": 621
        },
        "id": "IUahdvSnPx47",
        "outputId": "01ac844f-1203-4c9f-d527-523ff76958fc"
      },
      "execution_count": 172,
      "outputs": [
        {
          "output_type": "display_data",
          "data": {
            "text/plain": [
              "<Figure size 1296x720 with 2 Axes>"
            ],
            "image/png": "[encoded data removed]"
          },
          "metadata": {
            "needs_background": "light"
          }
        }
      ]
    },
    {
      "cell_type": "code",
      "source": [
        "# return the clustered series\n",
        "clustered_series = pd.Series(index=X.index, data=kmeans.labels_.flatten())\n",
        "# clustered_series = clustered_series[clustered_series != -1]\n",
        "clustered_series"
      ],
      "metadata": {
        "colab": {
          "base_uri": "https://localhost:8080/"
        },
        "id": "CqObKIFfQAL1",
        "outputId": "83a55397-6741-4208-c745-1f9219e4d4e5"
      },
      "execution_count": 173,
      "outputs": [
        {
          "output_type": "execute_result",
          "data": {
            "text/plain": [
              "AAT      2\n",
              "AAU      2\n",
              "ACR      2\n",
              "ACTG     2\n",
              "AE       2\n",
              "        ..\n",
              "WPC      2\n",
              "XLY      2\n",
              "XPO      2\n",
              "XSHD     2\n",
              "YARIY    2\n",
              "Length: 197, dtype: int32"
            ]
          },
          "metadata": {},
          "execution_count": 173
        }
      ]
    },
    {
      "cell_type": "code",
      "source": [
        "plt.figure(figsize=(10,5))\n",
        "plt.bar(range(len(clustered_series.value_counts())),clustered_series.value_counts())\n",
        "plt.title(\"Clusters\")\n",
        "plt.xlabel(\"Cluster\")\n",
        "plt.ylabel(\"Fetures Count\")\n",
        "plt.show()"
      ],
      "metadata": {
        "colab": {
          "base_uri": "https://localhost:8080/",
          "height": 368
        },
        "id": "oOIJhuJpYok4",
        "outputId": "484773ef-99f7-4634-9288-f19585ca0381"
      },
      "execution_count": 174,
      "outputs": [
        {
          "output_type": "stream",
          "name": "stdout",
          "text": [
            "\r[****************************************************231%*******************************************************]  916 of 396 completed"
          ]
        },
        {
          "output_type": "display_data",
          "data": {
            "text/plain": [
              "<Figure size 720x360 with 1 Axes>"
            ],
            "image/png": "[encoded data removed]"
          },
          "metadata": {
            "needs_background": "light"
          }
        }
      ]
    },
    {
      "cell_type": "code",
      "source": [
        "# if there any significant outliers can be detected it should remove from the dataset, but at this point it has been worked with small kind of test dataset which not contains it.\n",
        "clustered_series_rem_ol = clustered_series[clustered_series < 3]"
      ],
      "metadata": {
        "id": "2TctXea9b_8U"
      },
      "execution_count": null,
      "outputs": []
    },
    {
      "cell_type": "code",
      "source": [],
      "metadata": {
        "id": "GdfRftopeYiv"
      },
      "execution_count": null,
      "outputs": []
    }
  ]
}