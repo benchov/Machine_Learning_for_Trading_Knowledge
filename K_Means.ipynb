{
  "nbformat": 4,
  "nbformat_minor": 0,
  "metadata": {
    "colab": {
      "provenance": [],
      "authorship_tag": "ABX9TyMR5nvRrGMV6RjBgsVhj9us",
      "include_colab_link": true
    },
    "kernelspec": {
      "name": "python3",
      "display_name": "Python 3"
    },
    "language_info": {
      "name": "python"
    }
  },
  "cells": [
    {
      "cell_type": "markdown",
      "metadata": {
        "id": "view-in-github",
        "colab_type": "text"
      },
      "source": [
        "<a href=\"https://colab.research.google.com/github/benchov/Machine_Learning_for_Trading_Knowledge/blob/main/K_Means.ipynb\" target=\"_parent\"><img src=\"https://colab.research.google.com/assets/colab-badge.svg\" alt=\"Open In Colab\"/></a>"
      ]
    },
    {
      "cell_type": "code",
      "source": [
        "!pip install kneed"
      ],
      "metadata": {
        "colab": {
          "base_uri": "https://localhost:8080/"
        },
        "id": "MzVAa97lFfVj",
        "outputId": "4c36339b-48cb-4c6b-eb48-3d96aeac8c52"
      },
      "execution_count": 2,
      "outputs": [
        {
          "output_type": "stream",
          "name": "stdout",
          "text": [
            "Looking in indexes: https://pypi.org/simple, https://us-python.pkg.dev/colab-wheels/public/simple/\n",
            "Collecting kneed\n",
            "  Downloading kneed-0.8.1-py2.py3-none-any.whl (10 kB)\n",
            "Requirement already satisfied: numpy>=1.14.2 in /usr/local/lib/python3.8/dist-packages (from kneed) (1.21.6)\n",
            "Requirement already satisfied: scipy>=1.0.0 in /usr/local/lib/python3.8/dist-packages (from kneed) (1.7.3)\n",
            "Installing collected packages: kneed\n",
            "Successfully installed kneed-0.8.1\n"
          ]
        }
      ]
    },
    {
      "cell_type": "code",
      "execution_count": 3,
      "metadata": {
        "id": "X5i4ft474-wy"
      },
      "outputs": [],
      "source": [
        "# remove unwanted warnings\n",
        "import warnings\n",
        "warnings.simplefilter(action='ignore', category=FutureWarning)\n",
        "\n",
        "# data extraction and management\n",
        "import pandas as pd\n",
        "import numpy as np\n",
        "from pandas_datareader.data import DataReader\n",
        "from pandas_datareader.nasdaq_trader import get_nasdaq_symbols\n",
        "\n",
        "# feature engineering\n",
        "from sklearn.preprocessing import StandardScaler\n",
        "\n",
        "# machine learning\n",
        "from sklearn.cluster import KMeans\n",
        "from sklearn import metrics\n",
        "from kneed import KneeLocator\n",
        "\n",
        "# Cointegration and statisctic\n",
        "from statsmodels.tsa.stattools import coint\n",
        "import statsmodels.api as simplefilter\n",
        "\n",
        "# reporting and visualisation\n",
        "from sklearn.manifold import TSNE\n",
        "import matplotlib.pyplot as plt\n",
        "import matplotlib.cm as cm\n",
        "%matplotlib inline"
      ]
    },
    {
      "cell_type": "markdown",
      "source": [
        "#### Data Extraction"
      ],
      "metadata": {
        "id": "t8nn-PgNrlp9"
      }
    },
    {
      "cell_type": "code",
      "source": [
        "# set data extraction parameters\n",
        "start_date = '2017-01-01'\n",
        "end_date = '2022-06-01'\n",
        "file_name = '/content/raw_data_etf.csv'\n",
        "file_name_coint = '/content/raw_data_coint_pairs.csv'\n",
        "load_existing = True\n",
        "load_coint_pairs = True"
      ],
      "metadata": {
        "id": "sHgTdb9dIYPA"
      },
      "execution_count": 4,
      "outputs": []
    },
    {
      "cell_type": "code",
      "source": [
        "# get new or load existing data\n",
        "if not load_existing:\n",
        "  symbols = get_nasdaq_symbols()\n",
        "  symbols = symbols[(symbols['ETF'] == True) & (symbols['Market Category'] == 'G')] # get Global ETF\n",
        "  symbols = list(symbols.index.values)\n",
        "  data = DataReader(name=symbols, data_source='yahoo', start=start_date, end=end_date)['Adj Close']\n",
        "  data.to_csv(file_name)"
      ],
      "metadata": {
        "id": "cHItXD7dvFTm"
      },
      "execution_count": 5,
      "outputs": []
    },
    {
      "cell_type": "code",
      "source": [
        "data = pd.read_csv(file_name, error_bad_lines=False)\n",
        "data.dropna(inplace=True, axis=1)\n",
        "data = data.set_index('Date')\n",
        "print(f'Shape: {data.shape}')\n",
        "print(f'Null Values: {data.isnull().values.any()}')\n",
        "data.head()"
      ],
      "metadata": {
        "colab": {
          "base_uri": "https://localhost:8080/",
          "height": 452
        },
        "id": "QpOZtaGayOrC",
        "outputId": "28997ff9-0478-4186-ddea-a76bbdecda35"
      },
      "execution_count": 6,
      "outputs": [
        {
          "output_type": "stream",
          "name": "stdout",
          "text": [
            "Shape: (1363, 265)\n",
            "Null Values: False\n"
          ]
        },
        {
          "output_type": "execute_result",
          "data": {
            "text/plain": [
              "                 AADR       AAXJ       ACWI       ACWX       ADRE       AGNG  \\\n",
              "Date                                                                           \n",
              "2017-01-03  39.404003  50.324165  53.491852  34.928574  29.558573  14.668802   \n",
              "2017-01-04  40.082230  50.823139  53.949348  35.316765  29.874083  14.668802   \n",
              "2017-01-05  40.512093  51.539852  54.155670  35.618690  30.514109  14.668802   \n",
              "2017-01-06  40.378361  51.285820  54.164646  35.472038  30.081415  14.668802   \n",
              "2017-01-09  40.521645  51.331188  54.039059  35.420284  30.333826  14.668802   \n",
              "\n",
              "                 AGZD        AIA       AIRR      ALTY  ...       VTHR  \\\n",
              "Date                                                   ...              \n",
              "2017-01-03  42.505810  42.452053  23.538317  9.600211  ...  96.048004   \n",
              "2017-01-04  42.602840  42.678879  23.885475  9.735156  ...  97.151901   \n",
              "2017-01-05  42.594006  43.205097  23.479965  9.807764  ...  96.975655   \n",
              "2017-01-06  42.558708  43.023640  23.479965  9.902229  ...  97.226128   \n",
              "2017-01-09  42.452873  43.141598  22.985437  9.838611  ...  96.892189   \n",
              "\n",
              "                 VTIP        VTWG       VTWO       VTWV       VWOB       VXUS  \\\n",
              "Date                                                                            \n",
              "2017-01-03  45.296101  108.774231  51.274086  96.194260  63.629200  40.811722   \n",
              "2017-01-04  45.314533  111.057976  52.043102  97.649651  63.882755  41.262142   \n",
              "2017-01-05  45.369812  110.202805  51.524136  96.333328  64.291672  41.571251   \n",
              "2017-01-06  45.296101  109.639153  51.307114  95.814209  64.111755  41.482937   \n",
              "2017-01-09  45.323746  109.571121  50.962708  94.655472  64.275322  41.403458   \n",
              "\n",
              "                 VYMI       WOOD         XT  \n",
              "Date                                         \n",
              "2017-01-03  48.171516  49.646027  25.511465  \n",
              "2017-01-04  48.659973  50.088799  25.843027  \n",
              "2017-01-05  49.131573  50.051899  25.928291  \n",
              "2017-01-06  48.870510  50.051899  25.975655  \n",
              "2017-01-09  48.735756  49.729046  26.039127  \n",
              "\n",
              "[5 rows x 265 columns]"
            ],
            "text/html": [
              "\n",
              "  <div id=\"df-9669fec4-c03c-4bea-9da6-e214be700d04\">\n",
              "    <div class=\"colab-df-container\">\n",
              "      <div>\n",
              "<style scoped>\n",
              "    .dataframe tbody tr th:only-of-type {\n",
              "        vertical-align: middle;\n",
              "    }\n",
              "\n",
              "    .dataframe tbody tr th {\n",
              "        vertical-align: top;\n",
              "    }\n",
              "\n",
              "    .dataframe thead th {\n",
              "        text-align: right;\n",
              "    }\n",
              "</style>\n",
              "<table border=\"1\" class=\"dataframe\">\n",
              "  <thead>\n",
              "    <tr style=\"text-align: right;\">\n",
              "      <th></th>\n",
              "      <th>AADR</th>\n",
              "      <th>AAXJ</th>\n",
              "      <th>ACWI</th>\n",
              "      <th>ACWX</th>\n",
              "      <th>ADRE</th>\n",
              "      <th>AGNG</th>\n",
              "      <th>AGZD</th>\n",
              "      <th>AIA</th>\n",
              "      <th>AIRR</th>\n",
              "      <th>ALTY</th>\n",
              "      <th>...</th>\n",
              "      <th>VTHR</th>\n",
              "      <th>VTIP</th>\n",
              "      <th>VTWG</th>\n",
              "      <th>VTWO</th>\n",
              "      <th>VTWV</th>\n",
              "      <th>VWOB</th>\n",
              "      <th>VXUS</th>\n",
              "      <th>VYMI</th>\n",
              "      <th>WOOD</th>\n",
              "      <th>XT</th>\n",
              "    </tr>\n",
              "    <tr>\n",
              "      <th>Date</th>\n",
              "      <th></th>\n",
              "      <th></th>\n",
              "      <th></th>\n",
              "      <th></th>\n",
              "      <th></th>\n",
              "      <th></th>\n",
              "      <th></th>\n",
              "      <th></th>\n",
              "      <th></th>\n",
              "      <th></th>\n",
              "      <th></th>\n",
              "      <th></th>\n",
              "      <th></th>\n",
              "      <th></th>\n",
              "      <th></th>\n",
              "      <th></th>\n",
              "      <th></th>\n",
              "      <th></th>\n",
              "      <th></th>\n",
              "      <th></th>\n",
              "      <th></th>\n",
              "    </tr>\n",
              "  </thead>\n",
              "  <tbody>\n",
              "    <tr>\n",
              "      <th>2017-01-03</th>\n",
              "      <td>39.404003</td>\n",
              "      <td>50.324165</td>\n",
              "      <td>53.491852</td>\n",
              "      <td>34.928574</td>\n",
              "      <td>29.558573</td>\n",
              "      <td>14.668802</td>\n",
              "      <td>42.505810</td>\n",
              "      <td>42.452053</td>\n",
              "      <td>23.538317</td>\n",
              "      <td>9.600211</td>\n",
              "      <td>...</td>\n",
              "      <td>96.048004</td>\n",
              "      <td>45.296101</td>\n",
              "      <td>108.774231</td>\n",
              "      <td>51.274086</td>\n",
              "      <td>96.194260</td>\n",
              "      <td>63.629200</td>\n",
              "      <td>40.811722</td>\n",
              "      <td>48.171516</td>\n",
              "      <td>49.646027</td>\n",
              "      <td>25.511465</td>\n",
              "    </tr>\n",
              "    <tr>\n",
              "      <th>2017-01-04</th>\n",
              "      <td>40.082230</td>\n",
              "      <td>50.823139</td>\n",
              "      <td>53.949348</td>\n",
              "      <td>35.316765</td>\n",
              "      <td>29.874083</td>\n",
              "      <td>14.668802</td>\n",
              "      <td>42.602840</td>\n",
              "      <td>42.678879</td>\n",
              "      <td>23.885475</td>\n",
              "      <td>9.735156</td>\n",
              "      <td>...</td>\n",
              "      <td>97.151901</td>\n",
              "      <td>45.314533</td>\n",
              "      <td>111.057976</td>\n",
              "      <td>52.043102</td>\n",
              "      <td>97.649651</td>\n",
              "      <td>63.882755</td>\n",
              "      <td>41.262142</td>\n",
              "      <td>48.659973</td>\n",
              "      <td>50.088799</td>\n",
              "      <td>25.843027</td>\n",
              "    </tr>\n",
              "    <tr>\n",
              "      <th>2017-01-05</th>\n",
              "      <td>40.512093</td>\n",
              "      <td>51.539852</td>\n",
              "      <td>54.155670</td>\n",
              "      <td>35.618690</td>\n",
              "      <td>30.514109</td>\n",
              "      <td>14.668802</td>\n",
              "      <td>42.594006</td>\n",
              "      <td>43.205097</td>\n",
              "      <td>23.479965</td>\n",
              "      <td>9.807764</td>\n",
              "      <td>...</td>\n",
              "      <td>96.975655</td>\n",
              "      <td>45.369812</td>\n",
              "      <td>110.202805</td>\n",
              "      <td>51.524136</td>\n",
              "      <td>96.333328</td>\n",
              "      <td>64.291672</td>\n",
              "      <td>41.571251</td>\n",
              "      <td>49.131573</td>\n",
              "      <td>50.051899</td>\n",
              "      <td>25.928291</td>\n",
              "    </tr>\n",
              "    <tr>\n",
              "      <th>2017-01-06</th>\n",
              "      <td>40.378361</td>\n",
              "      <td>51.285820</td>\n",
              "      <td>54.164646</td>\n",
              "      <td>35.472038</td>\n",
              "      <td>30.081415</td>\n",
              "      <td>14.668802</td>\n",
              "      <td>42.558708</td>\n",
              "      <td>43.023640</td>\n",
              "      <td>23.479965</td>\n",
              "      <td>9.902229</td>\n",
              "      <td>...</td>\n",
              "      <td>97.226128</td>\n",
              "      <td>45.296101</td>\n",
              "      <td>109.639153</td>\n",
              "      <td>51.307114</td>\n",
              "      <td>95.814209</td>\n",
              "      <td>64.111755</td>\n",
              "      <td>41.482937</td>\n",
              "      <td>48.870510</td>\n",
              "      <td>50.051899</td>\n",
              "      <td>25.975655</td>\n",
              "    </tr>\n",
              "    <tr>\n",
              "      <th>2017-01-09</th>\n",
              "      <td>40.521645</td>\n",
              "      <td>51.331188</td>\n",
              "      <td>54.039059</td>\n",
              "      <td>35.420284</td>\n",
              "      <td>30.333826</td>\n",
              "      <td>14.668802</td>\n",
              "      <td>42.452873</td>\n",
              "      <td>43.141598</td>\n",
              "      <td>22.985437</td>\n",
              "      <td>9.838611</td>\n",
              "      <td>...</td>\n",
              "      <td>96.892189</td>\n",
              "      <td>45.323746</td>\n",
              "      <td>109.571121</td>\n",
              "      <td>50.962708</td>\n",
              "      <td>94.655472</td>\n",
              "      <td>64.275322</td>\n",
              "      <td>41.403458</td>\n",
              "      <td>48.735756</td>\n",
              "      <td>49.729046</td>\n",
              "      <td>26.039127</td>\n",
              "    </tr>\n",
              "  </tbody>\n",
              "</table>\n",
              "<p>5 rows × 265 columns</p>\n",
              "</div>\n",
              "      <button class=\"colab-df-convert\" onclick=\"convertToInteractive('df-9669fec4-c03c-4bea-9da6-e214be700d04')\"\n",
              "              title=\"Convert this dataframe to an interactive table.\"\n",
              "              style=\"display:none;\">\n",
              "        \n",
              "  <svg xmlns=\"http://www.w3.org/2000/svg\" height=\"24px\"viewBox=\"0 0 24 24\"\n",
              "       width=\"24px\">\n",
              "    <path d=\"M0 0h24v24H0V0z\" fill=\"none\"/>\n",
              "    <path d=\"M18.56 5.44l.94 2.06.94-2.06 2.06-.94-2.06-.94-.94-2.06-.94 2.06-2.06.94zm-11 1L8.5 8.5l.94-2.06 2.06-.94-2.06-.94L8.5 2.5l-.94 2.06-2.06.94zm10 10l.94 2.06.94-2.06 2.06-.94-2.06-.94-.94-2.06-.94 2.06-2.06.94z\"/><path d=\"M17.41 7.96l-1.37-1.37c-.4-.4-.92-.59-1.43-.59-.52 0-1.04.2-1.43.59L10.3 9.45l-7.72 7.72c-.78.78-.78 2.05 0 2.83L4 21.41c.39.39.9.59 1.41.59.51 0 1.02-.2 1.41-.59l7.78-7.78 2.81-2.81c.8-.78.8-2.07 0-2.86zM5.41 20L4 18.59l7.72-7.72 1.47 1.35L5.41 20z\"/>\n",
              "  </svg>\n",
              "      </button>\n",
              "      \n",
              "  <style>\n",
              "    .colab-df-container {\n",
              "      display:flex;\n",
              "      flex-wrap:wrap;\n",
              "      gap: 12px;\n",
              "    }\n",
              "\n",
              "    .colab-df-convert {\n",
              "      background-color: #E8F0FE;\n",
              "      border: none;\n",
              "      border-radius: 50%;\n",
              "      cursor: pointer;\n",
              "      display: none;\n",
              "      fill: #1967D2;\n",
              "      height: 32px;\n",
              "      padding: 0 0 0 0;\n",
              "      width: 32px;\n",
              "    }\n",
              "\n",
              "    .colab-df-convert:hover {\n",
              "      background-color: #E2EBFA;\n",
              "      box-shadow: 0px 1px 2px rgba(60, 64, 67, 0.3), 0px 1px 3px 1px rgba(60, 64, 67, 0.15);\n",
              "      fill: #174EA6;\n",
              "    }\n",
              "\n",
              "    [theme=dark] .colab-df-convert {\n",
              "      background-color: #3B4455;\n",
              "      fill: #D2E3FC;\n",
              "    }\n",
              "\n",
              "    [theme=dark] .colab-df-convert:hover {\n",
              "      background-color: #434B5C;\n",
              "      box-shadow: 0px 1px 3px 1px rgba(0, 0, 0, 0.15);\n",
              "      filter: drop-shadow(0px 1px 2px rgba(0, 0, 0, 0.3));\n",
              "      fill: #FFFFFF;\n",
              "    }\n",
              "  </style>\n",
              "\n",
              "      <script>\n",
              "        const buttonEl =\n",
              "          document.querySelector('#df-9669fec4-c03c-4bea-9da6-e214be700d04 button.colab-df-convert');\n",
              "        buttonEl.style.display =\n",
              "          google.colab.kernel.accessAllowed ? 'block' : 'none';\n",
              "\n",
              "        async function convertToInteractive(key) {\n",
              "          const element = document.querySelector('#df-9669fec4-c03c-4bea-9da6-e214be700d04');\n",
              "          const dataTable =\n",
              "            await google.colab.kernel.invokeFunction('convertToInteractive',\n",
              "                                                     [key], {});\n",
              "          if (!dataTable) return;\n",
              "\n",
              "          const docLinkHtml = 'Like what you see? Visit the ' +\n",
              "            '<a target=\"_blank\" href=https://colab.research.google.com/notebooks/data_table.ipynb>data table notebook</a>'\n",
              "            + ' to learn more about interactive tables.';\n",
              "          element.innerHTML = '';\n",
              "          dataTable['output_type'] = 'display_data';\n",
              "          await google.colab.output.renderOutput(dataTable, element);\n",
              "          const docLink = document.createElement('div');\n",
              "          docLink.innerHTML = docLinkHtml;\n",
              "          element.appendChild(docLink);\n",
              "        }\n",
              "      </script>\n",
              "    </div>\n",
              "  </div>\n",
              "  "
            ]
          },
          "metadata": {},
          "execution_count": 6
        }
      ]
    },
    {
      "cell_type": "markdown",
      "source": [
        "### Feature Engineering"
      ],
      "metadata": {
        "id": "y2rfOYUE3kZX"
      }
    },
    {
      "cell_type": "code",
      "source": [
        "# creare data frame returns and volatility information\n",
        "df_returns = pd.DataFrame(data.pct_change().mean() * 255, columns=['returns'])\n",
        "df_returns['volatility'] = data.pct_change().std() * np.sqrt(255)\n",
        "df_returns.head()"
      ],
      "metadata": {
        "colab": {
          "base_uri": "https://localhost:8080/",
          "height": 206
        },
        "id": "3VAwEfmvzRnZ",
        "outputId": "e3b38293-7cc6-4ac8-f01d-a7ae74b6c499"
      },
      "execution_count": 7,
      "outputs": [
        {
          "output_type": "execute_result",
          "data": {
            "text/plain": [
              "       returns  volatility\n",
              "AADR  0.090635    0.233626\n",
              "AAXJ  0.086427    0.211931\n",
              "ACWI  0.115902    0.184653\n",
              "ACWX  0.078023    0.183579\n",
              "ADRE  0.089208    0.243986"
            ],
            "text/html": [
              "\n",
              "  <div id=\"df-79be9bc5-7297-4fa7-b2b5-b48035961313\">\n",
              "    <div class=\"colab-df-container\">\n",
              "      <div>\n",
              "<style scoped>\n",
              "    .dataframe tbody tr th:only-of-type {\n",
              "        vertical-align: middle;\n",
              "    }\n",
              "\n",
              "    .dataframe tbody tr th {\n",
              "        vertical-align: top;\n",
              "    }\n",
              "\n",
              "    .dataframe thead th {\n",
              "        text-align: right;\n",
              "    }\n",
              "</style>\n",
              "<table border=\"1\" class=\"dataframe\">\n",
              "  <thead>\n",
              "    <tr style=\"text-align: right;\">\n",
              "      <th></th>\n",
              "      <th>returns</th>\n",
              "      <th>volatility</th>\n",
              "    </tr>\n",
              "  </thead>\n",
              "  <tbody>\n",
              "    <tr>\n",
              "      <th>AADR</th>\n",
              "      <td>0.090635</td>\n",
              "      <td>0.233626</td>\n",
              "    </tr>\n",
              "    <tr>\n",
              "      <th>AAXJ</th>\n",
              "      <td>0.086427</td>\n",
              "      <td>0.211931</td>\n",
              "    </tr>\n",
              "    <tr>\n",
              "      <th>ACWI</th>\n",
              "      <td>0.115902</td>\n",
              "      <td>0.184653</td>\n",
              "    </tr>\n",
              "    <tr>\n",
              "      <th>ACWX</th>\n",
              "      <td>0.078023</td>\n",
              "      <td>0.183579</td>\n",
              "    </tr>\n",
              "    <tr>\n",
              "      <th>ADRE</th>\n",
              "      <td>0.089208</td>\n",
              "      <td>0.243986</td>\n",
              "    </tr>\n",
              "  </tbody>\n",
              "</table>\n",
              "</div>\n",
              "      <button class=\"colab-df-convert\" onclick=\"convertToInteractive('df-79be9bc5-7297-4fa7-b2b5-b48035961313')\"\n",
              "              title=\"Convert this dataframe to an interactive table.\"\n",
              "              style=\"display:none;\">\n",
              "        \n",
              "  <svg xmlns=\"http://www.w3.org/2000/svg\" height=\"24px\"viewBox=\"0 0 24 24\"\n",
              "       width=\"24px\">\n",
              "    <path d=\"M0 0h24v24H0V0z\" fill=\"none\"/>\n",
              "    <path d=\"M18.56 5.44l.94 2.06.94-2.06 2.06-.94-2.06-.94-.94-2.06-.94 2.06-2.06.94zm-11 1L8.5 8.5l.94-2.06 2.06-.94-2.06-.94L8.5 2.5l-.94 2.06-2.06.94zm10 10l.94 2.06.94-2.06 2.06-.94-2.06-.94-.94-2.06-.94 2.06-2.06.94z\"/><path d=\"M17.41 7.96l-1.37-1.37c-.4-.4-.92-.59-1.43-.59-.52 0-1.04.2-1.43.59L10.3 9.45l-7.72 7.72c-.78.78-.78 2.05 0 2.83L4 21.41c.39.39.9.59 1.41.59.51 0 1.02-.2 1.41-.59l7.78-7.78 2.81-2.81c.8-.78.8-2.07 0-2.86zM5.41 20L4 18.59l7.72-7.72 1.47 1.35L5.41 20z\"/>\n",
              "  </svg>\n",
              "      </button>\n",
              "      \n",
              "  <style>\n",
              "    .colab-df-container {\n",
              "      display:flex;\n",
              "      flex-wrap:wrap;\n",
              "      gap: 12px;\n",
              "    }\n",
              "\n",
              "    .colab-df-convert {\n",
              "      background-color: #E8F0FE;\n",
              "      border: none;\n",
              "      border-radius: 50%;\n",
              "      cursor: pointer;\n",
              "      display: none;\n",
              "      fill: #1967D2;\n",
              "      height: 32px;\n",
              "      padding: 0 0 0 0;\n",
              "      width: 32px;\n",
              "    }\n",
              "\n",
              "    .colab-df-convert:hover {\n",
              "      background-color: #E2EBFA;\n",
              "      box-shadow: 0px 1px 2px rgba(60, 64, 67, 0.3), 0px 1px 3px 1px rgba(60, 64, 67, 0.15);\n",
              "      fill: #174EA6;\n",
              "    }\n",
              "\n",
              "    [theme=dark] .colab-df-convert {\n",
              "      background-color: #3B4455;\n",
              "      fill: #D2E3FC;\n",
              "    }\n",
              "\n",
              "    [theme=dark] .colab-df-convert:hover {\n",
              "      background-color: #434B5C;\n",
              "      box-shadow: 0px 1px 3px 1px rgba(0, 0, 0, 0.15);\n",
              "      filter: drop-shadow(0px 1px 2px rgba(0, 0, 0, 0.3));\n",
              "      fill: #FFFFFF;\n",
              "    }\n",
              "  </style>\n",
              "\n",
              "      <script>\n",
              "        const buttonEl =\n",
              "          document.querySelector('#df-79be9bc5-7297-4fa7-b2b5-b48035961313 button.colab-df-convert');\n",
              "        buttonEl.style.display =\n",
              "          google.colab.kernel.accessAllowed ? 'block' : 'none';\n",
              "\n",
              "        async function convertToInteractive(key) {\n",
              "          const element = document.querySelector('#df-79be9bc5-7297-4fa7-b2b5-b48035961313');\n",
              "          const dataTable =\n",
              "            await google.colab.kernel.invokeFunction('convertToInteractive',\n",
              "                                                     [key], {});\n",
              "          if (!dataTable) return;\n",
              "\n",
              "          const docLinkHtml = 'Like what you see? Visit the ' +\n",
              "            '<a target=\"_blank\" href=https://colab.research.google.com/notebooks/data_table.ipynb>data table notebook</a>'\n",
              "            + ' to learn more about interactive tables.';\n",
              "          element.innerHTML = '';\n",
              "          dataTable['output_type'] = 'display_data';\n",
              "          await google.colab.output.renderOutput(dataTable, element);\n",
              "          const docLink = document.createElement('div');\n",
              "          docLink.innerHTML = docLinkHtml;\n",
              "          element.appendChild(docLink);\n",
              "        }\n",
              "      </script>\n",
              "    </div>\n",
              "  </div>\n",
              "  "
            ]
          },
          "metadata": {},
          "execution_count": 7
        }
      ]
    },
    {
      "cell_type": "code",
      "source": [
        "# scale features\n",
        "scaler = StandardScaler()\n",
        "scaler = scaler.fit_transform(df_returns)\n",
        "scaled_data = pd.DataFrame(scaler, columns=df_returns.columns, index=df_returns.index )\n",
        "df_scaled = scaled_data\n",
        "df_scaled.head()"
      ],
      "metadata": {
        "colab": {
          "base_uri": "https://localhost:8080/",
          "height": 206
        },
        "id": "op_1saJz7TBO",
        "outputId": "05a06b47-04fe-4e45-856b-28c6075c3dea"
      },
      "execution_count": 8,
      "outputs": [
        {
          "output_type": "execute_result",
          "data": {
            "text/plain": [
              "       returns  volatility\n",
              "AADR  0.014753    0.311722\n",
              "AAXJ -0.038123    0.090672\n",
              "ACWI  0.332246   -0.187269\n",
              "ACWX -0.143712   -0.198211\n",
              "ADRE -0.003167    0.417291"
            ],
            "text/html": [
              "\n",
              "  <div id=\"df-572ccc68-6c36-48e4-b7d1-918678c3ba37\">\n",
              "    <div class=\"colab-df-container\">\n",
              "      <div>\n",
              "<style scoped>\n",
              "    .dataframe tbody tr th:only-of-type {\n",
              "        vertical-align: middle;\n",
              "    }\n",
              "\n",
              "    .dataframe tbody tr th {\n",
              "        vertical-align: top;\n",
              "    }\n",
              "\n",
              "    .dataframe thead th {\n",
              "        text-align: right;\n",
              "    }\n",
              "</style>\n",
              "<table border=\"1\" class=\"dataframe\">\n",
              "  <thead>\n",
              "    <tr style=\"text-align: right;\">\n",
              "      <th></th>\n",
              "      <th>returns</th>\n",
              "      <th>volatility</th>\n",
              "    </tr>\n",
              "  </thead>\n",
              "  <tbody>\n",
              "    <tr>\n",
              "      <th>AADR</th>\n",
              "      <td>0.014753</td>\n",
              "      <td>0.311722</td>\n",
              "    </tr>\n",
              "    <tr>\n",
              "      <th>AAXJ</th>\n",
              "      <td>-0.038123</td>\n",
              "      <td>0.090672</td>\n",
              "    </tr>\n",
              "    <tr>\n",
              "      <th>ACWI</th>\n",
              "      <td>0.332246</td>\n",
              "      <td>-0.187269</td>\n",
              "    </tr>\n",
              "    <tr>\n",
              "      <th>ACWX</th>\n",
              "      <td>-0.143712</td>\n",
              "      <td>-0.198211</td>\n",
              "    </tr>\n",
              "    <tr>\n",
              "      <th>ADRE</th>\n",
              "      <td>-0.003167</td>\n",
              "      <td>0.417291</td>\n",
              "    </tr>\n",
              "  </tbody>\n",
              "</table>\n",
              "</div>\n",
              "      <button class=\"colab-df-convert\" onclick=\"convertToInteractive('df-572ccc68-6c36-48e4-b7d1-918678c3ba37')\"\n",
              "              title=\"Convert this dataframe to an interactive table.\"\n",
              "              style=\"display:none;\">\n",
              "        \n",
              "  <svg xmlns=\"http://www.w3.org/2000/svg\" height=\"24px\"viewBox=\"0 0 24 24\"\n",
              "       width=\"24px\">\n",
              "    <path d=\"M0 0h24v24H0V0z\" fill=\"none\"/>\n",
              "    <path d=\"M18.56 5.44l.94 2.06.94-2.06 2.06-.94-2.06-.94-.94-2.06-.94 2.06-2.06.94zm-11 1L8.5 8.5l.94-2.06 2.06-.94-2.06-.94L8.5 2.5l-.94 2.06-2.06.94zm10 10l.94 2.06.94-2.06 2.06-.94-2.06-.94-.94-2.06-.94 2.06-2.06.94z\"/><path d=\"M17.41 7.96l-1.37-1.37c-.4-.4-.92-.59-1.43-.59-.52 0-1.04.2-1.43.59L10.3 9.45l-7.72 7.72c-.78.78-.78 2.05 0 2.83L4 21.41c.39.39.9.59 1.41.59.51 0 1.02-.2 1.41-.59l7.78-7.78 2.81-2.81c.8-.78.8-2.07 0-2.86zM5.41 20L4 18.59l7.72-7.72 1.47 1.35L5.41 20z\"/>\n",
              "  </svg>\n",
              "      </button>\n",
              "      \n",
              "  <style>\n",
              "    .colab-df-container {\n",
              "      display:flex;\n",
              "      flex-wrap:wrap;\n",
              "      gap: 12px;\n",
              "    }\n",
              "\n",
              "    .colab-df-convert {\n",
              "      background-color: #E8F0FE;\n",
              "      border: none;\n",
              "      border-radius: 50%;\n",
              "      cursor: pointer;\n",
              "      display: none;\n",
              "      fill: #1967D2;\n",
              "      height: 32px;\n",
              "      padding: 0 0 0 0;\n",
              "      width: 32px;\n",
              "    }\n",
              "\n",
              "    .colab-df-convert:hover {\n",
              "      background-color: #E2EBFA;\n",
              "      box-shadow: 0px 1px 2px rgba(60, 64, 67, 0.3), 0px 1px 3px 1px rgba(60, 64, 67, 0.15);\n",
              "      fill: #174EA6;\n",
              "    }\n",
              "\n",
              "    [theme=dark] .colab-df-convert {\n",
              "      background-color: #3B4455;\n",
              "      fill: #D2E3FC;\n",
              "    }\n",
              "\n",
              "    [theme=dark] .colab-df-convert:hover {\n",
              "      background-color: #434B5C;\n",
              "      box-shadow: 0px 1px 3px 1px rgba(0, 0, 0, 0.15);\n",
              "      filter: drop-shadow(0px 1px 2px rgba(0, 0, 0, 0.3));\n",
              "      fill: #FFFFFF;\n",
              "    }\n",
              "  </style>\n",
              "\n",
              "      <script>\n",
              "        const buttonEl =\n",
              "          document.querySelector('#df-572ccc68-6c36-48e4-b7d1-918678c3ba37 button.colab-df-convert');\n",
              "        buttonEl.style.display =\n",
              "          google.colab.kernel.accessAllowed ? 'block' : 'none';\n",
              "\n",
              "        async function convertToInteractive(key) {\n",
              "          const element = document.querySelector('#df-572ccc68-6c36-48e4-b7d1-918678c3ba37');\n",
              "          const dataTable =\n",
              "            await google.colab.kernel.invokeFunction('convertToInteractive',\n",
              "                                                     [key], {});\n",
              "          if (!dataTable) return;\n",
              "\n",
              "          const docLinkHtml = 'Like what you see? Visit the ' +\n",
              "            '<a target=\"_blank\" href=https://colab.research.google.com/notebooks/data_table.ipynb>data table notebook</a>'\n",
              "            + ' to learn more about interactive tables.';\n",
              "          element.innerHTML = '';\n",
              "          dataTable['output_type'] = 'display_data';\n",
              "          await google.colab.output.renderOutput(dataTable, element);\n",
              "          const docLink = document.createElement('div');\n",
              "          docLink.innerHTML = docLinkHtml;\n",
              "          element.appendChild(docLink);\n",
              "        }\n",
              "      </script>\n",
              "    </div>\n",
              "  </div>\n",
              "  "
            ]
          },
          "metadata": {},
          "execution_count": 8
        }
      ]
    },
    {
      "cell_type": "markdown",
      "source": [
        "### K_MEANS Clustering"
      ],
      "metadata": {
        "id": "u9WxmIiwY8VM"
      }
    },
    {
      "cell_type": "code",
      "source": [
        "# find the optimum number of clusters\n",
        "X = df_scaled.copy()\n",
        "K = range(1,15)\n",
        "distortions = []\n",
        "for k in K:\n",
        "  kmeans = KMeans(n_clusters=k)\n",
        "  kmeans.fit(X)\n",
        "  distortions.append(kmeans.inertia_)\n",
        "\n",
        "kn = KneeLocator(K, distortions, curve='convex', direction='decreasing')\n",
        "c = kn.elbow\n",
        "print(f\"Optimum number of clusters: {c}\")"
      ],
      "metadata": {
        "colab": {
          "base_uri": "https://localhost:8080/"
        },
        "id": "sebQOteL9osK",
        "outputId": "7b306e62-e48c-4711-c7ff-3c09da7327fe"
      },
      "execution_count": 9,
      "outputs": [
        {
          "output_type": "stream",
          "name": "stdout",
          "text": [
            "Optimum number of clusters: 5\n"
          ]
        }
      ]
    },
    {
      "cell_type": "code",
      "source": [
        "# fit the KMEANS model\n",
        "k_means = KMeans(n_clusters=c)\n",
        "k_means.fit(X)\n",
        "predict = kmeans.predict(df_scaled)"
      ],
      "metadata": {
        "id": "eQa-MO_zacRh"
      },
      "execution_count": 10,
      "outputs": []
    },
    {
      "cell_type": "code",
      "source": [
        "# show results\n",
        "centroids = k_means.cluster_centers_\n",
        "fig = plt.figure(figsize=(18,10))\n",
        "ax = fig.add_subplot(111)\n",
        "scatter = ax.scatter(X.iloc[:,0], X.iloc[:,1], c=k_means.labels_, cmap='rainbow', label=X.index )\n",
        "ax.set_title('Cluster Analysis')\n",
        "ax.set_ylabel('Volatility')\n",
        "ax.set_xlabel('Mean Return')\n",
        "plt.colorbar(scatter)\n",
        "plt.plot(centroids[:,0], centroids[:,1], \"sg\", markersize=10)\n",
        "plt.show()"
      ],
      "metadata": {
        "colab": {
          "base_uri": "https://localhost:8080/",
          "height": 621
        },
        "id": "NAhOSfCwbEj7",
        "outputId": "1344b4bd-6fda-4226-e563-c5e4f9061985"
      },
      "execution_count": 11,
      "outputs": [
        {
          "output_type": "display_data",
          "data": {
            "text/plain": [
              "<Figure size 1296x720 with 2 Axes>"
            ],
            "image/png": "[encoded data removed]"
          },
          "metadata": {
            "needs_background": "light"
          }
        }
      ]
    },
    {
      "cell_type": "code",
      "source": [
        "# return the series\n",
        "clustered_series = pd.Series(index=X.index, data=k_means.labels_.flatten())\n",
        "clustered_series_all = pd.Series(index=X.index, data=k_means.labels_.flatten())\n",
        "clustered_series = clustered_series[clustered_series != -1]\n",
        "clustered_series[:7]"
      ],
      "metadata": {
        "colab": {
          "base_uri": "https://localhost:8080/"
        },
        "id": "fEw03yLa9keF",
        "outputId": "dbf8d29f-c1e6-45b0-aca9-007bc6f95db2"
      },
      "execution_count": 12,
      "outputs": [
        {
          "output_type": "execute_result",
          "data": {
            "text/plain": [
              "AADR    0\n",
              "AAXJ    0\n",
              "ACWI    0\n",
              "ACWX    0\n",
              "ADRE    0\n",
              "AGNG    0\n",
              "AGZD    1\n",
              "dtype: int32"
            ]
          },
          "metadata": {},
          "execution_count": 12
        }
      ]
    },
    {
      "cell_type": "code",
      "source": [
        "# plot the series\n",
        "plt.figure(figsize=(10, 5))\n",
        "plt.bar(range(len(clustered_series.value_counts())), clustered_series.value_counts())\n",
        "plt.title(\"Clusters\")\n",
        "plt.xlabel(\"Cluster\")\n",
        "plt.ylabel(\"Fetures Count\")\n",
        "plt.show()"
      ],
      "metadata": {
        "colab": {
          "base_uri": "https://localhost:8080/",
          "height": 350
        },
        "id": "2m0PVRUOEyvp",
        "outputId": "bd79e4e1-1a26-48b1-edab-0da70122f4ab"
      },
      "execution_count": 23,
      "outputs": [
        {
          "output_type": "display_data",
          "data": {
            "text/plain": [
              "<Figure size 720x360 with 1 Axes>"
            ],
            "image/png": "[encoded data removed]"
          },
          "metadata": {
            "needs_background": "light"
          }
        }
      ]
    },
    {
      "cell_type": "code",
      "source": [
        "# remove outliers\n",
        "clustered_series_clean = clustered_series[clustered_series < 3]\n",
        "print(f\"feature number original: {len(clustered_series)}\")\n",
        "print(f\"feature number cleaned: {len(clustered_series_clean)}\")"
      ],
      "metadata": {
        "colab": {
          "base_uri": "https://localhost:8080/"
        },
        "id": "fB4PSabHFZGM",
        "outputId": "6a4ef8dc-85bb-4be5-c7b3-755b77c78936"
      },
      "execution_count": 25,
      "outputs": [
        {
          "output_type": "stream",
          "name": "stdout",
          "text": [
            "feature number original: 265\n",
            "feature number cleaned: 186\n"
          ]
        }
      ]
    },
    {
      "cell_type": "markdown",
      "source": [
        "### Calculate Cointegration"
      ],
      "metadata": {
        "id": "XyvJL_w3JKjL"
      }
    },
    {
      "cell_type": "code",
      "source": [
        "def calculate_cointegration(series_1, series_2):\n",
        "  coint_flag = 0\n",
        "  coint_res = coint(series_1, series_2)\n",
        "  coint_t = coint_res[0]\n",
        "  p_value = coint_res[1]\n",
        "  critical_value = coint_res[2][1]\n",
        "  model = simplefilter.OLS(series_1, series_2).fit()\n",
        "  hedge_ratio = model.params[0]\n",
        "  coint_flag = 1 if p_value < 0.05 and coint_t < critical_value else 0\n",
        "  return coint_flag, hedge_ratio"
      ],
      "metadata": {
        "id": "g4oYTBXwJAUz"
      },
      "execution_count": 26,
      "outputs": []
    },
    {
      "cell_type": "code",
      "source": [
        "# loop through and calculate cointegrated pairs\n",
        "# allow 10 - 30 min for calculation\n"
      ],
      "metadata": {
        "id": "lICGH5kIL4V-"
      },
      "execution_count": null,
      "outputs": []
    }
  ]
}