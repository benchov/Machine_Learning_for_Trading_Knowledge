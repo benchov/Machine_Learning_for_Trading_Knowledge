{
  "nbformat": 4,
  "nbformat_minor": 0,
  "metadata": {
    "colab": {
      "provenance": [],
      "authorship_tag": "ABX9TyMCAANNOORdOD+TI7TZh4VR",
      "include_colab_link": true
    },
    "kernelspec": {
      "name": "python3",
      "display_name": "Python 3"
    },
    "language_info": {
      "name": "python"
    }
  },
  "cells": [
    {
      "cell_type": "markdown",
      "metadata": {
        "id": "view-in-github",
        "colab_type": "text"
      },
      "source": [
        "<a href=\"https://colab.research.google.com/github/benchov/Machine_Learning_for_Trading_Knowledge/blob/main/PCA_and_Dimensionality_Reduction.ipynb\" target=\"_parent\"><img src=\"https://colab.research.google.com/assets/colab-badge.svg\" alt=\"Open In Colab\"/></a>"
      ]
    },
    {
      "cell_type": "code",
      "source": [
        "!pip install ta\n",
        "!pip install --upgrade pandas\n",
        "!pip install --upgrade pandas-datareader\n",
        "!pip install yfinance"
      ],
      "metadata": {
        "colab": {
          "base_uri": "https://localhost:8080/"
        },
        "id": "Tbxd017YHTHH",
        "outputId": "e268f720-1a59-4174-cf24-02d4fb269321"
      },
      "execution_count": 1,
      "outputs": [
        {
          "output_type": "stream",
          "name": "stdout",
          "text": [
            "Looking in indexes: https://pypi.org/simple, https://us-python.pkg.dev/colab-wheels/public/simple/\n",
            "Collecting ta\n",
            "  Downloading ta-0.10.2.tar.gz (25 kB)\n",
            "Requirement already satisfied: numpy in /usr/local/lib/python3.8/dist-packages (from ta) (1.21.6)\n",
            "Requirement already satisfied: pandas in /usr/local/lib/python3.8/dist-packages (from ta) (1.3.5)\n",
            "Requirement already satisfied: pytz>=2017.3 in /usr/local/lib/python3.8/dist-packages (from pandas->ta) (2022.6)\n",
            "Requirement already satisfied: python-dateutil>=2.7.3 in /usr/local/lib/python3.8/dist-packages (from pandas->ta) (2.8.2)\n",
            "Requirement already satisfied: six>=1.5 in /usr/local/lib/python3.8/dist-packages (from python-dateutil>=2.7.3->pandas->ta) (1.15.0)\n",
            "Building wheels for collected packages: ta\n",
            "  Building wheel for ta (setup.py) ... \u001b[?25l\u001b[?25hdone\n",
            "  Created wheel for ta: filename=ta-0.10.2-py3-none-any.whl size=29106 sha256=8757f86a668d302b2aaa5abe88e083c48fad1a182701302a6adfc1b000f936e7\n",
            "  Stored in directory: /root/.cache/pip/wheels/1b/81/50/db21d9643326c61dd6fee1dc2562d8351ee7753164c24ead38\n",
            "Successfully built ta\n",
            "Installing collected packages: ta\n",
            "Successfully installed ta-0.10.2\n",
            "Looking in indexes: https://pypi.org/simple, https://us-python.pkg.dev/colab-wheels/public/simple/\n",
            "Requirement already satisfied: pandas in /usr/local/lib/python3.8/dist-packages (1.3.5)\n",
            "Collecting pandas\n",
            "  Downloading pandas-1.5.2-cp38-cp38-manylinux_2_17_x86_64.manylinux2014_x86_64.whl (12.2 MB)\n",
            "\u001b[K     |████████████████████████████████| 12.2 MB 5.0 MB/s \n",
            "\u001b[?25hRequirement already satisfied: pytz>=2020.1 in /usr/local/lib/python3.8/dist-packages (from pandas) (2022.6)\n",
            "Requirement already satisfied: numpy>=1.20.3 in /usr/local/lib/python3.8/dist-packages (from pandas) (1.21.6)\n",
            "Requirement already satisfied: python-dateutil>=2.8.1 in /usr/local/lib/python3.8/dist-packages (from pandas) (2.8.2)\n",
            "Requirement already satisfied: six>=1.5 in /usr/local/lib/python3.8/dist-packages (from python-dateutil>=2.8.1->pandas) (1.15.0)\n",
            "Installing collected packages: pandas\n",
            "  Attempting uninstall: pandas\n",
            "    Found existing installation: pandas 1.3.5\n",
            "    Uninstalling pandas-1.3.5:\n",
            "      Successfully uninstalled pandas-1.3.5\n",
            "Successfully installed pandas-1.5.2\n",
            "Looking in indexes: https://pypi.org/simple, https://us-python.pkg.dev/colab-wheels/public/simple/\n",
            "Requirement already satisfied: pandas-datareader in /usr/local/lib/python3.8/dist-packages (0.9.0)\n",
            "Collecting pandas-datareader\n",
            "  Downloading pandas_datareader-0.10.0-py3-none-any.whl (109 kB)\n",
            "\u001b[K     |████████████████████████████████| 109 kB 5.2 MB/s \n",
            "\u001b[?25hRequirement already satisfied: requests>=2.19.0 in /usr/local/lib/python3.8/dist-packages (from pandas-datareader) (2.23.0)\n",
            "Requirement already satisfied: lxml in /usr/local/lib/python3.8/dist-packages (from pandas-datareader) (4.9.2)\n",
            "Requirement already satisfied: pandas>=0.23 in /usr/local/lib/python3.8/dist-packages (from pandas-datareader) (1.5.2)\n",
            "Requirement already satisfied: python-dateutil>=2.8.1 in /usr/local/lib/python3.8/dist-packages (from pandas>=0.23->pandas-datareader) (2.8.2)\n",
            "Requirement already satisfied: pytz>=2020.1 in /usr/local/lib/python3.8/dist-packages (from pandas>=0.23->pandas-datareader) (2022.6)\n",
            "Requirement already satisfied: numpy>=1.20.3 in /usr/local/lib/python3.8/dist-packages (from pandas>=0.23->pandas-datareader) (1.21.6)\n",
            "Requirement already satisfied: six>=1.5 in /usr/local/lib/python3.8/dist-packages (from python-dateutil>=2.8.1->pandas>=0.23->pandas-datareader) (1.15.0)\n",
            "Requirement already satisfied: certifi>=2017.4.17 in /usr/local/lib/python3.8/dist-packages (from requests>=2.19.0->pandas-datareader) (2022.12.7)\n",
            "Requirement already satisfied: urllib3!=1.25.0,!=1.25.1,<1.26,>=1.21.1 in /usr/local/lib/python3.8/dist-packages (from requests>=2.19.0->pandas-datareader) (1.24.3)\n",
            "Requirement already satisfied: idna<3,>=2.5 in /usr/local/lib/python3.8/dist-packages (from requests>=2.19.0->pandas-datareader) (2.10)\n",
            "Requirement already satisfied: chardet<4,>=3.0.2 in /usr/local/lib/python3.8/dist-packages (from requests>=2.19.0->pandas-datareader) (3.0.4)\n",
            "Installing collected packages: pandas-datareader\n",
            "  Attempting uninstall: pandas-datareader\n",
            "    Found existing installation: pandas-datareader 0.9.0\n",
            "    Uninstalling pandas-datareader-0.9.0:\n",
            "      Successfully uninstalled pandas-datareader-0.9.0\n",
            "Successfully installed pandas-datareader-0.10.0\n",
            "Looking in indexes: https://pypi.org/simple, https://us-python.pkg.dev/colab-wheels/public/simple/\n",
            "Collecting yfinance\n",
            "  Downloading yfinance-0.2.3-py2.py3-none-any.whl (50 kB)\n",
            "\u001b[K     |████████████████████████████████| 50 kB 2.3 MB/s \n",
            "\u001b[?25hRequirement already satisfied: numpy>=1.16.5 in /usr/local/lib/python3.8/dist-packages (from yfinance) (1.21.6)\n",
            "Requirement already satisfied: pandas>=1.3.0 in /usr/local/lib/python3.8/dist-packages (from yfinance) (1.5.2)\n",
            "Requirement already satisfied: pytz>=2022.5 in /usr/local/lib/python3.8/dist-packages (from yfinance) (2022.6)\n",
            "Requirement already satisfied: multitasking>=0.0.7 in /usr/local/lib/python3.8/dist-packages (from yfinance) (0.0.11)\n",
            "Collecting cryptography>=3.3.2\n",
            "  Downloading cryptography-38.0.4-cp36-abi3-manylinux_2_24_x86_64.whl (4.0 MB)\n",
            "\u001b[K     |████████████████████████████████| 4.0 MB 10.1 MB/s \n",
            "\u001b[?25hCollecting beautifulsoup4>=4.11.1\n",
            "  Downloading beautifulsoup4-4.11.1-py3-none-any.whl (128 kB)\n",
            "\u001b[K     |████████████████████████████████| 128 kB 74.3 MB/s \n",
            "\u001b[?25hRequirement already satisfied: appdirs>=1.4.4 in /usr/local/lib/python3.8/dist-packages (from yfinance) (1.4.4)\n",
            "Collecting frozendict>=2.3.4\n",
            "  Downloading frozendict-2.3.4-cp38-cp38-manylinux_2_17_x86_64.manylinux2014_x86_64.whl (110 kB)\n",
            "\u001b[K     |████████████████████████████████| 110 kB 51.8 MB/s \n",
            "\u001b[?25hCollecting html5lib>=1.1\n",
            "  Downloading html5lib-1.1-py2.py3-none-any.whl (112 kB)\n",
            "\u001b[K     |████████████████████████████████| 112 kB 56.0 MB/s \n",
            "\u001b[?25hRequirement already satisfied: lxml>=4.9.1 in /usr/local/lib/python3.8/dist-packages (from yfinance) (4.9.2)\n",
            "Collecting requests>=2.26\n",
            "  Downloading requests-2.28.1-py3-none-any.whl (62 kB)\n",
            "\u001b[K     |████████████████████████████████| 62 kB 1.5 MB/s \n",
            "\u001b[?25hCollecting soupsieve>1.2\n",
            "  Downloading soupsieve-2.3.2.post1-py3-none-any.whl (37 kB)\n",
            "Requirement already satisfied: cffi>=1.12 in /usr/local/lib/python3.8/dist-packages (from cryptography>=3.3.2->yfinance) (1.15.1)\n",
            "Requirement already satisfied: pycparser in /usr/local/lib/python3.8/dist-packages (from cffi>=1.12->cryptography>=3.3.2->yfinance) (2.21)\n",
            "Requirement already satisfied: six>=1.9 in /usr/local/lib/python3.8/dist-packages (from html5lib>=1.1->yfinance) (1.15.0)\n",
            "Requirement already satisfied: webencodings in /usr/local/lib/python3.8/dist-packages (from html5lib>=1.1->yfinance) (0.5.1)\n",
            "Requirement already satisfied: python-dateutil>=2.8.1 in /usr/local/lib/python3.8/dist-packages (from pandas>=1.3.0->yfinance) (2.8.2)\n",
            "Requirement already satisfied: certifi>=2017.4.17 in /usr/local/lib/python3.8/dist-packages (from requests>=2.26->yfinance) (2022.12.7)\n",
            "Requirement already satisfied: urllib3<1.27,>=1.21.1 in /usr/local/lib/python3.8/dist-packages (from requests>=2.26->yfinance) (1.24.3)\n",
            "Requirement already satisfied: charset-normalizer<3,>=2 in /usr/local/lib/python3.8/dist-packages (from requests>=2.26->yfinance) (2.1.1)\n",
            "Requirement already satisfied: idna<4,>=2.5 in /usr/local/lib/python3.8/dist-packages (from requests>=2.26->yfinance) (2.10)\n",
            "Installing collected packages: soupsieve, requests, html5lib, frozendict, cryptography, beautifulsoup4, yfinance\n",
            "  Attempting uninstall: requests\n",
            "    Found existing installation: requests 2.23.0\n",
            "    Uninstalling requests-2.23.0:\n",
            "      Successfully uninstalled requests-2.23.0\n",
            "  Attempting uninstall: html5lib\n",
            "    Found existing installation: html5lib 1.0.1\n",
            "    Uninstalling html5lib-1.0.1:\n",
            "      Successfully uninstalled html5lib-1.0.1\n",
            "  Attempting uninstall: beautifulsoup4\n",
            "    Found existing installation: beautifulsoup4 4.6.3\n",
            "    Uninstalling beautifulsoup4-4.6.3:\n",
            "      Successfully uninstalled beautifulsoup4-4.6.3\n",
            "Successfully installed beautifulsoup4-4.11.1 cryptography-38.0.4 frozendict-2.3.4 html5lib-1.1 requests-2.28.1 soupsieve-2.3.2.post1 yfinance-0.2.3\n"
          ]
        }
      ]
    },
    {
      "cell_type": "code",
      "execution_count": 2,
      "metadata": {
        "id": "vtXwVnCTpR9o"
      },
      "outputs": [],
      "source": [
        "# Remove unwanted warnings\n",
        "import warnings\n",
        "warnings.simplefilter(action='ignore', category=FutureWarning)\n",
        "warnings.simplefilter(action='ignore', category=RuntimeWarning)\n",
        "\n",
        "# Data Management\n",
        "import pandas as pd\n",
        "import numpy as np\n",
        "from pandas_datareader.data import DataReader\n",
        "from ta import add_all_ta_features\n",
        "import yfinance as yf\n",
        "\n",
        "# Statistics\n",
        "from statsmodels.tsa.stattools import adfuller\n",
        "\n",
        "# Unsupervised Machine Learning\n",
        "from sklearn.decomposition import PCA\n",
        "\n",
        "# Supervised Machine Learning\n",
        "from sklearn.preprocessing import StandardScaler\n",
        "from sklearn.model_selection import train_test_split\n",
        "from sklearn.ensemble import RandomForestClassifier\n",
        "from sklearn.metrics import accuracy_score\n",
        "from sklearn.metrics import precision_score\n",
        "\n",
        "# Reporting\n",
        "import matplotlib.pyplot as plt"
      ]
    },
    {
      "cell_type": "code",
      "source": [
        "# Data Extraction|\n",
        "start_date = '2017-01-01'\n",
        "end_date = '2022-06-01'\n",
        "symbol = \"^VIX\"\n",
        "df = yf.download(symbol, start=start_date, end=end_date)\n",
        "df.head()"
      ],
      "metadata": {
        "colab": {
          "base_uri": "https://localhost:8080/",
          "height": 255
        },
        "id": "7nmG4bN7HOOU",
        "outputId": "9f6fe828-cd0e-4ca4-b98a-9e5e8244f1f0"
      },
      "execution_count": 3,
      "outputs": [
        {
          "output_type": "stream",
          "name": "stdout",
          "text": [
            "\r[*********************100%***********************]  1 of 1 completed\n"
          ]
        },
        {
          "output_type": "execute_result",
          "data": {
            "text/plain": [
              "             Open   High    Low  Close  Adj Close  Volume\n",
              "Date                                                     \n",
              "2017-01-03  14.07  14.07  12.85  12.85      12.85       0\n",
              "2017-01-04  12.78  12.80  11.63  11.85      11.85       0\n",
              "2017-01-05  11.96  12.09  11.40  11.67      11.67       0\n",
              "2017-01-06  11.70  11.74  10.98  11.32      11.32       0\n",
              "2017-01-09  11.71  12.08  11.46  11.56      11.56       0"
            ],
            "text/html": [
              "\n",
              "  <div id=\"df-a2f9f9ad-5477-48ea-ab3c-0eb2fe1f6a82\">\n",
              "    <div class=\"colab-df-container\">\n",
              "      <div>\n",
              "<style scoped>\n",
              "    .dataframe tbody tr th:only-of-type {\n",
              "        vertical-align: middle;\n",
              "    }\n",
              "\n",
              "    .dataframe tbody tr th {\n",
              "        vertical-align: top;\n",
              "    }\n",
              "\n",
              "    .dataframe thead th {\n",
              "        text-align: right;\n",
              "    }\n",
              "</style>\n",
              "<table border=\"1\" class=\"dataframe\">\n",
              "  <thead>\n",
              "    <tr style=\"text-align: right;\">\n",
              "      <th></th>\n",
              "      <th>Open</th>\n",
              "      <th>High</th>\n",
              "      <th>Low</th>\n",
              "      <th>Close</th>\n",
              "      <th>Adj Close</th>\n",
              "      <th>Volume</th>\n",
              "    </tr>\n",
              "    <tr>\n",
              "      <th>Date</th>\n",
              "      <th></th>\n",
              "      <th></th>\n",
              "      <th></th>\n",
              "      <th></th>\n",
              "      <th></th>\n",
              "      <th></th>\n",
              "    </tr>\n",
              "  </thead>\n",
              "  <tbody>\n",
              "    <tr>\n",
              "      <th>2017-01-03</th>\n",
              "      <td>14.07</td>\n",
              "      <td>14.07</td>\n",
              "      <td>12.85</td>\n",
              "      <td>12.85</td>\n",
              "      <td>12.85</td>\n",
              "      <td>0</td>\n",
              "    </tr>\n",
              "    <tr>\n",
              "      <th>2017-01-04</th>\n",
              "      <td>12.78</td>\n",
              "      <td>12.80</td>\n",
              "      <td>11.63</td>\n",
              "      <td>11.85</td>\n",
              "      <td>11.85</td>\n",
              "      <td>0</td>\n",
              "    </tr>\n",
              "    <tr>\n",
              "      <th>2017-01-05</th>\n",
              "      <td>11.96</td>\n",
              "      <td>12.09</td>\n",
              "      <td>11.40</td>\n",
              "      <td>11.67</td>\n",
              "      <td>11.67</td>\n",
              "      <td>0</td>\n",
              "    </tr>\n",
              "    <tr>\n",
              "      <th>2017-01-06</th>\n",
              "      <td>11.70</td>\n",
              "      <td>11.74</td>\n",
              "      <td>10.98</td>\n",
              "      <td>11.32</td>\n",
              "      <td>11.32</td>\n",
              "      <td>0</td>\n",
              "    </tr>\n",
              "    <tr>\n",
              "      <th>2017-01-09</th>\n",
              "      <td>11.71</td>\n",
              "      <td>12.08</td>\n",
              "      <td>11.46</td>\n",
              "      <td>11.56</td>\n",
              "      <td>11.56</td>\n",
              "      <td>0</td>\n",
              "    </tr>\n",
              "  </tbody>\n",
              "</table>\n",
              "</div>\n",
              "      <button class=\"colab-df-convert\" onclick=\"convertToInteractive('df-a2f9f9ad-5477-48ea-ab3c-0eb2fe1f6a82')\"\n",
              "              title=\"Convert this dataframe to an interactive table.\"\n",
              "              style=\"display:none;\">\n",
              "        \n",
              "  <svg xmlns=\"http://www.w3.org/2000/svg\" height=\"24px\"viewBox=\"0 0 24 24\"\n",
              "       width=\"24px\">\n",
              "    <path d=\"M0 0h24v24H0V0z\" fill=\"none\"/>\n",
              "    <path d=\"M18.56 5.44l.94 2.06.94-2.06 2.06-.94-2.06-.94-.94-2.06-.94 2.06-2.06.94zm-11 1L8.5 8.5l.94-2.06 2.06-.94-2.06-.94L8.5 2.5l-.94 2.06-2.06.94zm10 10l.94 2.06.94-2.06 2.06-.94-2.06-.94-.94-2.06-.94 2.06-2.06.94z\"/><path d=\"M17.41 7.96l-1.37-1.37c-.4-.4-.92-.59-1.43-.59-.52 0-1.04.2-1.43.59L10.3 9.45l-7.72 7.72c-.78.78-.78 2.05 0 2.83L4 21.41c.39.39.9.59 1.41.59.51 0 1.02-.2 1.41-.59l7.78-7.78 2.81-2.81c.8-.78.8-2.07 0-2.86zM5.41 20L4 18.59l7.72-7.72 1.47 1.35L5.41 20z\"/>\n",
              "  </svg>\n",
              "      </button>\n",
              "      \n",
              "  <style>\n",
              "    .colab-df-container {\n",
              "      display:flex;\n",
              "      flex-wrap:wrap;\n",
              "      gap: 12px;\n",
              "    }\n",
              "\n",
              "    .colab-df-convert {\n",
              "      background-color: #E8F0FE;\n",
              "      border: none;\n",
              "      border-radius: 50%;\n",
              "      cursor: pointer;\n",
              "      display: none;\n",
              "      fill: #1967D2;\n",
              "      height: 32px;\n",
              "      padding: 0 0 0 0;\n",
              "      width: 32px;\n",
              "    }\n",
              "\n",
              "    .colab-df-convert:hover {\n",
              "      background-color: #E2EBFA;\n",
              "      box-shadow: 0px 1px 2px rgba(60, 64, 67, 0.3), 0px 1px 3px 1px rgba(60, 64, 67, 0.15);\n",
              "      fill: #174EA6;\n",
              "    }\n",
              "\n",
              "    [theme=dark] .colab-df-convert {\n",
              "      background-color: #3B4455;\n",
              "      fill: #D2E3FC;\n",
              "    }\n",
              "\n",
              "    [theme=dark] .colab-df-convert:hover {\n",
              "      background-color: #434B5C;\n",
              "      box-shadow: 0px 1px 3px 1px rgba(0, 0, 0, 0.15);\n",
              "      filter: drop-shadow(0px 1px 2px rgba(0, 0, 0, 0.3));\n",
              "      fill: #FFFFFF;\n",
              "    }\n",
              "  </style>\n",
              "\n",
              "      <script>\n",
              "        const buttonEl =\n",
              "          document.querySelector('#df-a2f9f9ad-5477-48ea-ab3c-0eb2fe1f6a82 button.colab-df-convert');\n",
              "        buttonEl.style.display =\n",
              "          google.colab.kernel.accessAllowed ? 'block' : 'none';\n",
              "\n",
              "        async function convertToInteractive(key) {\n",
              "          const element = document.querySelector('#df-a2f9f9ad-5477-48ea-ab3c-0eb2fe1f6a82');\n",
              "          const dataTable =\n",
              "            await google.colab.kernel.invokeFunction('convertToInteractive',\n",
              "                                                     [key], {});\n",
              "          if (!dataTable) return;\n",
              "\n",
              "          const docLinkHtml = 'Like what you see? Visit the ' +\n",
              "            '<a target=\"_blank\" href=https://colab.research.google.com/notebooks/data_table.ipynb>data table notebook</a>'\n",
              "            + ' to learn more about interactive tables.';\n",
              "          element.innerHTML = '';\n",
              "          dataTable['output_type'] = 'display_data';\n",
              "          await google.colab.output.renderOutput(dataTable, element);\n",
              "          const docLink = document.createElement('div');\n",
              "          docLink.innerHTML = docLinkHtml;\n",
              "          element.appendChild(docLink);\n",
              "        }\n",
              "      </script>\n",
              "    </div>\n",
              "  </div>\n",
              "  "
            ]
          },
          "metadata": {},
          "execution_count": 3
        }
      ]
    },
    {
      "cell_type": "code",
      "source": [
        "# add TA features\n",
        "df = add_all_ta_features(df, open=\"Open\", high='High', low=\"Low\", close='Adj Close', volume=\"Volume\", fillna=True)\n",
        "df.info()"
      ],
      "metadata": {
        "colab": {
          "base_uri": "https://localhost:8080/"
        },
        "id": "0kuBHYNDHkXX",
        "outputId": "b414d295-f3bd-4864-d806-5446ebab3bfa"
      },
      "execution_count": 4,
      "outputs": [
        {
          "output_type": "stream",
          "name": "stdout",
          "text": [
            "<class 'pandas.core.frame.DataFrame'>\n",
            "DatetimeIndex: 1362 entries, 2017-01-03 to 2022-05-31\n",
            "Data columns (total 92 columns):\n",
            " #   Column                     Non-Null Count  Dtype  \n",
            "---  ------                     --------------  -----  \n",
            " 0   Open                       1362 non-null   float64\n",
            " 1   High                       1362 non-null   float64\n",
            " 2   Low                        1362 non-null   float64\n",
            " 3   Close                      1362 non-null   float64\n",
            " 4   Adj Close                  1362 non-null   float64\n",
            " 5   Volume                     1362 non-null   int64  \n",
            " 6   volume_adi                 1362 non-null   float64\n",
            " 7   volume_obv                 1362 non-null   int64  \n",
            " 8   volume_cmf                 1362 non-null   float64\n",
            " 9   volume_fi                  1362 non-null   float64\n",
            " 10  volume_em                  1362 non-null   float64\n",
            " 11  volume_sma_em              1362 non-null   float64\n",
            " 12  volume_vpt                 1362 non-null   float64\n",
            " 13  volume_vwap                1362 non-null   float64\n",
            " 14  volume_mfi                 1362 non-null   float64\n",
            " 15  volume_nvi                 1362 non-null   float64\n",
            " 16  volatility_bbm             1362 non-null   float64\n",
            " 17  volatility_bbh             1362 non-null   float64\n",
            " 18  volatility_bbl             1362 non-null   float64\n",
            " 19  volatility_bbw             1362 non-null   float64\n",
            " 20  volatility_bbp             1362 non-null   float64\n",
            " 21  volatility_bbhi            1362 non-null   float64\n",
            " 22  volatility_bbli            1362 non-null   float64\n",
            " 23  volatility_kcc             1362 non-null   float64\n",
            " 24  volatility_kch             1362 non-null   float64\n",
            " 25  volatility_kcl             1362 non-null   float64\n",
            " 26  volatility_kcw             1362 non-null   float64\n",
            " 27  volatility_kcp             1362 non-null   float64\n",
            " 28  volatility_kchi            1362 non-null   float64\n",
            " 29  volatility_kcli            1362 non-null   float64\n",
            " 30  volatility_dcl             1362 non-null   float64\n",
            " 31  volatility_dch             1362 non-null   float64\n",
            " 32  volatility_dcm             1362 non-null   float64\n",
            " 33  volatility_dcw             1362 non-null   float64\n",
            " 34  volatility_dcp             1362 non-null   float64\n",
            " 35  volatility_atr             1362 non-null   float64\n",
            " 36  volatility_ui              1362 non-null   float64\n",
            " 37  trend_macd                 1362 non-null   float64\n",
            " 38  trend_macd_signal          1362 non-null   float64\n",
            " 39  trend_macd_diff            1362 non-null   float64\n",
            " 40  trend_sma_fast             1362 non-null   float64\n",
            " 41  trend_sma_slow             1362 non-null   float64\n",
            " 42  trend_ema_fast             1362 non-null   float64\n",
            " 43  trend_ema_slow             1362 non-null   float64\n",
            " 44  trend_vortex_ind_pos       1362 non-null   float64\n",
            " 45  trend_vortex_ind_neg       1362 non-null   float64\n",
            " 46  trend_vortex_ind_diff      1362 non-null   float64\n",
            " 47  trend_trix                 1362 non-null   float64\n",
            " 48  trend_mass_index           1362 non-null   float64\n",
            " 49  trend_dpo                  1362 non-null   float64\n",
            " 50  trend_kst                  1362 non-null   float64\n",
            " 51  trend_kst_sig              1362 non-null   float64\n",
            " 52  trend_kst_diff             1362 non-null   float64\n",
            " 53  trend_ichimoku_conv        1362 non-null   float64\n",
            " 54  trend_ichimoku_base        1362 non-null   float64\n",
            " 55  trend_ichimoku_a           1362 non-null   float64\n",
            " 56  trend_ichimoku_b           1362 non-null   float64\n",
            " 57  trend_stc                  1362 non-null   float64\n",
            " 58  trend_adx                  1362 non-null   float64\n",
            " 59  trend_adx_pos              1362 non-null   float64\n",
            " 60  trend_adx_neg              1362 non-null   float64\n",
            " 61  trend_cci                  1362 non-null   float64\n",
            " 62  trend_visual_ichimoku_a    1362 non-null   float64\n",
            " 63  trend_visual_ichimoku_b    1362 non-null   float64\n",
            " 64  trend_aroon_up             1362 non-null   float64\n",
            " 65  trend_aroon_down           1362 non-null   float64\n",
            " 66  trend_aroon_ind            1362 non-null   float64\n",
            " 67  trend_psar_up              1362 non-null   float64\n",
            " 68  trend_psar_down            1362 non-null   float64\n",
            " 69  trend_psar_up_indicator    1362 non-null   float64\n",
            " 70  trend_psar_down_indicator  1362 non-null   float64\n",
            " 71  momentum_rsi               1362 non-null   float64\n",
            " 72  momentum_stoch_rsi         1362 non-null   float64\n",
            " 73  momentum_stoch_rsi_k       1362 non-null   float64\n",
            " 74  momentum_stoch_rsi_d       1362 non-null   float64\n",
            " 75  momentum_tsi               1362 non-null   float64\n",
            " 76  momentum_uo                1362 non-null   float64\n",
            " 77  momentum_stoch             1362 non-null   float64\n",
            " 78  momentum_stoch_signal      1362 non-null   float64\n",
            " 79  momentum_wr                1362 non-null   float64\n",
            " 80  momentum_ao                1362 non-null   float64\n",
            " 81  momentum_roc               1362 non-null   float64\n",
            " 82  momentum_ppo               1362 non-null   float64\n",
            " 83  momentum_ppo_signal        1362 non-null   float64\n",
            " 84  momentum_ppo_hist          1362 non-null   float64\n",
            " 85  momentum_pvo               1362 non-null   float64\n",
            " 86  momentum_pvo_signal        1362 non-null   float64\n",
            " 87  momentum_pvo_hist          1362 non-null   float64\n",
            " 88  momentum_kama              1362 non-null   float64\n",
            " 89  others_dr                  1362 non-null   float64\n",
            " 90  others_dlr                 1362 non-null   float64\n",
            " 91  others_cr                  1362 non-null   float64\n",
            "dtypes: float64(90), int64(2)\n",
            "memory usage: 989.6 KB\n"
          ]
        }
      ]
    },
    {
      "cell_type": "code",
      "source": [
        "# data preprocessing - stationarity\n",
        "non_stationaries = []\n",
        "for col in df.columns:\n",
        "  dftest = adfuller(df[col].values)\n",
        "  p_value = dftest[1]\n",
        "  t_test = dftest[0] < dftest[4]['1%']\n",
        "  if p_value > 0.05 or not t_test:\n",
        "    non_stationaries.append(col)\n",
        "print(f\"Non-Stationary Features Found: {len(non_stationaries)}\")"
      ],
      "metadata": {
        "id": "sxt3Csey_JnC",
        "colab": {
          "base_uri": "https://localhost:8080/"
        },
        "outputId": "d8de7166-06f1-4322-89e0-d3ec10ae66c0"
      },
      "execution_count": 5,
      "outputs": [
        {
          "output_type": "stream",
          "name": "stdout",
          "text": [
            "Non-Stationary Features Found: 29\n"
          ]
        }
      ]
    },
    {
      "cell_type": "code",
      "source": [
        "# convert non-stationary to stationary\n",
        "df_stationary = df.copy()\n",
        "df_stationary[non_stationaries] = df_stationary[non_stationaries].pct_change()\n",
        "df_stationary = df_stationary.iloc[1:]\n",
        "df_stationary.shape"
      ],
      "metadata": {
        "colab": {
          "base_uri": "https://localhost:8080/"
        },
        "id": "mn1glWyGkMte",
        "outputId": "d2ec45a2-bbba-4819-da50-9836a637c341"
      },
      "execution_count": 6,
      "outputs": [
        {
          "output_type": "execute_result",
          "data": {
            "text/plain": [
              "(1361, 92)"
            ]
          },
          "metadata": {},
          "execution_count": 6
        }
      ]
    },
    {
      "cell_type": "code",
      "source": [
        "# drop NA cols\n",
        "na_list = df_stationary.columns[df_stationary.isna().any().to_list()]\n",
        "df_stationary.drop(columns=na_list, inplace=True)\n",
        "df_stationary.shape"
      ],
      "metadata": {
        "colab": {
          "base_uri": "https://localhost:8080/"
        },
        "id": "1ETuynOwmZFN",
        "outputId": "9373609b-9523-47c0-b97f-eecc91581522"
      },
      "execution_count": 7,
      "outputs": [
        {
          "output_type": "execute_result",
          "data": {
            "text/plain": [
              "(1361, 80)"
            ]
          },
          "metadata": {},
          "execution_count": 7
        }
      ]
    },
    {
      "cell_type": "code",
      "source": [
        "# handle infinite values\n",
        "df_stationary.replace([np.inf, -np.inf], 0, inplace=True)\n",
        "df_stationary.head()"
      ],
      "metadata": {
        "colab": {
          "base_uri": "https://localhost:8080/",
          "height": 435
        },
        "id": "PkbjKgipnl9l",
        "outputId": "e95076b1-08f9-43d2-c8eb-863109f7d836"
      },
      "execution_count": 8,
      "outputs": [
        {
          "output_type": "execute_result",
          "data": {
            "text/plain": [
              "             Open   High       Low  Close  Adj Close  volume_mfi  volume_nvi  \\\n",
              "Date                                                                           \n",
              "2017-01-04  12.78  12.80 -0.094942  11.85      11.85         0.0         0.0   \n",
              "2017-01-05  11.96  12.09 -0.019776  11.67      11.67         0.0         0.0   \n",
              "2017-01-06  11.70  11.74 -0.036842  11.32      11.32         0.0         0.0   \n",
              "2017-01-09  11.71  12.08  0.043716  11.56      11.56         0.0         0.0   \n",
              "2017-01-10  11.59  11.79 -0.013089  11.49      11.49         0.0         0.0   \n",
              "\n",
              "            volatility_bbm  volatility_bbh  volatility_bbl  ...  momentum_wr  \\\n",
              "Date                                                        ...                \n",
              "2017-01-04       12.350000        0.038911       -0.116732  ...   -90.983594   \n",
              "2017-01-05       12.123334       -0.014123       -0.023329  ...   -89.887624   \n",
              "2017-01-06       11.922500       -0.007763       -0.027018  ...   -88.996759   \n",
              "2017-01-09       11.850000       -0.011637        0.000646  ...   -81.229746   \n",
              "2017-01-10       11.790000       -0.008950       -0.000415  ...   -83.495139   \n",
              "\n",
              "            momentum_ao  momentum_roc  momentum_ppo  momentum_ppo_signal  \\\n",
              "Date                                                                       \n",
              "2017-01-04     0.000000           0.0     -0.624394            -0.124879   \n",
              "2017-01-05     0.000000           0.0     -1.226732            -0.345249   \n",
              "2017-01-06     0.000000           0.0     -1.916831            -0.659566   \n",
              "2017-01-09     0.000000           0.0     -2.289756            -0.985604   \n",
              "2017-01-10    -0.288667           0.0     -2.607109            -1.309905   \n",
              "\n",
              "            momentum_ppo_hist  momentum_kama  others_dr  others_dlr  others_cr  \n",
              "Date                                                                            \n",
              "2017-01-04          -0.499515      -0.058492  -7.782101   -8.101594  -7.782101  \n",
              "2017-01-05          -0.881483      -0.022532  -1.518990   -1.530645  -9.182881  \n",
              "2017-01-06          -1.257265      -0.027227  -2.999146   -3.045041 -11.906620  \n",
              "2017-01-09          -1.304152       0.002666   2.120148    2.097985 -10.038910  \n",
              "2017-01-10          -1.297204      -0.002328  -0.605542   -0.607383 -10.583662  \n",
              "\n",
              "[5 rows x 80 columns]"
            ],
            "text/html": [
              "\n",
              "  <div id=\"df-55b515a6-18e5-4199-ba29-44793220ca27\">\n",
              "    <div class=\"colab-df-container\">\n",
              "      <div>\n",
              "<style scoped>\n",
              "    .dataframe tbody tr th:only-of-type {\n",
              "        vertical-align: middle;\n",
              "    }\n",
              "\n",
              "    .dataframe tbody tr th {\n",
              "        vertical-align: top;\n",
              "    }\n",
              "\n",
              "    .dataframe thead th {\n",
              "        text-align: right;\n",
              "    }\n",
              "</style>\n",
              "<table border=\"1\" class=\"dataframe\">\n",
              "  <thead>\n",
              "    <tr style=\"text-align: right;\">\n",
              "      <th></th>\n",
              "      <th>Open</th>\n",
              "      <th>High</th>\n",
              "      <th>Low</th>\n",
              "      <th>Close</th>\n",
              "      <th>Adj Close</th>\n",
              "      <th>volume_mfi</th>\n",
              "      <th>volume_nvi</th>\n",
              "      <th>volatility_bbm</th>\n",
              "      <th>volatility_bbh</th>\n",
              "      <th>volatility_bbl</th>\n",
              "      <th>...</th>\n",
              "      <th>momentum_wr</th>\n",
              "      <th>momentum_ao</th>\n",
              "      <th>momentum_roc</th>\n",
              "      <th>momentum_ppo</th>\n",
              "      <th>momentum_ppo_signal</th>\n",
              "      <th>momentum_ppo_hist</th>\n",
              "      <th>momentum_kama</th>\n",
              "      <th>others_dr</th>\n",
              "      <th>others_dlr</th>\n",
              "      <th>others_cr</th>\n",
              "    </tr>\n",
              "    <tr>\n",
              "      <th>Date</th>\n",
              "      <th></th>\n",
              "      <th></th>\n",
              "      <th></th>\n",
              "      <th></th>\n",
              "      <th></th>\n",
              "      <th></th>\n",
              "      <th></th>\n",
              "      <th></th>\n",
              "      <th></th>\n",
              "      <th></th>\n",
              "      <th></th>\n",
              "      <th></th>\n",
              "      <th></th>\n",
              "      <th></th>\n",
              "      <th></th>\n",
              "      <th></th>\n",
              "      <th></th>\n",
              "      <th></th>\n",
              "      <th></th>\n",
              "      <th></th>\n",
              "      <th></th>\n",
              "    </tr>\n",
              "  </thead>\n",
              "  <tbody>\n",
              "    <tr>\n",
              "      <th>2017-01-04</th>\n",
              "      <td>12.78</td>\n",
              "      <td>12.80</td>\n",
              "      <td>-0.094942</td>\n",
              "      <td>11.85</td>\n",
              "      <td>11.85</td>\n",
              "      <td>0.0</td>\n",
              "      <td>0.0</td>\n",
              "      <td>12.350000</td>\n",
              "      <td>0.038911</td>\n",
              "      <td>-0.116732</td>\n",
              "      <td>...</td>\n",
              "      <td>-90.983594</td>\n",
              "      <td>0.000000</td>\n",
              "      <td>0.0</td>\n",
              "      <td>-0.624394</td>\n",
              "      <td>-0.124879</td>\n",
              "      <td>-0.499515</td>\n",
              "      <td>-0.058492</td>\n",
              "      <td>-7.782101</td>\n",
              "      <td>-8.101594</td>\n",
              "      <td>-7.782101</td>\n",
              "    </tr>\n",
              "    <tr>\n",
              "      <th>2017-01-05</th>\n",
              "      <td>11.96</td>\n",
              "      <td>12.09</td>\n",
              "      <td>-0.019776</td>\n",
              "      <td>11.67</td>\n",
              "      <td>11.67</td>\n",
              "      <td>0.0</td>\n",
              "      <td>0.0</td>\n",
              "      <td>12.123334</td>\n",
              "      <td>-0.014123</td>\n",
              "      <td>-0.023329</td>\n",
              "      <td>...</td>\n",
              "      <td>-89.887624</td>\n",
              "      <td>0.000000</td>\n",
              "      <td>0.0</td>\n",
              "      <td>-1.226732</td>\n",
              "      <td>-0.345249</td>\n",
              "      <td>-0.881483</td>\n",
              "      <td>-0.022532</td>\n",
              "      <td>-1.518990</td>\n",
              "      <td>-1.530645</td>\n",
              "      <td>-9.182881</td>\n",
              "    </tr>\n",
              "    <tr>\n",
              "      <th>2017-01-06</th>\n",
              "      <td>11.70</td>\n",
              "      <td>11.74</td>\n",
              "      <td>-0.036842</td>\n",
              "      <td>11.32</td>\n",
              "      <td>11.32</td>\n",
              "      <td>0.0</td>\n",
              "      <td>0.0</td>\n",
              "      <td>11.922500</td>\n",
              "      <td>-0.007763</td>\n",
              "      <td>-0.027018</td>\n",
              "      <td>...</td>\n",
              "      <td>-88.996759</td>\n",
              "      <td>0.000000</td>\n",
              "      <td>0.0</td>\n",
              "      <td>-1.916831</td>\n",
              "      <td>-0.659566</td>\n",
              "      <td>-1.257265</td>\n",
              "      <td>-0.027227</td>\n",
              "      <td>-2.999146</td>\n",
              "      <td>-3.045041</td>\n",
              "      <td>-11.906620</td>\n",
              "    </tr>\n",
              "    <tr>\n",
              "      <th>2017-01-09</th>\n",
              "      <td>11.71</td>\n",
              "      <td>12.08</td>\n",
              "      <td>0.043716</td>\n",
              "      <td>11.56</td>\n",
              "      <td>11.56</td>\n",
              "      <td>0.0</td>\n",
              "      <td>0.0</td>\n",
              "      <td>11.850000</td>\n",
              "      <td>-0.011637</td>\n",
              "      <td>0.000646</td>\n",
              "      <td>...</td>\n",
              "      <td>-81.229746</td>\n",
              "      <td>0.000000</td>\n",
              "      <td>0.0</td>\n",
              "      <td>-2.289756</td>\n",
              "      <td>-0.985604</td>\n",
              "      <td>-1.304152</td>\n",
              "      <td>0.002666</td>\n",
              "      <td>2.120148</td>\n",
              "      <td>2.097985</td>\n",
              "      <td>-10.038910</td>\n",
              "    </tr>\n",
              "    <tr>\n",
              "      <th>2017-01-10</th>\n",
              "      <td>11.59</td>\n",
              "      <td>11.79</td>\n",
              "      <td>-0.013089</td>\n",
              "      <td>11.49</td>\n",
              "      <td>11.49</td>\n",
              "      <td>0.0</td>\n",
              "      <td>0.0</td>\n",
              "      <td>11.790000</td>\n",
              "      <td>-0.008950</td>\n",
              "      <td>-0.000415</td>\n",
              "      <td>...</td>\n",
              "      <td>-83.495139</td>\n",
              "      <td>-0.288667</td>\n",
              "      <td>0.0</td>\n",
              "      <td>-2.607109</td>\n",
              "      <td>-1.309905</td>\n",
              "      <td>-1.297204</td>\n",
              "      <td>-0.002328</td>\n",
              "      <td>-0.605542</td>\n",
              "      <td>-0.607383</td>\n",
              "      <td>-10.583662</td>\n",
              "    </tr>\n",
              "  </tbody>\n",
              "</table>\n",
              "<p>5 rows × 80 columns</p>\n",
              "</div>\n",
              "      <button class=\"colab-df-convert\" onclick=\"convertToInteractive('df-55b515a6-18e5-4199-ba29-44793220ca27')\"\n",
              "              title=\"Convert this dataframe to an interactive table.\"\n",
              "              style=\"display:none;\">\n",
              "        \n",
              "  <svg xmlns=\"http://www.w3.org/2000/svg\" height=\"24px\"viewBox=\"0 0 24 24\"\n",
              "       width=\"24px\">\n",
              "    <path d=\"M0 0h24v24H0V0z\" fill=\"none\"/>\n",
              "    <path d=\"M18.56 5.44l.94 2.06.94-2.06 2.06-.94-2.06-.94-.94-2.06-.94 2.06-2.06.94zm-11 1L8.5 8.5l.94-2.06 2.06-.94-2.06-.94L8.5 2.5l-.94 2.06-2.06.94zm10 10l.94 2.06.94-2.06 2.06-.94-2.06-.94-.94-2.06-.94 2.06-2.06.94z\"/><path d=\"M17.41 7.96l-1.37-1.37c-.4-.4-.92-.59-1.43-.59-.52 0-1.04.2-1.43.59L10.3 9.45l-7.72 7.72c-.78.78-.78 2.05 0 2.83L4 21.41c.39.39.9.59 1.41.59.51 0 1.02-.2 1.41-.59l7.78-7.78 2.81-2.81c.8-.78.8-2.07 0-2.86zM5.41 20L4 18.59l7.72-7.72 1.47 1.35L5.41 20z\"/>\n",
              "  </svg>\n",
              "      </button>\n",
              "      \n",
              "  <style>\n",
              "    .colab-df-container {\n",
              "      display:flex;\n",
              "      flex-wrap:wrap;\n",
              "      gap: 12px;\n",
              "    }\n",
              "\n",
              "    .colab-df-convert {\n",
              "      background-color: #E8F0FE;\n",
              "      border: none;\n",
              "      border-radius: 50%;\n",
              "      cursor: pointer;\n",
              "      display: none;\n",
              "      fill: #1967D2;\n",
              "      height: 32px;\n",
              "      padding: 0 0 0 0;\n",
              "      width: 32px;\n",
              "    }\n",
              "\n",
              "    .colab-df-convert:hover {\n",
              "      background-color: #E2EBFA;\n",
              "      box-shadow: 0px 1px 2px rgba(60, 64, 67, 0.3), 0px 1px 3px 1px rgba(60, 64, 67, 0.15);\n",
              "      fill: #174EA6;\n",
              "    }\n",
              "\n",
              "    [theme=dark] .colab-df-convert {\n",
              "      background-color: #3B4455;\n",
              "      fill: #D2E3FC;\n",
              "    }\n",
              "\n",
              "    [theme=dark] .colab-df-convert:hover {\n",
              "      background-color: #434B5C;\n",
              "      box-shadow: 0px 1px 3px 1px rgba(0, 0, 0, 0.15);\n",
              "      filter: drop-shadow(0px 1px 2px rgba(0, 0, 0, 0.3));\n",
              "      fill: #FFFFFF;\n",
              "    }\n",
              "  </style>\n",
              "\n",
              "      <script>\n",
              "        const buttonEl =\n",
              "          document.querySelector('#df-55b515a6-18e5-4199-ba29-44793220ca27 button.colab-df-convert');\n",
              "        buttonEl.style.display =\n",
              "          google.colab.kernel.accessAllowed ? 'block' : 'none';\n",
              "\n",
              "        async function convertToInteractive(key) {\n",
              "          const element = document.querySelector('#df-55b515a6-18e5-4199-ba29-44793220ca27');\n",
              "          const dataTable =\n",
              "            await google.colab.kernel.invokeFunction('convertToInteractive',\n",
              "                                                     [key], {});\n",
              "          if (!dataTable) return;\n",
              "\n",
              "          const docLinkHtml = 'Like what you see? Visit the ' +\n",
              "            '<a target=\"_blank\" href=https://colab.research.google.com/notebooks/data_table.ipynb>data table notebook</a>'\n",
              "            + ' to learn more about interactive tables.';\n",
              "          element.innerHTML = '';\n",
              "          dataTable['output_type'] = 'display_data';\n",
              "          await google.colab.output.renderOutput(dataTable, element);\n",
              "          const docLink = document.createElement('div');\n",
              "          docLink.innerHTML = docLinkHtml;\n",
              "          element.appendChild(docLink);\n",
              "        }\n",
              "      </script>\n",
              "    </div>\n",
              "  </div>\n",
              "  "
            ]
          },
          "metadata": {},
          "execution_count": 8
        }
      ]
    },
    {
      "cell_type": "code",
      "source": [
        "# set target\n",
        "df_stationary[\"Target\"] = -1\n",
        "df_stationary.loc[df_stationary[\"Adj Close\"].shift(-1) > df_stationary[\"Adj Close\"], 'Target'] = 1\n",
        "df_stationary.dropna(inplace=True)"
      ],
      "metadata": {
        "id": "1as0a2AEoHQU"
      },
      "execution_count": 9,
      "outputs": []
    },
    {
      "cell_type": "code",
      "source": [
        "# split target from feature set\n",
        "X = df_stationary.iloc[:,:-1]\n",
        "y = df_stationary.iloc[:, -1]"
      ],
      "metadata": {
        "id": "XIRJQ9g2rRn3"
      },
      "execution_count": 10,
      "outputs": []
    },
    {
      "cell_type": "code",
      "source": [
        "# feature scaling\n",
        "df_sc = df_stationary.copy()\n",
        "X_fs = StandardScaler().fit_transform(X)"
      ],
      "metadata": {
        "id": "5zFMqrpbsXfa"
      },
      "execution_count": 11,
      "outputs": []
    },
    {
      "cell_type": "code",
      "source": [
        "# create train test split\n",
        "X_train, X_test, y_train, y_test = train_test_split(X_fs, y, test_size=0.7, random_state=883)"
      ],
      "metadata": {
        "id": "7SxDYsuBsZUI"
      },
      "execution_count": 12,
      "outputs": []
    },
    {
      "cell_type": "code",
      "source": [
        "# PCA - dimensionality reduction\n",
        "n_components = 8\n",
        "pca = PCA(n_components=n_components)\n",
        "pca_result = pca.fit(X_train)\n",
        "X_train_pca = pca_result.transform(X_train)\n",
        "X_test_pca = pca_result.transform(X_test)"
      ],
      "metadata": {
        "id": "bNK5ki7cscG6"
      },
      "execution_count": 13,
      "outputs": []
    },
    {
      "cell_type": "code",
      "source": [
        "# Calculate the variance explained by Principle Components\n",
        "print(\"Variance of each component: \", pca.explained_variance_ratio_)\n",
        "print(\"\\n Total Variance Explained: \", round(sum(list(pca.explained_variance_ratio_)) * 100, 2))"
      ],
      "metadata": {
        "colab": {
          "base_uri": "https://localhost:8080/"
        },
        "id": "lpY3jCymegPY",
        "outputId": "3b6fa029-7953-4a2b-9b9e-0469c079127d"
      },
      "execution_count": 14,
      "outputs": [
        {
          "output_type": "stream",
          "name": "stdout",
          "text": [
            "Variance of each component:  [0.33921548 0.20621016 0.08753918 0.05074902 0.03989274 0.03323609\n",
            " 0.02684418 0.02305871]\n",
            "\n",
            " Total Variance Explained:  80.67\n"
          ]
        }
      ]
    },
    {
      "cell_type": "code",
      "source": [
        "pca_cols = []\n",
        "for i in range(n_components):\n",
        "  pca_cols.append(f\"col_{i}\")\n",
        "pca_cols"
      ],
      "metadata": {
        "colab": {
          "base_uri": "https://localhost:8080/"
        },
        "id": "S4l5O0B3g3fh",
        "outputId": "8115fb01-adb8-479d-9e9b-83cafddc59e9"
      },
      "execution_count": 15,
      "outputs": [
        {
          "output_type": "execute_result",
          "data": {
            "text/plain": [
              "['col_0', 'col_1', 'col_2', 'col_3', 'col_4', 'col_5', 'col_6', 'col_7']"
            ]
          },
          "metadata": {},
          "execution_count": 15
        }
      ]
    },
    {
      "cell_type": "code",
      "source": [
        "# create new dataframe\n",
        "df_pca = pd.DataFrame(data=X_train_pca, columns=pca_cols)\n",
        "df_pca.head()"
      ],
      "metadata": {
        "colab": {
          "base_uri": "https://localhost:8080/",
          "height": 206
        },
        "id": "zGG1dIgSiSzV",
        "outputId": "fe144e7a-f361-4b22-acfa-fc94c2f2b63f"
      },
      "execution_count": 16,
      "outputs": [
        {
          "output_type": "execute_result",
          "data": {
            "text/plain": [
              "      col_0     col_1     col_2     col_3     col_4     col_5     col_6  \\\n",
              "0  0.077182  1.645838  1.773791 -0.858145 -0.364342  0.225055 -0.463436   \n",
              "1 -7.180006  5.882270 -6.050414  1.722763  0.870275  1.388710  1.953714   \n",
              "2 -4.498013  5.543755  1.155177 -2.575533  0.258185 -0.007386 -0.359458   \n",
              "3 -0.233168  1.492241  0.391339 -0.973712  0.209413 -1.134178 -0.079393   \n",
              "4 -4.263053  6.580600 -0.466939 -0.640465 -0.251391 -0.185667  0.358136   \n",
              "\n",
              "      col_7  \n",
              "0 -0.683355  \n",
              "1 -1.777008  \n",
              "2 -1.830726  \n",
              "3  0.894924  \n",
              "4 -2.157346  "
            ],
            "text/html": [
              "\n",
              "  <div id=\"df-dd32353b-0f16-4411-8186-20dc93bc187f\">\n",
              "    <div class=\"colab-df-container\">\n",
              "      <div>\n",
              "<style scoped>\n",
              "    .dataframe tbody tr th:only-of-type {\n",
              "        vertical-align: middle;\n",
              "    }\n",
              "\n",
              "    .dataframe tbody tr th {\n",
              "        vertical-align: top;\n",
              "    }\n",
              "\n",
              "    .dataframe thead th {\n",
              "        text-align: right;\n",
              "    }\n",
              "</style>\n",
              "<table border=\"1\" class=\"dataframe\">\n",
              "  <thead>\n",
              "    <tr style=\"text-align: right;\">\n",
              "      <th></th>\n",
              "      <th>col_0</th>\n",
              "      <th>col_1</th>\n",
              "      <th>col_2</th>\n",
              "      <th>col_3</th>\n",
              "      <th>col_4</th>\n",
              "      <th>col_5</th>\n",
              "      <th>col_6</th>\n",
              "      <th>col_7</th>\n",
              "    </tr>\n",
              "  </thead>\n",
              "  <tbody>\n",
              "    <tr>\n",
              "      <th>0</th>\n",
              "      <td>0.077182</td>\n",
              "      <td>1.645838</td>\n",
              "      <td>1.773791</td>\n",
              "      <td>-0.858145</td>\n",
              "      <td>-0.364342</td>\n",
              "      <td>0.225055</td>\n",
              "      <td>-0.463436</td>\n",
              "      <td>-0.683355</td>\n",
              "    </tr>\n",
              "    <tr>\n",
              "      <th>1</th>\n",
              "      <td>-7.180006</td>\n",
              "      <td>5.882270</td>\n",
              "      <td>-6.050414</td>\n",
              "      <td>1.722763</td>\n",
              "      <td>0.870275</td>\n",
              "      <td>1.388710</td>\n",
              "      <td>1.953714</td>\n",
              "      <td>-1.777008</td>\n",
              "    </tr>\n",
              "    <tr>\n",
              "      <th>2</th>\n",
              "      <td>-4.498013</td>\n",
              "      <td>5.543755</td>\n",
              "      <td>1.155177</td>\n",
              "      <td>-2.575533</td>\n",
              "      <td>0.258185</td>\n",
              "      <td>-0.007386</td>\n",
              "      <td>-0.359458</td>\n",
              "      <td>-1.830726</td>\n",
              "    </tr>\n",
              "    <tr>\n",
              "      <th>3</th>\n",
              "      <td>-0.233168</td>\n",
              "      <td>1.492241</td>\n",
              "      <td>0.391339</td>\n",
              "      <td>-0.973712</td>\n",
              "      <td>0.209413</td>\n",
              "      <td>-1.134178</td>\n",
              "      <td>-0.079393</td>\n",
              "      <td>0.894924</td>\n",
              "    </tr>\n",
              "    <tr>\n",
              "      <th>4</th>\n",
              "      <td>-4.263053</td>\n",
              "      <td>6.580600</td>\n",
              "      <td>-0.466939</td>\n",
              "      <td>-0.640465</td>\n",
              "      <td>-0.251391</td>\n",
              "      <td>-0.185667</td>\n",
              "      <td>0.358136</td>\n",
              "      <td>-2.157346</td>\n",
              "    </tr>\n",
              "  </tbody>\n",
              "</table>\n",
              "</div>\n",
              "      <button class=\"colab-df-convert\" onclick=\"convertToInteractive('df-dd32353b-0f16-4411-8186-20dc93bc187f')\"\n",
              "              title=\"Convert this dataframe to an interactive table.\"\n",
              "              style=\"display:none;\">\n",
              "        \n",
              "  <svg xmlns=\"http://www.w3.org/2000/svg\" height=\"24px\"viewBox=\"0 0 24 24\"\n",
              "       width=\"24px\">\n",
              "    <path d=\"M0 0h24v24H0V0z\" fill=\"none\"/>\n",
              "    <path d=\"M18.56 5.44l.94 2.06.94-2.06 2.06-.94-2.06-.94-.94-2.06-.94 2.06-2.06.94zm-11 1L8.5 8.5l.94-2.06 2.06-.94-2.06-.94L8.5 2.5l-.94 2.06-2.06.94zm10 10l.94 2.06.94-2.06 2.06-.94-2.06-.94-.94-2.06-.94 2.06-2.06.94z\"/><path d=\"M17.41 7.96l-1.37-1.37c-.4-.4-.92-.59-1.43-.59-.52 0-1.04.2-1.43.59L10.3 9.45l-7.72 7.72c-.78.78-.78 2.05 0 2.83L4 21.41c.39.39.9.59 1.41.59.51 0 1.02-.2 1.41-.59l7.78-7.78 2.81-2.81c.8-.78.8-2.07 0-2.86zM5.41 20L4 18.59l7.72-7.72 1.47 1.35L5.41 20z\"/>\n",
              "  </svg>\n",
              "      </button>\n",
              "      \n",
              "  <style>\n",
              "    .colab-df-container {\n",
              "      display:flex;\n",
              "      flex-wrap:wrap;\n",
              "      gap: 12px;\n",
              "    }\n",
              "\n",
              "    .colab-df-convert {\n",
              "      background-color: #E8F0FE;\n",
              "      border: none;\n",
              "      border-radius: 50%;\n",
              "      cursor: pointer;\n",
              "      display: none;\n",
              "      fill: #1967D2;\n",
              "      height: 32px;\n",
              "      padding: 0 0 0 0;\n",
              "      width: 32px;\n",
              "    }\n",
              "\n",
              "    .colab-df-convert:hover {\n",
              "      background-color: #E2EBFA;\n",
              "      box-shadow: 0px 1px 2px rgba(60, 64, 67, 0.3), 0px 1px 3px 1px rgba(60, 64, 67, 0.15);\n",
              "      fill: #174EA6;\n",
              "    }\n",
              "\n",
              "    [theme=dark] .colab-df-convert {\n",
              "      background-color: #3B4455;\n",
              "      fill: #D2E3FC;\n",
              "    }\n",
              "\n",
              "    [theme=dark] .colab-df-convert:hover {\n",
              "      background-color: #434B5C;\n",
              "      box-shadow: 0px 1px 3px 1px rgba(0, 0, 0, 0.15);\n",
              "      filter: drop-shadow(0px 1px 2px rgba(0, 0, 0, 0.3));\n",
              "      fill: #FFFFFF;\n",
              "    }\n",
              "  </style>\n",
              "\n",
              "      <script>\n",
              "        const buttonEl =\n",
              "          document.querySelector('#df-dd32353b-0f16-4411-8186-20dc93bc187f button.colab-df-convert');\n",
              "        buttonEl.style.display =\n",
              "          google.colab.kernel.accessAllowed ? 'block' : 'none';\n",
              "\n",
              "        async function convertToInteractive(key) {\n",
              "          const element = document.querySelector('#df-dd32353b-0f16-4411-8186-20dc93bc187f');\n",
              "          const dataTable =\n",
              "            await google.colab.kernel.invokeFunction('convertToInteractive',\n",
              "                                                     [key], {});\n",
              "          if (!dataTable) return;\n",
              "\n",
              "          const docLinkHtml = 'Like what you see? Visit the ' +\n",
              "            '<a target=\"_blank\" href=https://colab.research.google.com/notebooks/data_table.ipynb>data table notebook</a>'\n",
              "            + ' to learn more about interactive tables.';\n",
              "          element.innerHTML = '';\n",
              "          dataTable['output_type'] = 'display_data';\n",
              "          await google.colab.output.renderOutput(dataTable, element);\n",
              "          const docLink = document.createElement('div');\n",
              "          docLink.innerHTML = docLinkHtml;\n",
              "          element.appendChild(docLink);\n",
              "        }\n",
              "      </script>\n",
              "    </div>\n",
              "  </div>\n",
              "  "
            ]
          },
          "metadata": {},
          "execution_count": 16
        }
      ]
    },
    {
      "cell_type": "code",
      "source": [
        "# Visualize Principle Components with Scatter Plot\n",
        "fig = plt.figure(figsize=(12, 10))\n",
        "ax = fig.add_subplot(1,1,1)\n",
        "col_1 = \"col_0\"\n",
        "col_2 = \"col_2\"\n",
        "ax.set_xlabel(f\"{col_1}_ Principle Component\", fontsize=15)\n",
        "ax.set_ylabel(f\"{col_2}_ Principle Component\", fontsize=15)\n",
        "ax.set_title(\"PCA on Training Dataset\", fontsize=20)\n",
        "\n",
        "targets = [-1, 1]\n",
        "colors = ['b', 'g']\n",
        "for target, color in zip(targets, colors):\n",
        "    indices_to_keep = y_train == target\n",
        "    indices_to_keep = list(indices_to_keep)\n",
        "    ax.scatter(df_pca.loc[indices_to_keep, col_1],\n",
        "               df_pca.loc[indices_to_keep, col_2],\n",
        "               c = color,\n",
        "               s=50)\n",
        "ax.legend(targets)\n",
        "ax.grid()"
      ],
      "metadata": {
        "colab": {
          "base_uri": "https://localhost:8080/",
          "height": 633
        },
        "id": "oHoWrBOaimUV",
        "outputId": "aa716ddd-fcee-4558-8473-e001523c50e9"
      },
      "execution_count": 17,
      "outputs": [
        {
          "output_type": "display_data",
          "data": {
            "text/plain": [
              "<Figure size 864x720 with 1 Axes>"
            ],
            "image/png": "[encoded data removed]"
          },
          "metadata": {
            "needs_background": "light"
          }
        }
      ]
    },
    {
      "cell_type": "code",
      "source": [
        "# supervised ML - Random Forest Classifier\n",
        "clf = RandomForestClassifier(n_estimators=100, max_depth=4, random_state=883)\n",
        "clf.fit(X_train, y_train)\n",
        "y_pred = clf.predict(X_test)\n",
        "accuracy = accuracy_score(y_test, y_pred)\n",
        "precision = precision_score(y_test, y_pred)\n",
        "print(f\"Test Accuracy: {accuracy}\")\n",
        "print(f\"Test Precision: {precision}\")"
      ],
      "metadata": {
        "id": "-YDdhkKPi5GM",
        "colab": {
          "base_uri": "https://localhost:8080/"
        },
        "outputId": "7baff2bb-36e8-41cb-989f-54301849eea0"
      },
      "execution_count": 22,
      "outputs": [
        {
          "output_type": "stream",
          "name": "stdout",
          "text": [
            "Test Accuracy: 0.577124868835257\n",
            "Test Precision: 0.5375\n"
          ]
        }
      ]
    },
    {
      "cell_type": "code",
      "source": [
        "y_pred_proba = clf.predict_proba(X_test)\n",
        "y_pred_proba"
      ],
      "metadata": {
        "colab": {
          "base_uri": "https://localhost:8080/"
        },
        "id": "1-KHCvgMU7Gq",
        "outputId": "db0bfc27-4996-440e-b379-8a260ecbf60a"
      },
      "execution_count": 23,
      "outputs": [
        {
          "output_type": "execute_result",
          "data": {
            "text/plain": [
              "array([[0.56365712, 0.43634288],\n",
              "       [0.66314125, 0.33685875],\n",
              "       [0.68634931, 0.31365069],\n",
              "       ...,\n",
              "       [0.66610487, 0.33389513],\n",
              "       [0.49531939, 0.50468061],\n",
              "       [0.60633401, 0.39366599]])"
            ]
          },
          "metadata": {},
          "execution_count": 23
        }
      ]
    },
    {
      "cell_type": "code",
      "source": [
        "train_scores, test_scores = list(), list()\n",
        "values = [i for i in range(1,200)]\n",
        "for i in values:\n",
        "  model_1 = RandomForestClassifier(n_estimators=i, max_depth=4, random_state=883)\n",
        "  model_1.fit(X_train, y_train)\n",
        "  \n",
        "  train_prediction = model_1.predict(X_train)\n",
        "  train_accuracy = accuracy_score(y_train, train_prediction)\n",
        "  train_scores.append(train_accuracy)\n",
        "\n",
        "  test_prediction = model_1.predict(X_test)\n",
        "  test_accuracy = accuracy_score(y_test, test_prediction)\n",
        "  test_scores.append(test_accuracy)"
      ],
      "metadata": {
        "id": "D8XA6bTuVt6W"
      },
      "execution_count": 24,
      "outputs": []
    },
    {
      "cell_type": "code",
      "source": [
        "plt.plot(train_scores)\n",
        "plt.plot(test_scores)\n",
        "plt.show()"
      ],
      "metadata": {
        "colab": {
          "base_uri": "https://localhost:8080/",
          "height": 265
        },
        "id": "ZJpyhIaaYZxI",
        "outputId": "c990f906-0db7-4bce-e971-54d3fc08ac71"
      },
      "execution_count": 26,
      "outputs": [
        {
          "output_type": "display_data",
          "data": {
            "text/plain": [
              "<Figure size 432x288 with 1 Axes>"
            ],
            "image/png": "[encoded data removed]"
          },
          "metadata": {
            "needs_background": "light"
          }
        }
      ]
    },
    {
      "cell_type": "code",
      "source": [
        "I "
      ],
      "metadata": {
        "id": "CVoB3x79YvL2"
      },
      "execution_count": null,
      "outputs": []
    }
  ]
}